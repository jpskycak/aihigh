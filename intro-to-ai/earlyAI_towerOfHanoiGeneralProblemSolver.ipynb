{
  "nbformat": 4,
  "nbformat_minor": 0,
  "metadata": {
    "colab": {
      "name": "earlyAI_towerOfHanoiGeneralProblemSolver.ipynb",
      "version": "0.3.2",
      "provenance": [],
      "collapsed_sections": [],
      "toc_visible": true,
      "include_colab_link": true
    },
    "kernelspec": {
      "name": "python3",
      "display_name": "Python 3"
    }
  },
  "cells": [
    {
      "cell_type": "markdown",
      "metadata": {
        "id": "view-in-github",
        "colab_type": "text"
      },
      "source": [
        "<a href=\"https://colab.research.google.com/github/jpskycak/aihigh/blob/master/intro-to-ai/earlyAI_towerOfHanoiGeneralProblemSolver.ipynb\" target=\"_parent\"><img src=\"https://colab.research.google.com/assets/colab-badge.svg\" alt=\"Open In Colab\"/></a>"
      ]
    },
    {
      "cell_type": "markdown",
      "metadata": {
        "id": "XTxGrq-MYVq9",
        "colab_type": "text"
      },
      "source": [
        "#Setup\n",
        "\n",
        "In order to run the notebook,\n",
        "\n",
        "1. sign into your Google account (top-right) and\n",
        "2. make a copy of the notebook in your Google Drive by pressing the <img src=\"https://i.imgur.com/chlzY9P.png\" alt=\"Drawing\" width=\"100\"/> button in the upper-left menu."
      ]
    },
    {
      "cell_type": "markdown",
      "metadata": {
        "id": "G4UuI9OEZRgE",
        "colab_type": "text"
      },
      "source": [
        "---\n",
        "\n",
        "# General Problem Solver"
      ]
    },
    {
      "cell_type": "markdown",
      "metadata": {
        "id": "-mHJWqY2egth",
        "colab_type": "text"
      },
      "source": [
        "The main idea of General Problem Solver is that finding the solution to a problem often amounts to finding the correct  sequence of actions to achieve some result.\n",
        "\n",
        "For example, in Towers of Hanoi, each action involves taking a disk off some tower and placing it on another tower. There is some sequence of these actions which will transfer all the disks on the leftmost tower to the rightmost tower.\n",
        "\n",
        "If we can find a clever way to search through all the possible action sequences, then we can check each result and stop once we've found the action sequence that gives us the desired result."
      ]
    },
    {
      "cell_type": "markdown",
      "metadata": {
        "id": "qUmhsjFxm6Rp",
        "colab_type": "text"
      },
      "source": [
        "---\n",
        "\n",
        "# Tower Configurations as Lists\n",
        "\n",
        "Before we get too far into the trenches, we need to figure out how to represent tower configurations in a way that we can operate on via code. Let's work this out for the case of 3 towers.\n",
        "\n",
        "One option is to use a list where each entry represents a tower:\n",
        "\n",
        "> `config = [tower_1, tower_2, tower_3]`\n",
        "\n",
        "Each tower itself can be a list of disks, where the first entry is the top disk. Since `tower_1` initially contains all the disks, we have\n",
        "\n",
        "> `tower_1 = [small_disk, medium_disk, large_disk]`\n",
        "\n",
        "> `tower_2 = []`\n",
        "\n",
        "> `tower_3 = []`\n",
        "\n",
        "However, how should the computer know the differences in sizes of disks, based on their names? The word \"small\" means something to us, but not to the computer.\n",
        "\n",
        "Instead of labeling disk size by the adjectives \"small\", \"medium\", and \"large\", let's label disk size by numbers. The smallest disk will be indicated by `1`, the medium tower by `2`, and the large disk by `3`. Then we have:\n",
        "\n",
        "> `tower_1 = [1,2,3]`\n",
        "\n",
        "> `tower_2 = []`\n",
        "\n",
        "> `tower_3 = []`\n",
        "\n",
        "We can even forget about the tower names altogether, and put the tower lists as entries of the configuration list itself. Then we have a nice setup in which the configuration is condensed to a single line:\n",
        "\n",
        "> `config = [[1,2,3], [], []]`"
      ]
    },
    {
      "cell_type": "markdown",
      "metadata": {
        "id": "sxGLAWL23vRn",
        "colab_type": "text"
      },
      "source": [
        "---\n",
        "\n",
        "## Exercise 1\n",
        "\n",
        "What would the initial configuration be for the case of 4 towers?"
      ]
    },
    {
      "cell_type": "code",
      "metadata": {
        "id": "L1doDQIvcpC8",
        "colab_type": "code",
        "outputId": "90d4a773-93bf-420a-ba1e-a30414e47800",
        "colab": {
          "base_uri": "https://localhost:8080/",
          "height": 34
        }
      },
      "source": [
        "config = [[1,2,3],[],[]] # change this to the configuration in the case of 4 towers\n",
        "\n",
        "if ''.join([''.join([str(n*3+7) for n in x]+['5']) for x in config])=='101316195555':\n",
        "  print('Correct!')\n",
        "else:\n",
        "  print('Incorrect; try again.')"
      ],
      "execution_count": 0,
      "outputs": [
        {
          "output_type": "stream",
          "text": [
            "Incorrect; try again.\n"
          ],
          "name": "stdout"
        }
      ]
    },
    {
      "cell_type": "markdown",
      "metadata": {
        "id": "iqm5j_L6iPS8",
        "colab_type": "text"
      },
      "source": [
        "---\n",
        "\n",
        "## Exercise 2\n",
        "\n",
        "Starting with the initial configuration for 3 towers (which is `[[1,2,3], [], []]`), move the smallest disk off of the first tower and put it on the second tower. What is the resulting configuration?"
      ]
    },
    {
      "cell_type": "code",
      "metadata": {
        "id": "OiTkCR6WjcpK",
        "colab_type": "code",
        "outputId": "9c6bd68d-4efc-4df0-f9c1-756c39c240bb",
        "colab": {
          "base_uri": "https://localhost:8080/",
          "height": 34
        }
      },
      "source": [
        "config = [[1,2,3],[],[]] # change this to the configuration that results from moving the smallest disk\n",
        "                         # off the first tower and putting it on the third tower\n",
        "\n",
        "if ''.join([''.join([str(n*3+7) for n in x]+['5']) for x in config])=='131651055':\n",
        "  print('Correct!')\n",
        "else:\n",
        "  print('Incorrect; try again.')"
      ],
      "execution_count": 0,
      "outputs": [
        {
          "output_type": "stream",
          "text": [
            "Incorrect; try again.\n"
          ],
          "name": "stdout"
        }
      ]
    },
    {
      "cell_type": "markdown",
      "metadata": {
        "id": "V2MSt5jinYnQ",
        "colab_type": "text"
      },
      "source": [
        "---\n",
        "\n",
        "# Actions as Functions\n",
        "\n",
        "Now that we have a way to represent tower/disk configurations, we need to come up with a way to operate on those configurations. We know how to do the operations by hand, but we will need to come up with a way to have the computer do the operations on its own.\n",
        "\n",
        "Hence, we will create a function which tells the computer to move the top disk off of one tower and put it on another tower."
      ]
    },
    {
      "cell_type": "markdown",
      "metadata": {
        "id": "l5rxvOR7wg3k",
        "colab_type": "text"
      },
      "source": [
        "---\n",
        "\n",
        "## Exercise 3\n",
        "\n",
        "Complete the function below, which moves the top disk off of one tower and puts it on another tower."
      ]
    },
    {
      "cell_type": "code",
      "metadata": {
        "id": "Q4RBucNLwlUz",
        "colab_type": "code",
        "colab": {}
      },
      "source": [
        "def move(i,j,config):\n",
        "  new_config = config.copy() # creates a copy of config that we will modify and output\n",
        "  ###\n",
        "  #\n",
        "  # your code here - remove top disk from tower i and put it on tower j\n",
        "  #\n",
        "  ###\n",
        "  return new_config"
      ],
      "execution_count": 0,
      "outputs": []
    },
    {
      "cell_type": "markdown",
      "metadata": {
        "id": "9Wi3UDOa5-7b",
        "colab_type": "text"
      },
      "source": [
        "Some test cases are provided below to help you check your function. You can run all the tests by executing the code below.\n",
        "\n",
        "> 1) &nbsp; `move(1, 3, [[1,2,3],[], []])` should output `[[2,3], [], [1]]`\n",
        "\n",
        "> 2) &nbsp; `move(3, 2, [[3], [2], [1]])` should output `[[3], [1,2], []]`"
      ]
    },
    {
      "cell_type": "code",
      "metadata": {
        "id": "aTtInkQk6CE_",
        "colab_type": "code",
        "outputId": "13ac6cd3-d29a-4904-8749-39528aff4f5b",
        "colab": {
          "base_uri": "https://localhost:8080/",
          "height": 51
        }
      },
      "source": [
        "if move(1,3,[[1,2,3], [], []]) == [[2,3], [], [1]]:\n",
        "  print('Test 1 - SUCCEEDED')\n",
        "else:\n",
        "  print('Test 1 - FAILED')\n",
        "  \n",
        "if move(3, 2, [[3], [2], [1]]) == [[3], [1,2], []]:\n",
        "  print('Test 2 - SUCCEEDED')\n",
        "else:\n",
        "  print('Test 2 - FAILED')"
      ],
      "execution_count": 9,
      "outputs": [
        {
          "output_type": "stream",
          "text": [
            "Test 1 - FAILED\n",
            "Test 2 - FAILED\n"
          ],
          "name": "stdout"
        }
      ]
    },
    {
      "cell_type": "markdown",
      "metadata": {
        "id": "G3t9ZgLXyHYy",
        "colab_type": "text"
      },
      "source": [
        "---\n",
        "\n",
        "# Enumerating Actions\n",
        "\n",
        "We will be repeatedly applying our `move` function to check all possible moves, until we find a result where all the disks are stacked on the last tower.\n",
        "\n",
        "As such, we first need to create a function which lists all the possible configurations that could result from a move on some initial configuration."
      ]
    },
    {
      "cell_type": "markdown",
      "metadata": {
        "id": "pZv_ee-NahWq",
        "colab_type": "text"
      },
      "source": [
        "---\n",
        "\n",
        "## Exercise 4\n",
        "\n",
        "Complete the function below, which lists all the possible configurations that could result from a move on some initial configuration.\n",
        "\n",
        "*  Make sure there are no duplicates in the output list.\n",
        "* Make sure the moves follow the rules of the game: only one disk may be moved off the top of one tower and placed onto another tower whose top disk is larger."
      ]
    },
    {
      "cell_type": "code",
      "metadata": {
        "id": "hPUaEERrAxRO",
        "colab_type": "code",
        "colab": {}
      },
      "source": [
        "def possibilities(config):\n",
        "  output_list = []\n",
        "  ###\n",
        "  #\n",
        "  # your code here\n",
        "  #\n",
        "  ###\n",
        "  return output_list"
      ],
      "execution_count": 0,
      "outputs": []
    },
    {
      "cell_type": "markdown",
      "metadata": {
        "id": "HOv928dlzf-m",
        "colab_type": "text"
      },
      "source": [
        "Some test cases are provided below to help you check your function. You can run all the tests by executing the code below.\n",
        "\n",
        "> 1) &nbsp; `possibilities([[1,2,3], [], []])` should output `[[[2, 3], [1], []], [[2, 3], [], [1]]]` (in some order)\n",
        "\n",
        "> 2) &nbsp; `possibilities([[3], [1], [2]])` should output `[[[1, 3], [], [2]], [[3], [], [1, 2]], [[2, 3], [1], []]]` (in some order)"
      ]
    },
    {
      "cell_type": "code",
      "metadata": {
        "id": "Mh9rOYunzZbG",
        "colab_type": "code",
        "colab": {
          "base_uri": "https://localhost:8080/",
          "height": 51
        },
        "outputId": "e9813a2a-c31c-43ca-89cc-b3227881bd3b"
      },
      "source": [
        "import collections\n",
        "\n",
        "def counts(inList):\n",
        "  return collections.Counter([str(x) for x in inList])\n",
        "  \n",
        "if counts(possibilities([[1,2,3], [], []])) == counts([[[2, 3], [1], []], [[2, 3], [], [1]]]):\n",
        "  print('Test 1 - SUCCEEDED')\n",
        "else:\n",
        "  print('Test 1 - FAILED')\n",
        "  \n",
        "if counts(possibilities([[3],[1],[2]])) == counts([[[1, 3], [], [2]], [[3], [], [1, 2]], [[2, 3], [1], []]]):\n",
        "  print('Test 2 - SUCCEEDED')\n",
        "else:\n",
        "  print('Test 2 - FAILED')"
      ],
      "execution_count": 10,
      "outputs": [
        {
          "output_type": "stream",
          "text": [
            "Test 1 - FAILED\n",
            "Test 2 - FAILED\n"
          ],
          "name": "stdout"
        }
      ]
    },
    {
      "cell_type": "markdown",
      "metadata": {
        "id": "fbTI6wNx1NIV",
        "colab_type": "text"
      },
      "source": [
        "---\n",
        "\n",
        "With our `possibilities()` function, we will surely be able to keep generating possibilities until we solve the puzzle.\n",
        "\n",
        "However, once we solve the puzzle, how will we know what sequence of moves we took to get there? We need to keep track of the moves as we generate possibilities.\n",
        "\n",
        "To do this, let's keep track of configurations and action sequences together in dictionaries.\n",
        "\n",
        "For example, the initial configuration would have an empty move sequence, so we would represent it as\n",
        "\n",
        "> `{'config': [[1,2,3], [], []], 'moves': []}`\n",
        "\n",
        "Say we moved the top disk from the first tower to the third tower. Then we would have the following:\n",
        "\n",
        "> `{'config': [[2,3], [], [1]], 'moves': [(1,3)]}`\n",
        "\n",
        "If we continued and moved the next top disk on the first tower to the second tower, we would have\n",
        "\n",
        "> `{'config': [[3], [2], [1]], 'moves': [(1,3),(1,2)]}`\n",
        "\n",
        "And if we put the disk from the third tower onto the second tower, we would have\n",
        "\n",
        "> `{'config': [[3], [1,2], []], 'moves': [(1,3),(1,2),(3,2)]}`\n"
      ]
    },
    {
      "cell_type": "markdown",
      "metadata": {
        "id": "L69LcfyN0Jmt",
        "colab_type": "text"
      },
      "source": [
        "---\n",
        "\n",
        "## Exercise 5\n",
        "\n",
        "Modify the `possibilities()` function so that it keeps track of configurations and moves together in dictionaries."
      ]
    },
    {
      "cell_type": "code",
      "metadata": {
        "id": "GnxfhfBuA27f",
        "colab_type": "code",
        "colab": {}
      },
      "source": [
        "def possibilities(configMoves):\n",
        "  output_list = []\n",
        "  ###\n",
        "  #\n",
        "  # your code here\n",
        "  #\n",
        "  ###\n",
        "  return output_list"
      ],
      "execution_count": 0,
      "outputs": []
    },
    {
      "cell_type": "markdown",
      "metadata": {
        "id": "ExAONKQY6Spc",
        "colab_type": "text"
      },
      "source": [
        "Some test cases are provided below to help you check your function. You can run all the tests by executing the code below.\n",
        "\n",
        "> 1) &nbsp; `possibilities({'config': [[1,2,3], [], []], 'moves': []})` should output\n",
        "\n",
        "> `[{'config': [[2, 3], [1], []], 'moves': [(1,2)]},`\n",
        "\n",
        "> `{'config': [[2, 3], [], [1]], 'moves': [(1,3)]}]`\n",
        "\n",
        "> (in some order)\n",
        "\n",
        "> &nbsp;\n",
        "\n",
        "> 2) &nbsp; `possibilities({'config': [[3], [1], [2]], 'moves':[(1,2),(1,3)]})` should output\n",
        "\n",
        "> `[{'config': [[1, 3], [], [2]], 'moves': [(1,2),(1,3),(2,1)]},`\n",
        "\n",
        ">`{'config': [[3], [], [1, 2]], 'moves': [(1,2),(1,3),(2,3)]},`\n",
        "\n",
        "> `{'config': [[2, 3], [1], []], 'moves': [(1,2),(1,3),(3,1)]}]`\n",
        "\n",
        "> (in some order)"
      ]
    },
    {
      "cell_type": "code",
      "metadata": {
        "id": "e2TU2LxJBaC7",
        "colab_type": "code",
        "colab": {
          "base_uri": "https://localhost:8080/",
          "height": 51
        },
        "outputId": "526bf7a4-b8f7-4c17-ad85-5d19c76b6e60"
      },
      "source": [
        "import collections\n",
        "\n",
        "def counts(dlist):\n",
        "  stringList = [str(d['config'])+str(d['moves']) for d in dlist]\n",
        "  return collections.Counter([str(x) for x in stringList])\n",
        "  \n",
        "if counts(possibilities({'config': [[1,2,3], [], []], 'moves': []})) == counts(\n",
        "[{'config': [[2, 3], [1], []], 'moves': [(1, 2)]},\n",
        " {'config': [[2, 3], [], [1]], 'moves': [(1, 3)]}]):\n",
        "  print('Test 1 - SUCCEEDED')\n",
        "else:\n",
        "  print('Test 1 - FAILED')\n",
        "  \n",
        "if counts(possibilities({'config': [[3], [1], [2]], 'moves':[(1,2),(1,3)]})) == counts(\n",
        "[{'config': [[1, 3], [], [2]], 'moves': [(1, 2), (1, 3), (2, 1)]},\n",
        " {'config': [[3], [], [1, 2]], 'moves': [(1, 2), (1, 3), (2, 3)]},\n",
        " {'config': [[2, 3], [1], []], 'moves': [(1, 2), (1, 3), (3, 1)]}]):\n",
        "  print('Test 2 - SUCCEEDED')\n",
        "else:\n",
        "  print('Test 2 - FAILED')"
      ],
      "execution_count": 11,
      "outputs": [
        {
          "output_type": "stream",
          "text": [
            "Test 1 - FAILED\n",
            "Test 2 - FAILED\n"
          ],
          "name": "stdout"
        }
      ]
    },
    {
      "cell_type": "markdown",
      "metadata": {
        "id": "gY9EPNOTnibk",
        "colab_type": "text"
      },
      "source": [
        "---\n",
        "\n",
        "# Searching for the Solution\n",
        "\n",
        "Now that we have a function in place to generate all possibilities of moves and keep track of the sequences of moves as we go, we can search for the solution.\n",
        "\n",
        "We can do this with a `while` loop -- we will start with a list of configurations containing just the initial state, and `while` this list does not contain the final configuration, we will generate all possibilities arising from configurations in this list. We will add any new configurations to the list, and the process will be repeated until the final configuration appears in the list."
      ]
    },
    {
      "cell_type": "markdown",
      "metadata": {
        "id": "IEF0VML3EUaE",
        "colab_type": "text"
      },
      "source": [
        "---\n",
        "\n",
        "## Exercise 6\n",
        "\n",
        "Complete the `while` loop in the code below. In each loop, you should use the `possibilities()` function to find all the possible moves starting from any configuration in `config_list`, and update `config_list` with any new configurations. (You should update `configMoves_list` as well.)"
      ]
    },
    {
      "cell_type": "code",
      "metadata": {
        "id": "_4d_fAzAnhhe",
        "colab_type": "code",
        "colab": {}
      },
      "source": [
        "def solution(N,iteration_limit=1000):\n",
        "\n",
        "  initial_config = [list(range(1,N+1)),[],[]]\n",
        "  final_config = [[],[],list(range(1,N+1))]\n",
        "\n",
        "  configMoves_list = [{'config':initial_config, 'moves':[]}]\n",
        "  config_list = [initial_config]\n",
        "\n",
        "  counter = 0\n",
        "  while final_config not in config_list:\n",
        "\n",
        "    ###\n",
        "    #\n",
        "    # your code here -- update config_list and configMoves_list\n",
        "    #\n",
        "    ###\n",
        "\n",
        "    counter += 1\n",
        "    if counter > iteration_limit: # limit the while loop to a million executions\n",
        "      print('reached iteration limit')\n",
        "      break\n",
        "\n",
        "  move_sequence = []\n",
        "  for configMoves in configMoves_list:\n",
        "    if configMoves['config'] == final_config:\n",
        "      move_sequence = configMoves['moves']\n",
        "  return move_sequence"
      ],
      "execution_count": 0,
      "outputs": []
    },
    {
      "cell_type": "markdown",
      "metadata": {
        "id": "azXhf0vi6lMU",
        "colab_type": "text"
      },
      "source": [
        "check your solution"
      ]
    },
    {
      "cell_type": "code",
      "metadata": {
        "id": "kgIIkLud6mpC",
        "colab_type": "code",
        "colab": {
          "base_uri": "https://localhost:8080/",
          "height": 187
        },
        "outputId": "9b20a051-5bfa-4c25-e687-34d65c7079fa"
      },
      "source": [
        "def check(N):\n",
        "  config = [list(range(1,N+1)),[],[]]\n",
        "  for (i,j) in solution(N):\n",
        "    config = move(i,j,config)\n",
        "  if config == [[],[],list(range(1,N+1))]:\n",
        "    print('Case of N='+str(N)+' disks -- SUCCEEDED')\n",
        "  else:\n",
        "    print('Case of N='+str(N)+' disks -- FAILED')\n",
        "    \n",
        "for N in range(2,7):\n",
        "  check(N)"
      ],
      "execution_count": 21,
      "outputs": [
        {
          "output_type": "stream",
          "text": [
            "reached iteration limit\n",
            "Case of N=2 disks -- FAILED\n",
            "reached iteration limit\n",
            "Case of N=3 disks -- FAILED\n",
            "reached iteration limit\n",
            "Case of N=4 disks -- FAILED\n",
            "reached iteration limit\n",
            "Case of N=5 disks -- FAILED\n",
            "reached iteration limit\n",
            "Case of N=6 disks -- FAILED\n"
          ],
          "name": "stdout"
        }
      ]
    },
    {
      "cell_type": "markdown",
      "metadata": {
        "id": "SS4UIEpcBVHy",
        "colab_type": "text"
      },
      "source": [
        "# Visualizing Results"
      ]
    },
    {
      "cell_type": "code",
      "metadata": {
        "id": "WHf8rq70BX-e",
        "colab_type": "code",
        "colab": {}
      },
      "source": [
        "# convert action sequence into a visualization"
      ],
      "execution_count": 0,
      "outputs": []
    },
    {
      "cell_type": "markdown",
      "metadata": {
        "id": "Ul2V4oD2gFuQ",
        "colab_type": "text"
      },
      "source": [
        ""
      ]
    }
  ]
}