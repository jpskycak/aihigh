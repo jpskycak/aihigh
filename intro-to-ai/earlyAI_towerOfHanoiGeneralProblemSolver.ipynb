{
  "nbformat": 4,
  "nbformat_minor": 0,
  "metadata": {
    "colab": {
      "name": "earlyAI_towerOfHanoiGeneralProblemSolver.ipynb",
      "version": "0.3.2",
      "provenance": [],
      "collapsed_sections": [],
      "toc_visible": true,
      "include_colab_link": true
    },
    "kernelspec": {
      "name": "python3",
      "display_name": "Python 3"
    }
  },
  "cells": [
    {
      "cell_type": "markdown",
      "metadata": {
        "id": "view-in-github",
        "colab_type": "text"
      },
      "source": [
        "<a href=\"https://colab.research.google.com/github/jpskycak/aihigh/blob/master/intro-to-ai/earlyAI_towerOfHanoiGeneralProblemSolver.ipynb\" target=\"_parent\"><img src=\"https://colab.research.google.com/assets/colab-badge.svg\" alt=\"Open In Colab\"/></a>"
      ]
    },
    {
      "cell_type": "markdown",
      "metadata": {
        "id": "XTxGrq-MYVq9",
        "colab_type": "text"
      },
      "source": [
        "#Setup\n",
        "\n",
        "In order to run the notebook,\n",
        "\n",
        "1. sign into your Google account (top-right) and\n",
        "2. make a copy of the notebook in your Google Drive by pressing the <img src=\"https://i.imgur.com/chlzY9P.png\" alt=\"Drawing\" width=\"100\"/> button in the upper-left menu."
      ]
    },
    {
      "cell_type": "markdown",
      "metadata": {
        "id": "G4UuI9OEZRgE",
        "colab_type": "text"
      },
      "source": [
        "---\n",
        "\n",
        "# General Problem Solver"
      ]
    },
    {
      "cell_type": "markdown",
      "metadata": {
        "id": "-mHJWqY2egth",
        "colab_type": "text"
      },
      "source": [
        "The main idea of General Problem Solver is that finding the solution to a problem often amounts to finding the correct  sequence of actions to achieve some result.\n",
        "\n",
        "For example, in Towers of Hanoi, each action involves taking a disk off some tower and placing it on another tower. There is some sequence of these actions which will transfer all the disks on the leftmost tower to the rightmost tower.\n",
        "\n",
        "If we can find a clever way to search through all the possible action sequences, then we can check each result and stop once we've found the action sequence that gives us the desired result."
      ]
    },
    {
      "cell_type": "markdown",
      "metadata": {
        "id": "qUmhsjFxm6Rp",
        "colab_type": "text"
      },
      "source": [
        "---\n",
        "\n",
        "# Tower Configurations as Lists\n",
        "\n",
        "Before we get too far into the trenches, we need to figure out how to represent tower configurations in a way that we can operate on via code. Let's work this out for the case of 3 towers.\n",
        "\n",
        "One option is to use a list where each entry represents a tower:\n",
        "\n",
        "> `config = [tower_1, tower_2, tower_3]`\n",
        "\n",
        "Each tower itself can be a list of disks, where the first entry is the top disk. Since `tower_1` initially contains all the disks, we have\n",
        "\n",
        "> `tower_1 = [small_disk, medium_disk, large_disk]`\n",
        "\n",
        "> `tower_2 = []`\n",
        "\n",
        "> `tower_3 = []`\n",
        "\n",
        "However, how should the computer know the differences in sizes of disks, based on their names? The word \"small\" means something to us, but not to the computer.\n",
        "\n",
        "Instead of labeling disk size by the adjectives \"small\", \"medium\", and \"large\", let's label disk size by numbers. The smallest disk will be indicated by `1`, the medium tower by `2`, and the large disk by `3`. Then we have:\n",
        "\n",
        "> `tower_1 = [1,2,3]`\n",
        "\n",
        "> `tower_2 = []`\n",
        "\n",
        "> `tower_3 = []`\n",
        "\n",
        "We can even forget about the tower names altogether, and put the tower lists as entries of the configuration list itself. Then we have a nice setup in which the configuration is condensed to a single line:\n",
        "\n",
        "> `config = [[1,2,3], [], []]`"
      ]
    },
    {
      "cell_type": "markdown",
      "metadata": {
        "id": "sxGLAWL23vRn",
        "colab_type": "text"
      },
      "source": [
        "---\n",
        "\n",
        "## Exercise 1\n",
        "\n",
        "What would the initial configuration be for the case of 4 towers?"
      ]
    },
    {
      "cell_type": "code",
      "metadata": {
        "id": "L1doDQIvcpC8",
        "colab_type": "code",
        "outputId": "90d4a773-93bf-420a-ba1e-a30414e47800",
        "colab": {
          "base_uri": "https://localhost:8080/",
          "height": 34
        }
      },
      "source": [
        "config = [[1,2,3],[],[]] # change this to the configuration in the case of 4 towers\n",
        "\n",
        "if ''.join([''.join([str(n*3+7) for n in x]+['5']) for x in config])=='101316195555':\n",
        "  print('Correct!')\n",
        "else:\n",
        "  print('Incorrect; try again.')"
      ],
      "execution_count": 0,
      "outputs": [
        {
          "output_type": "stream",
          "text": [
            "Incorrect; try again.\n"
          ],
          "name": "stdout"
        }
      ]
    },
    {
      "cell_type": "markdown",
      "metadata": {
        "id": "iqm5j_L6iPS8",
        "colab_type": "text"
      },
      "source": [
        "---\n",
        "\n",
        "## Exercise 2\n",
        "\n",
        "Starting with the initial configuration for 3 towers (which is `[[1,2,3], [], []]`), move the smallest disk off of the first tower and put it on the second tower. What is the resulting configuration?"
      ]
    },
    {
      "cell_type": "code",
      "metadata": {
        "id": "OiTkCR6WjcpK",
        "colab_type": "code",
        "outputId": "9c6bd68d-4efc-4df0-f9c1-756c39c240bb",
        "colab": {
          "base_uri": "https://localhost:8080/",
          "height": 34
        }
      },
      "source": [
        "config = [[1,2,3],[],[]] # change this to the configuration that results from moving the smallest disk\n",
        "                         # off the first tower and putting it on the third tower\n",
        "\n",
        "if ''.join([''.join([str(n*3+7) for n in x]+['5']) for x in config])=='131651055':\n",
        "  print('Correct!')\n",
        "else:\n",
        "  print('Incorrect; try again.')"
      ],
      "execution_count": 0,
      "outputs": [
        {
          "output_type": "stream",
          "text": [
            "Incorrect; try again.\n"
          ],
          "name": "stdout"
        }
      ]
    },
    {
      "cell_type": "markdown",
      "metadata": {
        "id": "V2MSt5jinYnQ",
        "colab_type": "text"
      },
      "source": [
        "---\n",
        "\n",
        "# Actions as Functions\n",
        "\n",
        "Now that we have a way to represent tower/disk configurations, we need to come up with a way to operate on those configurations. We know how to do the operations by hand, but we will need to come up with a way to have the computer do the operations on its own.\n",
        "\n",
        "Hence, we will create a function which tells the computer to move the top disk off of one tower and put it on another tower."
      ]
    },
    {
      "cell_type": "markdown",
      "metadata": {
        "id": "l5rxvOR7wg3k",
        "colab_type": "text"
      },
      "source": [
        "---\n",
        "\n",
        "## Exercise 3\n",
        "\n",
        "Complete the function below, which moves the top disk off of one tower and puts it on another tower."
      ]
    },
    {
      "cell_type": "code",
      "metadata": {
        "id": "Q4RBucNLwlUz",
        "colab_type": "code",
        "colab": {}
      },
      "source": [
        "def move(i,j,config):\n",
        "  new_config = config.copy() # creates a copy of config that we will modify and output\n",
        "  ###\n",
        "  #\n",
        "  # your code here - remove top disk from tower i and put it on tower j\n",
        "  #\n",
        "  ###\n",
        "  return new_config"
      ],
      "execution_count": 0,
      "outputs": []
    },
    {
      "cell_type": "markdown",
      "metadata": {
        "id": "9Wi3UDOa5-7b",
        "colab_type": "text"
      },
      "source": [
        "Some test cases are provided below to help you check your function. You can run all the tests by executing the code below.\n",
        "\n",
        "> 1) &nbsp; `move(1, 2, [[1,2],[]])` should output `[[2], [1]]`\n",
        "\n",
        "> 2) &nbsp; `move(3, 2, [[3], [2], [1]])` should output `[[3], [1,2], []]`"
      ]
    },
    {
      "cell_type": "code",
      "metadata": {
        "id": "aTtInkQk6CE_",
        "colab_type": "code",
        "colab": {
          "base_uri": "https://localhost:8080/",
          "height": 51
        },
        "outputId": "b0d46058-92b2-4e97-8f5b-443c6add93ca"
      },
      "source": [
        "if move(1,2,[[1,2], []]) == [[2], [1]]:\n",
        "  print('Test 1 - SUCCEEDED')\n",
        "else:\n",
        "  print('Test 1 - FAILED')\n",
        "  \n",
        "if move(3, 2, [[3], [2], [1]]) == [[3], [1,2], []]:\n",
        "  print('Test 2 - SUCCEEDED')\n",
        "else:\n",
        "  print('Test 2 - FAILED')"
      ],
      "execution_count": 14,
      "outputs": [
        {
          "output_type": "stream",
          "text": [
            "Test 1 - FAILED\n",
            "Test 2 - FAILED\n"
          ],
          "name": "stdout"
        }
      ]
    },
    {
      "cell_type": "markdown",
      "metadata": {
        "id": "G3t9ZgLXyHYy",
        "colab_type": "text"
      },
      "source": [
        "# Keeping Track of Actions using Dictionaries"
      ]
    },
    {
      "cell_type": "markdown",
      "metadata": {
        "id": "gY9EPNOTnibk",
        "colab_type": "text"
      },
      "source": [
        "# Searching for Action Sequences"
      ]
    },
    {
      "cell_type": "code",
      "metadata": {
        "id": "_4d_fAzAnhhe",
        "colab_type": "code",
        "colab": {}
      },
      "source": [
        ""
      ],
      "execution_count": 0,
      "outputs": []
    },
    {
      "cell_type": "markdown",
      "metadata": {
        "id": "Ul2V4oD2gFuQ",
        "colab_type": "text"
      },
      "source": [
        ""
      ]
    },
    {
      "cell_type": "markdown",
      "metadata": {
        "id": "s6FEpWg1YahZ",
        "colab_type": "text"
      },
      "source": [
        "General problem solver\n",
        "\n",
        "Perform operations on an initial list to turn it into the desired final list\n",
        "\n",
        "Hanoi case of n=3\n",
        "\n",
        "Start with [[1,2,3],[],[]]\n",
        "Goal is [[],[],[1,2,3]]\n",
        "\n",
        "Valid operations: move leading digit from some list a to another list b\n",
        "List[a] → list[a][1:]\n",
        "List[b] → list[a][0]+list[b]\n",
        "\n",
        "Construct a graph according to sequences of operations\n",
        "\n",
        "Each operation given by a list [a,b]: transfer top of tower a to tower b\n",
        "\n",
        "Generate list of states; update it with each of the possible actions (8 possible actions each round). Keep track of which actions match with which states ideally using a dictionary\n",
        "\n",
        "---\n",
        "\n",
        "Start by working through easiest example of n=2\n",
        "\n",
        "Work through manually and then implement manually in code, then do fancy stuff for n=3\n"
      ]
    },
    {
      "cell_type": "code",
      "metadata": {
        "id": "WCxkpt0FYZgN",
        "colab_type": "code",
        "colab": {}
      },
      "source": [
        ""
      ],
      "execution_count": 0,
      "outputs": []
    },
    {
      "cell_type": "code",
      "metadata": {
        "id": "5DlqAcdYMXzF",
        "colab_type": "code",
        "outputId": "8f144ae3-2b40-4f55-a544-84967c187e55",
        "colab": {
          "base_uri": "https://localhost:8080/",
          "height": 1107
        }
      },
      "source": [
        "N = 6\n",
        "\n",
        "def move(i,j,config):\n",
        "  new_config = config.copy() # need an independent copy\n",
        "  new_config[j] = [new_config[i][0]] + new_config[j] # put top disk on j\n",
        "  new_config[i] = new_config[i][1:] # remove top disk from i\n",
        "  return new_config\n",
        "\n",
        "def possibilities(state):\n",
        "  config = state['config']\n",
        "  moves = state['moves']\n",
        "  new_states = []\n",
        "  for i in [i for i in [0,1,2] if config[i]!=[]]:\n",
        "    for j in [j for j in [0,1,2]]:\n",
        "      if config[j]==[]:\n",
        "        new_states += [{'moves':moves+[[i,j]],'config':move(i,j,config)}]\n",
        "      elif config[j][0]>config[i][0]:\n",
        "        new_states += [{'moves':moves+[[i,j]],'config':move(i,j,config)}]\n",
        "  return new_states\n",
        "\n",
        "initial_config = [[n+1 for n in range(N)],[],[]]\n",
        "statelist = [{'moves':[],'config':initial_config}]\n",
        "target_config = [[],[],[n+1 for n in range(N)]]\n",
        "\n",
        "counter = 0\n",
        "configs_seen = [initial_config]\n",
        "while target_config not in [state['config'] for state in statelist]:\n",
        "  new_statelist = []\n",
        "  for state in statelist:\n",
        "    for possible_state in possibilities(state):\n",
        "      possible_config = possible_state['config']\n",
        "      if possible_config not in configs_seen:\n",
        "        new_statelist += [possible_state]\n",
        "        configs_seen += [possible_config]\n",
        "  statelist = new_statelist.copy()\n",
        "  counter += 1\n",
        "  print(counter)\n",
        "  \n",
        "for state in statelist:\n",
        "  if state['config'] == target_config:\n",
        "    print(state)"
      ],
      "execution_count": 0,
      "outputs": [
        {
          "output_type": "stream",
          "text": [
            "1\n",
            "2\n",
            "3\n",
            "4\n",
            "5\n",
            "6\n",
            "7\n",
            "8\n",
            "9\n",
            "10\n",
            "11\n",
            "12\n",
            "13\n",
            "14\n",
            "15\n",
            "16\n",
            "17\n",
            "18\n",
            "19\n",
            "20\n",
            "21\n",
            "22\n",
            "23\n",
            "24\n",
            "25\n",
            "26\n",
            "27\n",
            "28\n",
            "29\n",
            "30\n",
            "31\n",
            "32\n",
            "33\n",
            "34\n",
            "35\n",
            "36\n",
            "37\n",
            "38\n",
            "39\n",
            "40\n",
            "41\n",
            "42\n",
            "43\n",
            "44\n",
            "45\n",
            "46\n",
            "47\n",
            "48\n",
            "49\n",
            "50\n",
            "51\n",
            "52\n",
            "53\n",
            "54\n",
            "55\n",
            "56\n",
            "57\n",
            "58\n",
            "59\n",
            "60\n",
            "61\n",
            "62\n",
            "63\n",
            "{'moves': [[0, 1], [0, 2], [1, 2], [0, 1], [2, 0], [2, 1], [0, 1], [0, 2], [1, 2], [1, 0], [2, 0], [1, 2], [0, 1], [0, 2], [1, 2], [0, 1], [2, 0], [2, 1], [0, 1], [2, 0], [1, 2], [1, 0], [2, 0], [2, 1], [0, 1], [0, 2], [1, 2], [0, 1], [2, 0], [2, 1], [0, 1], [0, 2], [1, 2], [1, 0], [2, 0], [1, 2], [0, 1], [0, 2], [1, 2], [1, 0], [2, 0], [2, 1], [0, 1], [2, 0], [1, 2], [1, 0], [2, 0], [1, 2], [0, 1], [0, 2], [1, 2], [0, 1], [2, 0], [2, 1], [0, 1], [0, 2], [1, 2], [1, 0], [2, 0], [1, 2], [0, 1], [0, 2], [1, 2]], 'config': [[], [], [1, 2, 3, 4, 5, 6]]}\n"
          ],
          "name": "stdout"
        }
      ]
    },
    {
      "cell_type": "code",
      "metadata": {
        "id": "08vnqrcUZvjD",
        "colab_type": "code",
        "colab": {}
      },
      "source": [
        ""
      ],
      "execution_count": 0,
      "outputs": []
    }
  ]
}