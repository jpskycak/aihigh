{
  "nbformat": 4,
  "nbformat_minor": 0,
  "metadata": {
    "colab": {
      "name": "earlyAI_towerOfHanoiGeneralProblemSolver.ipynb",
      "version": "0.3.2",
      "provenance": [],
      "collapsed_sections": [],
      "toc_visible": true,
      "include_colab_link": true
    },
    "kernelspec": {
      "name": "python3",
      "display_name": "Python 3"
    }
  },
  "cells": [
    {
      "cell_type": "markdown",
      "metadata": {
        "id": "view-in-github",
        "colab_type": "text"
      },
      "source": [
        "<a href=\"https://colab.research.google.com/github/jpskycak/aihigh/blob/master/intro-to-ai/earlyAI_towerOfHanoiGeneralProblemSolver.ipynb\" target=\"_parent\"><img src=\"https://colab.research.google.com/assets/colab-badge.svg\" alt=\"Open In Colab\"/></a>"
      ]
    },
    {
      "cell_type": "markdown",
      "metadata": {
        "id": "U1zVHLZwZo3J",
        "colab_type": "text"
      },
      "source": [
        "General problem solver\n",
        "\n",
        "Perform operations on an initial list to turn it into the desired final list\n",
        "\n",
        "Hanoi case of n=3\n",
        "\n",
        "Start with [[1,2,3],[],[]]\n",
        "Goal is [[],[],[1,2,3]]\n",
        "\n",
        "Valid operations: move leading digit from some list a to another list b\n",
        "List[a] → list[a][1:]\n",
        "List[b] → list[a][0]+list[b]\n",
        "\n",
        "Construct a graph according to sequences of operations\n",
        "\n",
        "Each operation given by a list [a,b]: transfer top of tower a to tower b\n",
        "\n",
        "Generate list of states; update it with each of the possible actions (8 possible actions each round). Keep track of which actions match with which states ideally using a dictionary\n",
        "\n",
        "---\n",
        "\n",
        "Start by working through easiest example of n=2\n",
        "\n",
        "Work through manually and then implement manually in code, then do fancy stuff for n=3\n"
      ]
    },
    {
      "cell_type": "code",
      "metadata": {
        "id": "5DlqAcdYMXzF",
        "colab_type": "code",
        "colab": {
          "base_uri": "https://localhost:8080/",
          "height": 1107
        },
        "outputId": "8f144ae3-2b40-4f55-a544-84967c187e55"
      },
      "source": [
        "N = 6\n",
        "\n",
        "def move(i,j,config):\n",
        "  new_config = config.copy() # need an independent copy\n",
        "  new_config[j] = [new_config[i][0]] + new_config[j] # put top disk on j\n",
        "  new_config[i] = new_config[i][1:] # remove top disk from i\n",
        "  return new_config\n",
        "\n",
        "def possibilities(state):\n",
        "  config = state['config']\n",
        "  moves = state['moves']\n",
        "  new_states = []\n",
        "  for i in [i for i in [0,1,2] if config[i]!=[]]:\n",
        "    for j in [j for j in [0,1,2]]:\n",
        "      if config[j]==[]:\n",
        "        new_states += [{'moves':moves+[[i,j]],'config':move(i,j,config)}]\n",
        "      elif config[j][0]>config[i][0]:\n",
        "        new_states += [{'moves':moves+[[i,j]],'config':move(i,j,config)}]\n",
        "  return new_states\n",
        "\n",
        "initial_config = [[n+1 for n in range(N)],[],[]]\n",
        "statelist = [{'moves':[],'config':initial_config}]\n",
        "target_config = [[],[],[n+1 for n in range(N)]]\n",
        "\n",
        "counter = 0\n",
        "configs_seen = [initial_config]\n",
        "while target_config not in [state['config'] for state in statelist]:\n",
        "  new_statelist = []\n",
        "  for state in statelist:\n",
        "    for possible_state in possibilities(state):\n",
        "      possible_config = possible_state['config']\n",
        "      if possible_config not in configs_seen:\n",
        "        new_statelist += [possible_state]\n",
        "        configs_seen += [possible_config]\n",
        "  statelist = new_statelist.copy()\n",
        "  counter += 1\n",
        "  print(counter)\n",
        "  \n",
        "for state in statelist:\n",
        "  if state['config'] == target_config:\n",
        "    print(state)"
      ],
      "execution_count": 18,
      "outputs": [
        {
          "output_type": "stream",
          "text": [
            "1\n",
            "2\n",
            "3\n",
            "4\n",
            "5\n",
            "6\n",
            "7\n",
            "8\n",
            "9\n",
            "10\n",
            "11\n",
            "12\n",
            "13\n",
            "14\n",
            "15\n",
            "16\n",
            "17\n",
            "18\n",
            "19\n",
            "20\n",
            "21\n",
            "22\n",
            "23\n",
            "24\n",
            "25\n",
            "26\n",
            "27\n",
            "28\n",
            "29\n",
            "30\n",
            "31\n",
            "32\n",
            "33\n",
            "34\n",
            "35\n",
            "36\n",
            "37\n",
            "38\n",
            "39\n",
            "40\n",
            "41\n",
            "42\n",
            "43\n",
            "44\n",
            "45\n",
            "46\n",
            "47\n",
            "48\n",
            "49\n",
            "50\n",
            "51\n",
            "52\n",
            "53\n",
            "54\n",
            "55\n",
            "56\n",
            "57\n",
            "58\n",
            "59\n",
            "60\n",
            "61\n",
            "62\n",
            "63\n",
            "{'moves': [[0, 1], [0, 2], [1, 2], [0, 1], [2, 0], [2, 1], [0, 1], [0, 2], [1, 2], [1, 0], [2, 0], [1, 2], [0, 1], [0, 2], [1, 2], [0, 1], [2, 0], [2, 1], [0, 1], [2, 0], [1, 2], [1, 0], [2, 0], [2, 1], [0, 1], [0, 2], [1, 2], [0, 1], [2, 0], [2, 1], [0, 1], [0, 2], [1, 2], [1, 0], [2, 0], [1, 2], [0, 1], [0, 2], [1, 2], [1, 0], [2, 0], [2, 1], [0, 1], [2, 0], [1, 2], [1, 0], [2, 0], [1, 2], [0, 1], [0, 2], [1, 2], [0, 1], [2, 0], [2, 1], [0, 1], [0, 2], [1, 2], [1, 0], [2, 0], [1, 2], [0, 1], [0, 2], [1, 2]], 'config': [[], [], [1, 2, 3, 4, 5, 6]]}\n"
          ],
          "name": "stdout"
        }
      ]
    },
    {
      "cell_type": "code",
      "metadata": {
        "id": "08vnqrcUZvjD",
        "colab_type": "code",
        "colab": {}
      },
      "source": [
        ""
      ],
      "execution_count": 0,
      "outputs": []
    }
  ]
}