{
  "nbformat": 4,
  "nbformat_minor": 0,
  "metadata": {
    "colab": {
      "name": "codingBootcamp_solutions.ipynb",
      "version": "0.3.2",
      "provenance": [],
      "collapsed_sections": [],
      "toc_visible": true,
      "include_colab_link": true
    },
    "kernelspec": {
      "name": "python3",
      "display_name": "Python 3"
    }
  },
  "cells": [
    {
      "cell_type": "markdown",
      "metadata": {
        "id": "view-in-github",
        "colab_type": "text"
      },
      "source": [
        "<a href=\"https://colab.research.google.com/github/jpskycak/aihigh/blob/master/intro-to-ai/codingBootcamp_solutions.ipynb\" target=\"_parent\"><img src=\"https://colab.research.google.com/assets/colab-badge.svg\" alt=\"Open In Colab\"/></a>"
      ]
    },
    {
      "cell_type": "markdown",
      "metadata": {
        "id": "4Yx75_aVMfYA",
        "colab_type": "text"
      },
      "source": [
        "#Solutions"
      ]
    },
    {
      "cell_type": "markdown",
      "metadata": {
        "id": "ErLI1hAcKtnf",
        "colab_type": "text"
      },
      "source": [
        "## Getting Started in Colab"
      ]
    },
    {
      "cell_type": "markdown",
      "metadata": {
        "id": "zFvS7_lYKmvQ",
        "colab_type": "text"
      },
      "source": [
        "### Exercise 6"
      ]
    },
    {
      "cell_type": "code",
      "metadata": {
        "id": "fDUq93DuKrKV",
        "colab_type": "code",
        "outputId": "f22b6d7d-4c3f-47d7-b651-f2ae9b11e531",
        "colab": {
          "base_uri": "https://localhost:8080/",
          "height": 34
        }
      },
      "source": [
        "print('The second code cell has been executed.')"
      ],
      "execution_count": 0,
      "outputs": [
        {
          "output_type": "stream",
          "text": [
            "The second code cell has been executed.\n"
          ],
          "name": "stdout"
        }
      ]
    },
    {
      "cell_type": "markdown",
      "metadata": {
        "id": "YRFbfwCGKyVV",
        "colab_type": "text"
      },
      "source": [
        "### Exercise 7"
      ]
    },
    {
      "cell_type": "code",
      "metadata": {
        "id": "Im8p5N_HRHjV",
        "colab_type": "code",
        "outputId": "4dcc4bd5-e332-4966-9224-cf9f681a72af",
        "colab": {
          "base_uri": "https://localhost:8080/",
          "height": 51
        }
      },
      "source": [
        "#This code prints out the first digit of a number.\n",
        "n=2**3*4 # The number is 2 to the power of 3, times 4.\n",
        "print(str(n)[0]) # We print out the first digit of the number.\n",
        "print('If this prints out, then the code ran successfully!')"
      ],
      "execution_count": 0,
      "outputs": [
        {
          "output_type": "stream",
          "text": [
            "3\n",
            "If this prints out, then the code ran successfully!\n"
          ],
          "name": "stdout"
        }
      ]
    },
    {
      "cell_type": "markdown",
      "metadata": {
        "id": "sakwmjhcRbVG",
        "colab_type": "text"
      },
      "source": [
        "## Strings, Ints, Floats, and Booleans"
      ]
    },
    {
      "cell_type": "markdown",
      "metadata": {
        "id": "PJCbejQ_RivK",
        "colab_type": "text"
      },
      "source": [
        "### Exercise 1"
      ]
    },
    {
      "cell_type": "code",
      "metadata": {
        "id": "f56T7WHNRRmB",
        "colab_type": "code",
        "outputId": "357aa0cc-8a7b-41d9-e0cf-479ccc9e6dea",
        "colab": {
          "base_uri": "https://localhost:8080/",
          "height": 34
        }
      },
      "source": [
        "my_sentence = 'This is a sentence.'\n",
        "print(my_sentence)"
      ],
      "execution_count": 0,
      "outputs": [
        {
          "output_type": "stream",
          "text": [
            "This is a sentence.\n"
          ],
          "name": "stdout"
        }
      ]
    },
    {
      "cell_type": "markdown",
      "metadata": {
        "id": "teTjbvNFR70g",
        "colab_type": "text"
      },
      "source": [
        "### Exercise 2"
      ]
    },
    {
      "cell_type": "code",
      "metadata": {
        "id": "Evsb4YVdR56m",
        "colab_type": "code",
        "outputId": "f3870e03-6c2a-4718-88d8-df6c0275d61d",
        "colab": {
          "base_uri": "https://localhost:8080/",
          "height": 34
        }
      },
      "source": [
        "my_sentence = 'I have commandeered your sentence.'\n",
        "print(my_sentence)"
      ],
      "execution_count": 0,
      "outputs": [
        {
          "output_type": "stream",
          "text": [
            "I have commandeered your sentence.\n"
          ],
          "name": "stdout"
        }
      ]
    },
    {
      "cell_type": "markdown",
      "metadata": {
        "id": "9oHQjDzzSujg",
        "colab_type": "text"
      },
      "source": [
        "### Exercise 3"
      ]
    },
    {
      "cell_type": "code",
      "metadata": {
        "id": "k6Kia-vXSvyD",
        "colab_type": "code",
        "outputId": "15d36d42-0497-4cef-d93f-084eef3e5128",
        "colab": {
          "base_uri": "https://localhost:8080/",
          "height": 34
        }
      },
      "source": [
        "var1='dog'\n",
        "var2='over'\n",
        "var3='cat'\n",
        "var4='the'\n",
        "var5='jumped'\n",
        "var6='The'\n",
        "var7=' '\n",
        "var8='.'\n",
        "var6+var7+var1+var7+var5+var7+var2+var7+var4+var7+var3+var8"
      ],
      "execution_count": 0,
      "outputs": [
        {
          "output_type": "execute_result",
          "data": {
            "text/plain": [
              "'The dog jumped over the cat.'"
            ]
          },
          "metadata": {
            "tags": []
          },
          "execution_count": 5
        }
      ]
    },
    {
      "cell_type": "markdown",
      "metadata": {
        "id": "ZeqXGHN8TKFD",
        "colab_type": "text"
      },
      "source": [
        "### Exercise 4"
      ]
    },
    {
      "cell_type": "code",
      "metadata": {
        "id": "kn9R6J7gTIfY",
        "colab_type": "code",
        "outputId": "28b51046-b840-49ce-8981-1d24d2c53e18",
        "colab": {
          "base_uri": "https://localhost:8080/",
          "height": 34
        }
      },
      "source": [
        "'My shoes have laces.'[3:13]"
      ],
      "execution_count": 0,
      "outputs": [
        {
          "output_type": "execute_result",
          "data": {
            "text/plain": [
              "'shoes have'"
            ]
          },
          "metadata": {
            "tags": []
          },
          "execution_count": 8
        }
      ]
    },
    {
      "cell_type": "markdown",
      "metadata": {
        "id": "fYoVQegYTtTD",
        "colab_type": "text"
      },
      "source": [
        "### Exercise 5"
      ]
    },
    {
      "cell_type": "code",
      "metadata": {
        "id": "URTfay5nTpjH",
        "colab_type": "code",
        "outputId": "1c4ae28d-5d01-4a02-fec4-6bf39672c174",
        "colab": {
          "base_uri": "https://localhost:8080/",
          "height": 34
        }
      },
      "source": [
        "'This should look like shouting.'.upper()"
      ],
      "execution_count": 0,
      "outputs": [
        {
          "output_type": "execute_result",
          "data": {
            "text/plain": [
              "'THIS SHOULD LOOK LIKE SHOUTING.'"
            ]
          },
          "metadata": {
            "tags": []
          },
          "execution_count": 9
        }
      ]
    },
    {
      "cell_type": "code",
      "metadata": {
        "id": "q5ReN43pT86z",
        "colab_type": "code",
        "outputId": "f2fde425-238c-452e-ba62-16fe7b322ced",
        "colab": {
          "base_uri": "https://localhost:8080/",
          "height": 34
        }
      },
      "source": [
        "'         This should have no spaces at the beginning nor the end.             '.strip()"
      ],
      "execution_count": 0,
      "outputs": [
        {
          "output_type": "execute_result",
          "data": {
            "text/plain": [
              "'This should have no spaces at the beginning nor the end.'"
            ]
          },
          "metadata": {
            "tags": []
          },
          "execution_count": 10
        }
      ]
    },
    {
      "cell_type": "markdown",
      "metadata": {
        "id": "zkmgL3QYV2Lg",
        "colab_type": "text"
      },
      "source": [
        "### Exercise 6"
      ]
    },
    {
      "cell_type": "code",
      "metadata": {
        "id": "37zZbD5rUCzc",
        "colab_type": "code",
        "outputId": "5beec93b-ef38-4bdf-cb47-e476eb3ff66c",
        "colab": {
          "base_uri": "https://localhost:8080/",
          "height": 34
        }
      },
      "source": [
        "a=3\n",
        "b=2.5\n",
        "c=30*a-30*b\n",
        "print(c)"
      ],
      "execution_count": 0,
      "outputs": [
        {
          "output_type": "stream",
          "text": [
            "15.0\n"
          ],
          "name": "stdout"
        }
      ]
    },
    {
      "cell_type": "markdown",
      "metadata": {
        "id": "l1btOl2TWQsh",
        "colab_type": "text"
      },
      "source": [
        "### Exercise 7"
      ]
    },
    {
      "cell_type": "code",
      "metadata": {
        "id": "RUFTdQ5qWKm4",
        "colab_type": "code",
        "outputId": "b5a2853f-2715-4790-eb5c-695bcd4920d3",
        "colab": {
          "base_uri": "https://localhost:8080/",
          "height": 34
        }
      },
      "source": [
        "is_normal = False\n",
        "is_surprising = False\n",
        "is_weird = True\n",
        "is_normal or is_surprising or is_weird"
      ],
      "execution_count": 0,
      "outputs": [
        {
          "output_type": "execute_result",
          "data": {
            "text/plain": [
              "True"
            ]
          },
          "metadata": {
            "tags": []
          },
          "execution_count": 15
        }
      ]
    },
    {
      "cell_type": "markdown",
      "metadata": {
        "id": "0jnKAnnkWgUZ",
        "colab_type": "text"
      },
      "source": [
        "### Exercise 8"
      ]
    },
    {
      "cell_type": "code",
      "metadata": {
        "id": "46g1cdyZWclb",
        "colab_type": "code",
        "outputId": "9e15d484-2633-4ef0-d789-da06f0d80fe4",
        "colab": {
          "base_uri": "https://localhost:8080/",
          "height": 34
        }
      },
      "source": [
        "'asdf98qoiuretkjld'.isalpha()"
      ],
      "execution_count": 0,
      "outputs": [
        {
          "output_type": "execute_result",
          "data": {
            "text/plain": [
              "False"
            ]
          },
          "metadata": {
            "tags": []
          },
          "execution_count": 16
        }
      ]
    },
    {
      "cell_type": "code",
      "metadata": {
        "id": "6dw_Jon5XBM_",
        "colab_type": "code",
        "outputId": "af072b9f-ba9b-4b85-96e6-f445677774a4",
        "colab": {
          "base_uri": "https://localhost:8080/",
          "height": 34
        }
      },
      "source": [
        "4.2.is_integer()"
      ],
      "execution_count": 0,
      "outputs": [
        {
          "output_type": "execute_result",
          "data": {
            "text/plain": [
              "False"
            ]
          },
          "metadata": {
            "tags": []
          },
          "execution_count": 17
        }
      ]
    },
    {
      "cell_type": "markdown",
      "metadata": {
        "id": "4UpVPx0CXU_L",
        "colab_type": "text"
      },
      "source": [
        "## Lists, Dictionaries, and Arrays"
      ]
    },
    {
      "cell_type": "markdown",
      "metadata": {
        "id": "8OUfFYjwXeAr",
        "colab_type": "text"
      },
      "source": [
        "### Exercise 1"
      ]
    },
    {
      "cell_type": "code",
      "metadata": {
        "id": "YvnOT8YeXRo1",
        "colab_type": "code",
        "outputId": "bb948b65-8982-4728-f255-dba78191d89d",
        "colab": {
          "base_uri": "https://localhost:8080/",
          "height": 34
        }
      },
      "source": [
        "list1 = [True]\n",
        "list2 = ['a','c']\n",
        "list3 = [5,1.2]\n",
        "list2+list3+list1"
      ],
      "execution_count": 0,
      "outputs": [
        {
          "output_type": "execute_result",
          "data": {
            "text/plain": [
              "['a', 'c', 5, 1.2, True]"
            ]
          },
          "metadata": {
            "tags": []
          },
          "execution_count": 18
        }
      ]
    },
    {
      "cell_type": "markdown",
      "metadata": {
        "id": "XNgMDrCKXpxk",
        "colab_type": "text"
      },
      "source": [
        "### Exercise 2"
      ]
    },
    {
      "cell_type": "code",
      "metadata": {
        "id": "MVn-K_D9Xoh7",
        "colab_type": "code",
        "outputId": "19357e79-29eb-405c-9550-1e7564e0d8e3",
        "colab": {
          "base_uri": "https://localhost:8080/",
          "height": 34
        }
      },
      "source": [
        "mixed_list = [5,-9,3.14,'a','b','c',True,False]\n",
        "mixed_list[5]"
      ],
      "execution_count": 0,
      "outputs": [
        {
          "output_type": "execute_result",
          "data": {
            "text/plain": [
              "'c'"
            ]
          },
          "metadata": {
            "tags": []
          },
          "execution_count": 20
        }
      ]
    },
    {
      "cell_type": "markdown",
      "metadata": {
        "id": "mWJLMg7IXxkv",
        "colab_type": "text"
      },
      "source": [
        "### Exercise 3"
      ]
    },
    {
      "cell_type": "code",
      "metadata": {
        "id": "mqjdG1uHXvnF",
        "colab_type": "code",
        "outputId": "84ae1452-89af-4937-99dc-45660704a072",
        "colab": {
          "base_uri": "https://localhost:8080/",
          "height": 34
        }
      },
      "source": [
        "mixed_list = [5,-9,3.14,'a','b','c',True,False]\n",
        "mixed_list[3:6]"
      ],
      "execution_count": 0,
      "outputs": [
        {
          "output_type": "execute_result",
          "data": {
            "text/plain": [
              "['a', 'b', 'c']"
            ]
          },
          "metadata": {
            "tags": []
          },
          "execution_count": 1
        }
      ]
    },
    {
      "cell_type": "markdown",
      "metadata": {
        "id": "RuuHfMKWcK3k",
        "colab_type": "text"
      },
      "source": [
        "### Exercise 4"
      ]
    },
    {
      "cell_type": "code",
      "metadata": {
        "id": "dwzI4jgfcINu",
        "colab_type": "code",
        "outputId": "bca4ca1b-2805-4fe8-9580-3301df801c3f",
        "colab": {
          "base_uri": "https://localhost:8080/",
          "height": 34
        }
      },
      "source": [
        "counting_up = [1,2,3,4,5]\n",
        "counting_up.reverse()\n",
        "counting_up"
      ],
      "execution_count": 0,
      "outputs": [
        {
          "output_type": "execute_result",
          "data": {
            "text/plain": [
              "[5, 4, 3, 2, 1]"
            ]
          },
          "metadata": {
            "tags": []
          },
          "execution_count": 3
        }
      ]
    },
    {
      "cell_type": "code",
      "metadata": {
        "id": "kQK0kjvccTHA",
        "colab_type": "code",
        "outputId": "3c2bd748-ea08-47b5-f0ce-213bcc103356",
        "colab": {
          "base_uri": "https://localhost:8080/",
          "height": 34
        }
      },
      "source": [
        "has_lots_of_Es = ['a','b','e','c','d','e','e','f','e','e']\n",
        "has_lots_of_Es.count('e')"
      ],
      "execution_count": 0,
      "outputs": [
        {
          "output_type": "execute_result",
          "data": {
            "text/plain": [
              "5"
            ]
          },
          "metadata": {
            "tags": []
          },
          "execution_count": 4
        }
      ]
    },
    {
      "cell_type": "markdown",
      "metadata": {
        "id": "AMR3v83Ncd9r",
        "colab_type": "text"
      },
      "source": [
        "### Exercise 5"
      ]
    },
    {
      "cell_type": "code",
      "metadata": {
        "id": "Je8da8azca5q",
        "colab_type": "code",
        "outputId": "1b01edbf-95f2-4d12-bfc6-b436cdf02191",
        "colab": {
          "base_uri": "https://localhost:8080/",
          "height": 34
        }
      },
      "source": [
        "my_dict = {'Leroy':5, 'Amy':2, 'Pete':True, 'Carly':'hi'}\n",
        "my_dict['Pete']"
      ],
      "execution_count": 0,
      "outputs": [
        {
          "output_type": "execute_result",
          "data": {
            "text/plain": [
              "True"
            ]
          },
          "metadata": {
            "tags": []
          },
          "execution_count": 5
        }
      ]
    },
    {
      "cell_type": "markdown",
      "metadata": {
        "id": "6Crgs_6qcz06",
        "colab_type": "text"
      },
      "source": [
        "### Exercise 6"
      ]
    },
    {
      "cell_type": "code",
      "metadata": {
        "id": "Z1zgLjAQcj6D",
        "colab_type": "code",
        "outputId": "61c8b9cd-a287-4df5-8758-2c8c5036a658",
        "colab": {
          "base_uri": "https://localhost:8080/",
          "height": 34
        }
      },
      "source": [
        "my_dict = {'a':8, 'b':6, 's':5, 'i':1}\n",
        "my_dict['e'] = 3\n",
        "my_dict['a'] = 4\n",
        "my_dict"
      ],
      "execution_count": 0,
      "outputs": [
        {
          "output_type": "execute_result",
          "data": {
            "text/plain": [
              "{'a': 4, 'b': 6, 'e': 3, 'i': 1, 's': 5}"
            ]
          },
          "metadata": {
            "tags": []
          },
          "execution_count": 6
        }
      ]
    },
    {
      "cell_type": "markdown",
      "metadata": {
        "id": "XH-j7xwZc3Gq",
        "colab_type": "text"
      },
      "source": [
        "### Exercise 7"
      ]
    },
    {
      "cell_type": "code",
      "metadata": {
        "id": "BX2xQSiacrRs",
        "colab_type": "code",
        "outputId": "ddd795f3-dcd9-474f-914c-8c319a4a34be",
        "colab": {
          "base_uri": "https://localhost:8080/",
          "height": 34
        }
      },
      "source": [
        "import numpy\n",
        "my_array = numpy.array([[1,2,3],[4,5,6],[7,8,9]])\n",
        "my_array[2,0]"
      ],
      "execution_count": 0,
      "outputs": [
        {
          "output_type": "execute_result",
          "data": {
            "text/plain": [
              "7"
            ]
          },
          "metadata": {
            "tags": []
          },
          "execution_count": 7
        }
      ]
    },
    {
      "cell_type": "markdown",
      "metadata": {
        "id": "9poZQEnJdCx3",
        "colab_type": "text"
      },
      "source": [
        "### Exercise 8"
      ]
    },
    {
      "cell_type": "code",
      "metadata": {
        "id": "hiiW3AIjc_gZ",
        "colab_type": "code",
        "outputId": "2fce4cc9-6c9e-4c3f-b253-7265c76c5adc",
        "colab": {
          "base_uri": "https://localhost:8080/",
          "height": 51
        }
      },
      "source": [
        "import numpy\n",
        "my_array = numpy.array([[1,2,3],[4,5,6],[7,8,9]])\n",
        "my_array[0:2,1:3]"
      ],
      "execution_count": 0,
      "outputs": [
        {
          "output_type": "execute_result",
          "data": {
            "text/plain": [
              "array([[2, 3],\n",
              "       [5, 6]])"
            ]
          },
          "metadata": {
            "tags": []
          },
          "execution_count": 8
        }
      ]
    },
    {
      "cell_type": "markdown",
      "metadata": {
        "id": "xCF9QD4CdLtq",
        "colab_type": "text"
      },
      "source": [
        "### Exercise 9"
      ]
    },
    {
      "cell_type": "code",
      "metadata": {
        "id": "4UFR38e2dHxw",
        "colab_type": "code",
        "outputId": "a7cff114-83c0-4b15-f508-8ceaf85de000",
        "colab": {
          "base_uri": "https://localhost:8080/",
          "height": 51
        }
      },
      "source": [
        "import numpy\n",
        "A = numpy.array([[1,2],[3,4]])\n",
        "B = numpy.array([[9,8],[7,6]])\n",
        "A+B"
      ],
      "execution_count": 0,
      "outputs": [
        {
          "output_type": "execute_result",
          "data": {
            "text/plain": [
              "array([[10, 10],\n",
              "       [10, 10]])"
            ]
          },
          "metadata": {
            "tags": []
          },
          "execution_count": 9
        }
      ]
    },
    {
      "cell_type": "markdown",
      "metadata": {
        "id": "tT-e6tLKdVq3",
        "colab_type": "text"
      },
      "source": [
        "### Exercise 10"
      ]
    },
    {
      "cell_type": "code",
      "metadata": {
        "id": "SV3ffH7jdQbc",
        "colab_type": "code",
        "outputId": "767d718e-5ed4-4139-e637-3fdbe26e8036",
        "colab": {
          "base_uri": "https://localhost:8080/",
          "height": 34
        }
      },
      "source": [
        "import numpy\n",
        "A = numpy.array([[1,2],[3,4]])\n",
        "A.min()"
      ],
      "execution_count": 0,
      "outputs": [
        {
          "output_type": "execute_result",
          "data": {
            "text/plain": [
              "1"
            ]
          },
          "metadata": {
            "tags": []
          },
          "execution_count": 14
        }
      ]
    },
    {
      "cell_type": "code",
      "metadata": {
        "id": "8DFDButSdXCu",
        "colab_type": "code",
        "outputId": "57a169b9-575c-4016-9f7f-319115a653f0",
        "colab": {
          "base_uri": "https://localhost:8080/",
          "height": 34
        }
      },
      "source": [
        "import numpy\n",
        "A = numpy.array([[1,2],[3,4]])\n",
        "A.sum()"
      ],
      "execution_count": 0,
      "outputs": [
        {
          "output_type": "execute_result",
          "data": {
            "text/plain": [
              "10"
            ]
          },
          "metadata": {
            "tags": []
          },
          "execution_count": 15
        }
      ]
    },
    {
      "cell_type": "markdown",
      "metadata": {
        "id": "X-_3B-HedfKE",
        "colab_type": "text"
      },
      "source": [
        "### Exercise 11"
      ]
    },
    {
      "cell_type": "code",
      "metadata": {
        "id": "SU7XOmMVdgNd",
        "colab_type": "code",
        "outputId": "990ea2aa-a19d-4923-b818-5a02a9c40159",
        "colab": {
          "base_uri": "https://localhost:8080/",
          "height": 51
        }
      },
      "source": [
        "import numpy\n",
        "bottom_layer = numpy.array([[1,2],[3,4]])\n",
        "top_layer = numpy.array([[5,6],[7,8]])\n",
        "cube = numpy.stack((bottom_layer,top_layer))\n",
        "\n",
        "cube[0:2,1,0:2]"
      ],
      "execution_count": 0,
      "outputs": [
        {
          "output_type": "execute_result",
          "data": {
            "text/plain": [
              "array([[3, 4],\n",
              "       [7, 8]])"
            ]
          },
          "metadata": {
            "tags": []
          },
          "execution_count": 13
        }
      ]
    },
    {
      "cell_type": "markdown",
      "metadata": {
        "id": "YcjFba80d0BD",
        "colab_type": "text"
      },
      "source": [
        "## If, While, and For"
      ]
    },
    {
      "cell_type": "markdown",
      "metadata": {
        "id": "HjvTW4Wc7e2b",
        "colab_type": "text"
      },
      "source": [
        "### Exercise 1"
      ]
    },
    {
      "cell_type": "code",
      "metadata": {
        "id": "02lpaRSydkiP",
        "colab_type": "code",
        "colab": {
          "base_uri": "https://localhost:8080/",
          "height": 33
        },
        "outputId": "94d44c89-68fb-4f15-8935-d666f9472518"
      },
      "source": [
        "A = -1\n",
        "B = 6\n",
        "C = 3\n",
        "D = 1\n",
        "\n",
        "if A<0:\n",
        "  if A+B == 5:\n",
        "    if C*D != 0:\n",
        "      print('Success')"
      ],
      "execution_count": 1,
      "outputs": [
        {
          "output_type": "stream",
          "text": [
            "Success\n"
          ],
          "name": "stdout"
        }
      ]
    },
    {
      "cell_type": "markdown",
      "metadata": {
        "id": "LW6o0d737mw2",
        "colab_type": "text"
      },
      "source": [
        "### Exercise 2"
      ]
    },
    {
      "cell_type": "code",
      "metadata": {
        "id": "SMmNqIiQ7ke5",
        "colab_type": "code",
        "colab": {
          "base_uri": "https://localhost:8080/",
          "height": 33
        },
        "outputId": "1d42e631-a789-43be-ea7e-d30820c3b50f"
      },
      "source": [
        "A = 1\n",
        "B = -2\n",
        "C = 7\n",
        "D = 4\n",
        "\n",
        "if A+B >= 0:\n",
        "  pass\n",
        "else:\n",
        "  if C+D <= 10:\n",
        "    pass\n",
        "  else:\n",
        "    print('Success')"
      ],
      "execution_count": 2,
      "outputs": [
        {
          "output_type": "stream",
          "text": [
            "Success\n"
          ],
          "name": "stdout"
        }
      ]
    },
    {
      "cell_type": "markdown",
      "metadata": {
        "id": "RZlUqMCl7yVO",
        "colab_type": "text"
      },
      "source": [
        "### Exercise 3"
      ]
    },
    {
      "cell_type": "code",
      "metadata": {
        "id": "8NNF5lZl7xD3",
        "colab_type": "code",
        "colab": {
          "base_uri": "https://localhost:8080/",
          "height": 33
        },
        "outputId": "6c7c3ba3-943e-4722-dcd2-99794e844e79"
      },
      "source": [
        "counter = 0\n",
        "my_list = []\n",
        "while counter < 9:\n",
        "  if counter > 3:\n",
        "    my_list = my_list + [3*counter/8]\n",
        "  counter = counter + 1\n",
        "my_list"
      ],
      "execution_count": 3,
      "outputs": [
        {
          "output_type": "execute_result",
          "data": {
            "text/plain": [
              "[1.5, 1.875, 2.25, 2.625, 3.0]"
            ]
          },
          "metadata": {
            "tags": []
          },
          "execution_count": 3
        }
      ]
    },
    {
      "cell_type": "markdown",
      "metadata": {
        "id": "X9MgE3pw7_AG",
        "colab_type": "text"
      },
      "source": [
        "### Exercise 4"
      ]
    },
    {
      "cell_type": "code",
      "metadata": {
        "id": "W2kP-0-o76dF",
        "colab_type": "code",
        "colab": {
          "base_uri": "https://localhost:8080/",
          "height": 53
        },
        "outputId": "4298313d-ec9a-41b3-ba43-66dbcd7d593f"
      },
      "source": [
        "multiples = []\n",
        "for n in range(1,31):\n",
        "  multiples += [7*n]\n",
        "print(multiples)"
      ],
      "execution_count": 5,
      "outputs": [
        {
          "output_type": "stream",
          "text": [
            "[7, 14, 21, 28, 35, 42, 49, 56, 63, 70, 77, 84, 91, 98, 105, 112, 119, 126, 133, 140, 147, 154, 161, 168, 175, 182, 189, 196, 203, 210]\n"
          ],
          "name": "stdout"
        }
      ]
    },
    {
      "cell_type": "markdown",
      "metadata": {
        "id": "mgY3sxOt-qDR",
        "colab_type": "text"
      },
      "source": [
        "## Functions"
      ]
    },
    {
      "cell_type": "markdown",
      "metadata": {
        "id": "oTejTyXd-sHu",
        "colab_type": "text"
      },
      "source": [
        "### Exercise 1"
      ]
    },
    {
      "cell_type": "code",
      "metadata": {
        "id": "Om4XwD9P96TM",
        "colab_type": "code",
        "colab": {}
      },
      "source": [
        "def count_zeros(n):\n",
        "  number_as_string = str(n)\n",
        "  num_zeros = number_as_string.count('0')\n",
        "  return num_zeros"
      ],
      "execution_count": 0,
      "outputs": []
    },
    {
      "cell_type": "code",
      "metadata": {
        "id": "FkMHx8Dw-war",
        "colab_type": "code",
        "colab": {
          "base_uri": "https://localhost:8080/",
          "height": 33
        },
        "outputId": "0b146ccd-1dd9-4b71-d8d9-e7026dfeaaf5"
      },
      "source": [
        "count_zeros(5**5**5)"
      ],
      "execution_count": 10,
      "outputs": [
        {
          "output_type": "execute_result",
          "data": {
            "text/plain": [
              "222"
            ]
          },
          "metadata": {
            "tags": []
          },
          "execution_count": 10
        }
      ]
    },
    {
      "cell_type": "markdown",
      "metadata": {
        "id": "2lZhG26S_KZK",
        "colab_type": "text"
      },
      "source": [
        "### Exercise 2"
      ]
    },
    {
      "cell_type": "code",
      "metadata": {
        "id": "zOyweyQX_ESJ",
        "colab_type": "code",
        "colab": {}
      },
      "source": [
        "def remove_numbers(s):\n",
        "  output_string = ''\n",
        "  for char in s:\n",
        "    if not char.isdigit():\n",
        "      output_string += char\n",
        "  return output_string"
      ],
      "execution_count": 0,
      "outputs": []
    },
    {
      "cell_type": "code",
      "metadata": {
        "id": "7TJiHEBo_Rwc",
        "colab_type": "code",
        "colab": {
          "base_uri": "https://localhost:8080/",
          "height": 33
        },
        "outputId": "0153bc74-679c-47bf-c8db-7d3930a1b7c9"
      },
      "source": [
        "remove_numbers('567899876S5748797U89767654C7653C09C8655465765E65435423S979876S976643')"
      ],
      "execution_count": 13,
      "outputs": [
        {
          "output_type": "execute_result",
          "data": {
            "text/plain": [
              "'SUCCCESS'"
            ]
          },
          "metadata": {
            "tags": []
          },
          "execution_count": 13
        }
      ]
    },
    {
      "cell_type": "markdown",
      "metadata": {
        "id": "-7IeW_qd_RFZ",
        "colab_type": "text"
      },
      "source": [
        "### Exercise 3"
      ]
    },
    {
      "cell_type": "code",
      "metadata": {
        "id": "V5b7eTcG_iVD",
        "colab_type": "code",
        "colab": {}
      },
      "source": [
        "import numpy\n",
        "\n",
        "def make_id(n_digits, n_letters):\n",
        "  \n",
        "  output_string = ''\n",
        "  \n",
        "  for _ in range(n_digits):\n",
        "    random_decimal_btw_0_and_1 = numpy.random.rand()\n",
        "    random_decimal_btw_1_and_10 = 1+9*random_decimal_btw_0_and_1\n",
        "    random_integer_btw_0_and_9_inclusive = int(random_decimal_btw_1_and_10)\n",
        "    output_string += str(random_integer_btw_0_and_9_inclusive)\n",
        "  \n",
        "  output_string += '-'\n",
        "  \n",
        "  alphabet = 'ABCDEFGHIJKLMNOPQRSTUVWXYZ'\n",
        "  for _ in range(n_letters):\n",
        "    random_decimal_btw_0_and_1 = numpy.random.rand()\n",
        "    random_decimal_btw_1_and_26 = 1+25*random_decimal_btw_0_and_1\n",
        "    random_integer_btw_0_and_25_inclusive = int(random_decimal_btw_1_and_26)\n",
        "    random_letter = alphabet[random_integer_btw_0_and_25_inclusive]\n",
        "    output_string += str(random_letter)\n",
        "  \n",
        "  return output_string"
      ],
      "execution_count": 0,
      "outputs": []
    },
    {
      "cell_type": "code",
      "metadata": {
        "id": "ZxvzJOrkAca3",
        "colab_type": "code",
        "colab": {
          "base_uri": "https://localhost:8080/",
          "height": 33
        },
        "outputId": "895c242e-637c-4568-aa1f-8b1af79d4ef8"
      },
      "source": [
        "make_id(3,5)"
      ],
      "execution_count": 21,
      "outputs": [
        {
          "output_type": "execute_result",
          "data": {
            "text/plain": [
              "'399-ZRUCJ'"
            ]
          },
          "metadata": {
            "tags": []
          },
          "execution_count": 21
        }
      ]
    },
    {
      "cell_type": "code",
      "metadata": {
        "id": "R8dAf4OlAecg",
        "colab_type": "code",
        "colab": {}
      },
      "source": [
        ""
      ],
      "execution_count": 0,
      "outputs": []
    }
  ]
}