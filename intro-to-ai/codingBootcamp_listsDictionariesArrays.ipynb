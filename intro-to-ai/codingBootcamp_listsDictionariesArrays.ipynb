{
  "nbformat": 4,
  "nbformat_minor": 0,
  "metadata": {
    "colab": {
      "name": "codingBootcamp_listsDictionariesArrays.ipynb",
      "version": "0.3.2",
      "provenance": [],
      "collapsed_sections": [],
      "toc_visible": true,
      "include_colab_link": true
    },
    "kernelspec": {
      "name": "python3",
      "display_name": "Python 3"
    }
  },
  "cells": [
    {
      "cell_type": "markdown",
      "metadata": {
        "id": "view-in-github",
        "colab_type": "text"
      },
      "source": [
        "<a href=\"https://colab.research.google.com/github/jpskycak/aihigh/blob/master/intro-to-ai/codingBootcamp_listsDictionariesArrays.ipynb\" target=\"_parent\"><img src=\"https://colab.research.google.com/assets/colab-badge.svg\" alt=\"Open In Colab\"/></a>"
      ]
    },
    {
      "cell_type": "markdown",
      "metadata": {
        "id": "D7c3mb1OQ3CN",
        "colab_type": "text"
      },
      "source": [
        "#Setup\n",
        "\n",
        "In order to run the notebook,\n",
        "\n",
        "1. sign into your Google account (top-right) and\n",
        "2. make a copy of the notebook in your Google Drive by pressing the <img src=\"https://i.imgur.com/chlzY9P.png\" alt=\"Drawing\" width=\"100\"/> button in the upper-left menu."
      ]
    },
    {
      "cell_type": "markdown",
      "metadata": {
        "id": "ZGkyQmniPrwy",
        "colab_type": "text"
      },
      "source": [
        "#Data Structures\n",
        "\n",
        "When programming, we often work with many related pieces of data. To be organized and efficient, we store them within a single variable called a <b>data structure.</b> This way, we can efficiently perform operations on the data structure as a whole rather than having to operate on each piece of data as a separate variable.\n",
        "\n",
        "We will primarily be using 3 types of data structures: lists, dictionaries, and arrays.\n",
        "<ul>\n",
        "<li><b>Lists</b> store pieces of data in a sequence, so that data can be referenced by its index in the list.</li>\n",
        "  <li><b>Dictionaries</b> store pieces of data under labels called <i>keys</i>, so that data can be referenced its key in the dictionary.</li>\n",
        "<li><b>Arrays</b> store pieces of data in matrices and higher-dimensional matrices called <i>tensors</i>, so that data can be referenced by its index in the matrix or tensor.</li>\n",
        "</ul>"
      ]
    },
    {
      "cell_type": "markdown",
      "metadata": {
        "colab_type": "text",
        "id": "OkZxxShdi8rS"
      },
      "source": [
        "#Lists\n",
        "\n",
        "A list is defined by enclosing a sequence of data within brackets.\n"
      ]
    },
    {
      "cell_type": "code",
      "metadata": {
        "id": "5A7ZxHgOo6pY",
        "colab_type": "code",
        "outputId": "ffddfa23-ccbc-4959-be6c-2af48623fb0a",
        "colab": {
          "base_uri": "https://localhost:8080/",
          "height": 34
        }
      },
      "source": [
        "mixed_list = [5,-9,3.14,'a','b','c',True,False]\n",
        "mixed_list"
      ],
      "execution_count": 1,
      "outputs": [
        {
          "output_type": "execute_result",
          "data": {
            "text/plain": [
              "[5, -9, 3.14, 'a', 'b', 'c', True, False]"
            ]
          },
          "metadata": {
            "tags": []
          },
          "execution_count": 1
        }
      ]
    },
    {
      "cell_type": "markdown",
      "metadata": {
        "id": "Q0OAxeAMsl8w",
        "colab_type": "text"
      },
      "source": [
        "Two lists can be concatenated into a single list by adding them together."
      ]
    },
    {
      "cell_type": "code",
      "metadata": {
        "id": "_Bfjir2esuoK",
        "colab_type": "code",
        "outputId": "9be202c8-ac60-4efa-b4ca-f5911bd34443",
        "colab": {
          "base_uri": "https://localhost:8080/",
          "height": 34
        }
      },
      "source": [
        "[1,2,3]+['a','b','c']"
      ],
      "execution_count": 2,
      "outputs": [
        {
          "output_type": "execute_result",
          "data": {
            "text/plain": [
              "[1, 2, 3, 'a', 'b', 'c']"
            ]
          },
          "metadata": {
            "tags": []
          },
          "execution_count": 2
        }
      ]
    },
    {
      "cell_type": "markdown",
      "metadata": {
        "id": "I9xHrVA1s1a7",
        "colab_type": "text"
      },
      "source": [
        "<b>Exercise 1.</b> Add the following lists in some order to create the list `['a','c',5,1.2,True]`."
      ]
    },
    {
      "cell_type": "code",
      "metadata": {
        "id": "vk1P79tAtKMV",
        "colab_type": "code",
        "outputId": "e295d539-10be-4537-f06b-489b0ba24fcd",
        "colab": {
          "base_uri": "https://localhost:8080/",
          "height": 34
        }
      },
      "source": [
        "list1 = [True]\n",
        "list2 = ['a','c']\n",
        "list3 = [5,1.2]\n",
        "list1+list2+list3 # change the order of addition to create the list ['a','c',5,1.2,True]"
      ],
      "execution_count": 3,
      "outputs": [
        {
          "output_type": "execute_result",
          "data": {
            "text/plain": [
              "[True, 'a', 'c', 5, 1.2]"
            ]
          },
          "metadata": {
            "tags": []
          },
          "execution_count": 3
        }
      ]
    },
    {
      "cell_type": "markdown",
      "metadata": {
        "id": "c5asOnJ4pLm1",
        "colab_type": "text"
      },
      "source": [
        "Referencing items in lists is very similar to picking out characters from strings -- we can simply use the index of the item. (Really, a string is just a list of characters.)\n",
        "\n",
        "Remember, the index just counts how many items are before our desired item -- so the first item has an index of 0, the second item has an index of 1, the third item has an index of 2, and so on."
      ]
    },
    {
      "cell_type": "code",
      "metadata": {
        "id": "BO6ghx2upKzJ",
        "colab_type": "code",
        "outputId": "345cfa8d-f165-40ff-ed3e-972b6d4e6457",
        "colab": {
          "base_uri": "https://localhost:8080/",
          "height": 34
        }
      },
      "source": [
        "mixed_list = [5,-9,3.14,'a','b','c',True,False]\n",
        "mixed_list[0]"
      ],
      "execution_count": 4,
      "outputs": [
        {
          "output_type": "execute_result",
          "data": {
            "text/plain": [
              "5"
            ]
          },
          "metadata": {
            "tags": []
          },
          "execution_count": 4
        }
      ]
    },
    {
      "cell_type": "code",
      "metadata": {
        "id": "5CLOx7Sipveh",
        "colab_type": "code",
        "outputId": "07312ee8-eb9b-4299-e0a3-7746c3c547df",
        "colab": {
          "base_uri": "https://localhost:8080/",
          "height": 34
        }
      },
      "source": [
        "mixed_list = [5,-9,3.14,'a','b','c',True,False]\n",
        "mixed_list[3]"
      ],
      "execution_count": 5,
      "outputs": [
        {
          "output_type": "execute_result",
          "data": {
            "text/plain": [
              "'a'"
            ]
          },
          "metadata": {
            "tags": []
          },
          "execution_count": 5
        }
      ]
    },
    {
      "cell_type": "markdown",
      "metadata": {
        "id": "qR7bO2-cp4KV",
        "colab_type": "text"
      },
      "source": [
        "<b>Exercise 2.</b> Reference the item `'c'` in `mixed_list` using its index in the list."
      ]
    },
    {
      "cell_type": "code",
      "metadata": {
        "id": "RXMHFbUxqHeW",
        "colab_type": "code",
        "outputId": "d4d32bc7-da04-418b-e8f0-22b310526957",
        "colab": {
          "base_uri": "https://localhost:8080/",
          "height": 34
        }
      },
      "source": [
        "mixed_list = [5,-9,3.14,'a','b','c',True,False]\n",
        "mixed_list[1] # change the index to reference the item 'c'"
      ],
      "execution_count": 6,
      "outputs": [
        {
          "output_type": "execute_result",
          "data": {
            "text/plain": [
              "-9"
            ]
          },
          "metadata": {
            "tags": []
          },
          "execution_count": 6
        }
      ]
    },
    {
      "cell_type": "markdown",
      "metadata": {
        "id": "7PXraLo-qhVs",
        "colab_type": "text"
      },
      "source": [
        "Just as substrings can be picked out of strings, sublists can be picked out of sublists by using two indices and a colon.\n",
        "\n",
        "Remember, the first index tells us where we should start picking out items, and the second index tells us where we should stop picking out items. (The item located at the second index is not included in the sublist.)"
      ]
    },
    {
      "cell_type": "code",
      "metadata": {
        "id": "aydZiQTzrfQ9",
        "colab_type": "code",
        "outputId": "d2ee4139-330f-4583-863e-9b0b9e55fc8b",
        "colab": {
          "base_uri": "https://localhost:8080/",
          "height": 34
        }
      },
      "source": [
        "mixed_list = [5,-9,3.14,'a','b','c',True,False]\n",
        "mixed_list[2:4]"
      ],
      "execution_count": 7,
      "outputs": [
        {
          "output_type": "execute_result",
          "data": {
            "text/plain": [
              "[3.14, 'a']"
            ]
          },
          "metadata": {
            "tags": []
          },
          "execution_count": 7
        }
      ]
    },
    {
      "cell_type": "markdown",
      "metadata": {
        "id": "R-P_xb9YroYl",
        "colab_type": "text"
      },
      "source": [
        "<b>Exercise 3.</b> Pick out the sublist `['a','b','c']` from `mixed_list` by using two indices and a colon."
      ]
    },
    {
      "cell_type": "code",
      "metadata": {
        "id": "XG_d03Oar3D4",
        "colab_type": "code",
        "outputId": "3a672519-bed0-45f2-e45b-c6b902de9456",
        "colab": {
          "base_uri": "https://localhost:8080/",
          "height": 34
        }
      },
      "source": [
        "mixed_list = [5,-9,3.14,'a','b','c',True,False]\n",
        "mixed_list[2:4] # change the two indices so that the resulting sublist is ['a','b','c']"
      ],
      "execution_count": 8,
      "outputs": [
        {
          "output_type": "execute_result",
          "data": {
            "text/plain": [
              "[3.14, 'a']"
            ]
          },
          "metadata": {
            "tags": []
          },
          "execution_count": 8
        }
      ]
    },
    {
      "cell_type": "markdown",
      "metadata": {
        "id": "D-ePFlkisC3w",
        "colab_type": "text"
      },
      "source": [
        "There are various functions and methods that can be used to process lists.\n",
        "\n",
        "For example, the `len()` function tells us how many items are in a list."
      ]
    },
    {
      "cell_type": "code",
      "metadata": {
        "id": "KOhZ5wuZsRbW",
        "colab_type": "code",
        "outputId": "e9ed46e1-db25-4968-9967-93004e6cacf6",
        "colab": {
          "base_uri": "https://localhost:8080/",
          "height": 34
        }
      },
      "source": [
        "mixed_list = [5,-9,3.14,'a','b','c',True,False]\n",
        "len(mixed_list)"
      ],
      "execution_count": 9,
      "outputs": [
        {
          "output_type": "execute_result",
          "data": {
            "text/plain": [
              "8"
            ]
          },
          "metadata": {
            "tags": []
          },
          "execution_count": 9
        }
      ]
    },
    {
      "cell_type": "markdown",
      "metadata": {
        "id": "2SmSkpbZsYJA",
        "colab_type": "text"
      },
      "source": [
        "Likewise, the `.insert(i,x)` method inserts the item `x` into the list so that it occupies index `i`."
      ]
    },
    {
      "cell_type": "code",
      "metadata": {
        "id": "g4EYuoglt2Um",
        "colab_type": "code",
        "outputId": "c434aa75-90c7-4f1b-fa9a-efe81b8ceb2a",
        "colab": {
          "base_uri": "https://localhost:8080/",
          "height": 34
        }
      },
      "source": [
        "alphabet_missing_c = ['a','b','d','e']\n",
        "alphabet_missing_c.insert(2,'c')\n",
        "alphabet_missing_c"
      ],
      "execution_count": 10,
      "outputs": [
        {
          "output_type": "execute_result",
          "data": {
            "text/plain": [
              "['a', 'b', 'c', 'd', 'e']"
            ]
          },
          "metadata": {
            "tags": []
          },
          "execution_count": 10
        }
      ]
    },
    {
      "cell_type": "markdown",
      "metadata": {
        "id": "2DJA_bHSuN77",
        "colab_type": "text"
      },
      "source": [
        "There are many functions and methods that can be applied to lists. As such, we will not go through all of them.\n",
        "\n",
        "However, it is important to know how to find a function or method when you need it. You can usually find them by searching Google."
      ]
    },
    {
      "cell_type": "markdown",
      "metadata": {
        "id": "LBpN-DO6ubn4",
        "colab_type": "text"
      },
      "source": [
        "<b>Exercise 4.</b> Use functions or methods to perform the desired operations on the following lists."
      ]
    },
    {
      "cell_type": "code",
      "metadata": {
        "id": "5IZGHlFMvHSo",
        "colab_type": "code",
        "colab": {}
      },
      "source": [
        "counting_up = [1,2,3,4,5] # reverse the list so that it is counting down: [5,4,3,2,1]"
      ],
      "execution_count": 0,
      "outputs": []
    },
    {
      "cell_type": "code",
      "metadata": {
        "id": "d-D8tR8TuuVS",
        "colab_type": "code",
        "colab": {}
      },
      "source": [
        "has_lots_of_Es = ['a','b','e','c','d','e','e','f','e','e'] # count how many items in the list have the value 'e'"
      ],
      "execution_count": 0,
      "outputs": []
    },
    {
      "cell_type": "markdown",
      "metadata": {
        "id": "Q6dU3-GdL_uu",
        "colab_type": "text"
      },
      "source": [
        "#Dictionaries\n",
        "\n",
        "A dictionary is defined by enclosing a sequence of `key:value` pairs within braces.\n"
      ]
    },
    {
      "cell_type": "code",
      "metadata": {
        "id": "Xdcd8Lbu6nUU",
        "colab_type": "code",
        "outputId": "e54db77a-1945-421f-9a02-47872baa73c2",
        "colab": {
          "base_uri": "https://localhost:8080/",
          "height": 34
        }
      },
      "source": [
        "my_dict = {'Leroy':5, 'Amy':2, 'Pete':True, 'Carly':'hi'}\n",
        "my_dict"
      ],
      "execution_count": 13,
      "outputs": [
        {
          "output_type": "execute_result",
          "data": {
            "text/plain": [
              "{'Amy': 2, 'Carly': 'hi', 'Leroy': 5, 'Pete': True}"
            ]
          },
          "metadata": {
            "tags": []
          },
          "execution_count": 13
        }
      ]
    },
    {
      "cell_type": "markdown",
      "metadata": {
        "id": "Mjuoatzy-zdD",
        "colab_type": "text"
      },
      "source": [
        "To reference an item in a dictionary, we can simply use the key of that item."
      ]
    },
    {
      "cell_type": "code",
      "metadata": {
        "id": "M98k0lao-rUX",
        "colab_type": "code",
        "outputId": "599dc2bf-9d3b-4d73-aaa3-43858ce7176e",
        "colab": {
          "base_uri": "https://localhost:8080/",
          "height": 34
        }
      },
      "source": [
        "my_dict = {'Leroy':5, 'Amy':2, 'Pete':True, 'Carly':'hi'}\n",
        "my_dict['Amy']"
      ],
      "execution_count": 14,
      "outputs": [
        {
          "output_type": "execute_result",
          "data": {
            "text/plain": [
              "2"
            ]
          },
          "metadata": {
            "tags": []
          },
          "execution_count": 14
        }
      ]
    },
    {
      "cell_type": "markdown",
      "metadata": {
        "id": "BhZJXhZ-_DJg",
        "colab_type": "text"
      },
      "source": [
        "<b>Exercise 1.</b> Reference the item in `my_dict` corresponding to the key `'Pete'`."
      ]
    },
    {
      "cell_type": "code",
      "metadata": {
        "id": "poeDXom3-rSx",
        "colab_type": "code",
        "outputId": "62941642-bcf0-42e2-f9ae-0ba72a484137",
        "colab": {
          "base_uri": "https://localhost:8080/",
          "height": 34
        }
      },
      "source": [
        "my_dict = {'Leroy':5, 'Amy':2, 'Pete':True, 'Carly':'hi'}\n",
        "my_dict['Amy'] # change the key 'Amy' to the key 'Pete'"
      ],
      "execution_count": 15,
      "outputs": [
        {
          "output_type": "execute_result",
          "data": {
            "text/plain": [
              "2"
            ]
          },
          "metadata": {
            "tags": []
          },
          "execution_count": 15
        }
      ]
    },
    {
      "cell_type": "markdown",
      "metadata": {
        "id": "mYJJvdoIAHYh",
        "colab_type": "text"
      },
      "source": [
        "To add a new item to a dictionary, we can reference a new key and assign a value to it just like we would assign a new value to a variable."
      ]
    },
    {
      "cell_type": "code",
      "metadata": {
        "id": "z3XBizkf-rPv",
        "colab_type": "code",
        "outputId": "d37ada99-ab3c-46e4-ecb3-39c8476d186d",
        "colab": {
          "base_uri": "https://localhost:8080/",
          "height": 34
        }
      },
      "source": [
        "my_dict = {'Leroy':5, 'Amy':2, 'Pete':True, 'Carly':'hi'}\n",
        "my_dict['Jaspreet'] = 9 # create a key 'Jaspreet' with value 9\n",
        "my_dict # dictionary now contains a new key:value pair!"
      ],
      "execution_count": 16,
      "outputs": [
        {
          "output_type": "execute_result",
          "data": {
            "text/plain": [
              "{'Amy': 2, 'Carly': 'hi', 'Jaspreet': 9, 'Leroy': 5, 'Pete': True}"
            ]
          },
          "metadata": {
            "tags": []
          },
          "execution_count": 16
        }
      ]
    },
    {
      "cell_type": "markdown",
      "metadata": {
        "id": "STGgWaU4AqkF",
        "colab_type": "text"
      },
      "source": [
        "We can use the same technique to change the value of an existing key in a dictionary."
      ]
    },
    {
      "cell_type": "code",
      "metadata": {
        "id": "fdLUFSGMAwQ4",
        "colab_type": "code",
        "outputId": "17d0b0f6-139c-4bb8-980b-0ee3e28854a0",
        "colab": {
          "base_uri": "https://localhost:8080/",
          "height": 34
        }
      },
      "source": [
        "my_dict = {'Leroy':5, 'Amy':2, 'Pete':True, 'Carly':'hi'}\n",
        "my_dict['Pete'] = False # re-assign the key 'Pete' to the value False\n",
        "my_dict # dictionary has been modified"
      ],
      "execution_count": 17,
      "outputs": [
        {
          "output_type": "execute_result",
          "data": {
            "text/plain": [
              "{'Amy': 2, 'Carly': 'hi', 'Leroy': 5, 'Pete': False}"
            ]
          },
          "metadata": {
            "tags": []
          },
          "execution_count": 17
        }
      ]
    },
    {
      "cell_type": "markdown",
      "metadata": {
        "id": "ROKbhjr6BXr4",
        "colab_type": "text"
      },
      "source": [
        "<b>Exercise 2.</b> Add a key-value pair `'e':3` to `my_dict`, and change the value of the key `'a'` to 4."
      ]
    },
    {
      "cell_type": "code",
      "metadata": {
        "id": "0engcX-aBrYz",
        "colab_type": "code",
        "outputId": "5aebc051-a728-4d9c-c473-8f957df7f700",
        "colab": {
          "base_uri": "https://localhost:8080/",
          "height": 34
        }
      },
      "source": [
        "my_dict = {'a':8, 'b':6, 's':5, 'i':1}\n",
        "# insert some code here to add a key-value pair 'e':3\n",
        "# insert some code here to change the value of the key 'a' to 4\n",
        "my_dict"
      ],
      "execution_count": 18,
      "outputs": [
        {
          "output_type": "execute_result",
          "data": {
            "text/plain": [
              "{'a': 8, 'b': 6, 'i': 1, 's': 5}"
            ]
          },
          "metadata": {
            "tags": []
          },
          "execution_count": 18
        }
      ]
    },
    {
      "cell_type": "markdown",
      "metadata": {
        "id": "jnuvIMbqBhXH",
        "colab_type": "text"
      },
      "source": [
        "There are various functions and methods that can be used to process dictionaries.\n",
        "\n",
        "For example, the `len()` function tells us how many `key:value` pairs are in the dictionary."
      ]
    },
    {
      "cell_type": "code",
      "metadata": {
        "id": "loZZYu2ICSLo",
        "colab_type": "code",
        "outputId": "db6619b7-b7b2-46a1-b0a9-cfa18a0ec105",
        "colab": {
          "base_uri": "https://localhost:8080/",
          "height": 34
        }
      },
      "source": [
        "my_dict = {'Leroy':5, 'Amy':2, 'Pete':True, 'Carly':'hi'}\n",
        "len(my_dict)"
      ],
      "execution_count": 19,
      "outputs": [
        {
          "output_type": "execute_result",
          "data": {
            "text/plain": [
              "4"
            ]
          },
          "metadata": {
            "tags": []
          },
          "execution_count": 19
        }
      ]
    },
    {
      "cell_type": "markdown",
      "metadata": {
        "id": "lJJupovSC0lE",
        "colab_type": "text"
      },
      "source": [
        "Likewise, the `.pop(keyname)` method allows us to remove the `key:value` pair corresponding to the key `keyname`."
      ]
    },
    {
      "cell_type": "code",
      "metadata": {
        "id": "7YOWsFUECW1B",
        "colab_type": "code",
        "outputId": "82ebdb77-6b43-4a16-f513-2e64cfcfa2e7",
        "colab": {
          "base_uri": "https://localhost:8080/",
          "height": 34
        }
      },
      "source": [
        "my_dict = {'Leroy':5, 'Amy':2, 'Pete':True, 'Carly':'hi'}\n",
        "my_dict.pop('Pete') # remove Pete\n",
        "my_dict # Pete is gone!"
      ],
      "execution_count": 20,
      "outputs": [
        {
          "output_type": "execute_result",
          "data": {
            "text/plain": [
              "{'Amy': 2, 'Carly': 'hi', 'Leroy': 5}"
            ]
          },
          "metadata": {
            "tags": []
          },
          "execution_count": 20
        }
      ]
    },
    {
      "cell_type": "markdown",
      "metadata": {
        "id": "9_PPd7mzMBok",
        "colab_type": "text"
      },
      "source": [
        "#Arrays\n",
        "\n",
        "To use arrays, we need to import the NumPy module which contains the code needed to create and manipulate arrays. We do this by adding `import numpy` at the top of our code.\n",
        "\n",
        "Then, we can call `numpy.array(<list of lists>)` to create a matrix array.\n"
      ]
    },
    {
      "cell_type": "code",
      "metadata": {
        "id": "xWK49LK-MC6q",
        "colab_type": "code",
        "outputId": "8c065ce1-0bf6-458d-ff26-53e8288653ba",
        "colab": {
          "base_uri": "https://localhost:8080/",
          "height": 67
        }
      },
      "source": [
        "import numpy\n",
        "my_array = numpy.array([[1,2,3],[4,5,6],[7,8,9]])\n",
        "my_array"
      ],
      "execution_count": 21,
      "outputs": [
        {
          "output_type": "execute_result",
          "data": {
            "text/plain": [
              "array([[1, 2, 3],\n",
              "       [4, 5, 6],\n",
              "       [7, 8, 9]])"
            ]
          },
          "metadata": {
            "tags": []
          },
          "execution_count": 21
        }
      ]
    },
    {
      "cell_type": "markdown",
      "metadata": {
        "id": "bGAU0tczJuO2",
        "colab_type": "text"
      },
      "source": [
        "We can reference the entry in the <i>i</i>-th row and <i>j</i>-th column of the array using the notation `[i,j]`. Remember to start counting with 0."
      ]
    },
    {
      "cell_type": "code",
      "metadata": {
        "colab_type": "code",
        "outputId": "93548799-5be7-4fb6-d5d1-764842828564",
        "id": "DfID-hpLKeBa",
        "colab": {
          "base_uri": "https://localhost:8080/",
          "height": 34
        }
      },
      "source": [
        "import numpy\n",
        "my_array = numpy.array([[1,2,3],[4,5,6],[7,8,9]])\n",
        "my_array[0,0]"
      ],
      "execution_count": 22,
      "outputs": [
        {
          "output_type": "execute_result",
          "data": {
            "text/plain": [
              "1"
            ]
          },
          "metadata": {
            "tags": []
          },
          "execution_count": 22
        }
      ]
    },
    {
      "cell_type": "code",
      "metadata": {
        "id": "-Yjdijn-KikE",
        "colab_type": "code",
        "outputId": "797f039f-4381-4ba3-d95d-321375f1351c",
        "colab": {
          "base_uri": "https://localhost:8080/",
          "height": 34
        }
      },
      "source": [
        "import numpy\n",
        "my_array = numpy.array([[1,2,3],[4,5,6],[7,8,9]])\n",
        "my_array[1,2]"
      ],
      "execution_count": 23,
      "outputs": [
        {
          "output_type": "execute_result",
          "data": {
            "text/plain": [
              "6"
            ]
          },
          "metadata": {
            "tags": []
          },
          "execution_count": 23
        }
      ]
    },
    {
      "cell_type": "markdown",
      "metadata": {
        "id": "bR7p7haDKqaa",
        "colab_type": "text"
      },
      "source": [
        "<b>Exercise 1.</b> Reference the entry in the bottom-left corner of the array (which is 7) using `[i,j]` notation."
      ]
    },
    {
      "cell_type": "code",
      "metadata": {
        "id": "gXLc9-LGKj5u",
        "colab_type": "code",
        "outputId": "b4c8eb1c-8d55-4260-f901-97e007c3314c",
        "colab": {
          "base_uri": "https://localhost:8080/",
          "height": 34
        }
      },
      "source": [
        "import numpy\n",
        "my_array = numpy.array([[1,2,3],[4,5,6],[7,8,9]])\n",
        "my_array[1,2] # change this [i,j] notation to reference the entry in the bottom-left corner (which is 7)"
      ],
      "execution_count": 24,
      "outputs": [
        {
          "output_type": "execute_result",
          "data": {
            "text/plain": [
              "6"
            ]
          },
          "metadata": {
            "tags": []
          },
          "execution_count": 24
        }
      ]
    },
    {
      "cell_type": "markdown",
      "metadata": {
        "id": "z3Jl1ZDBLTm6",
        "colab_type": "text"
      },
      "source": [
        "We can reference subarrays within arrays just like we reference sublists within lists."
      ]
    },
    {
      "cell_type": "code",
      "metadata": {
        "colab_type": "code",
        "outputId": "b7219f6d-1fdf-40d7-a063-ca74c19de6af",
        "id": "1Wr7ECSOLqVc",
        "colab": {
          "base_uri": "https://localhost:8080/",
          "height": 50
        }
      },
      "source": [
        "import numpy\n",
        "my_array = numpy.array([[1,2,3],[4,5,6],[7,8,9]])\n",
        "my_array[0:2,0:2] # gives the 2x2 square in the top-left corner"
      ],
      "execution_count": 25,
      "outputs": [
        {
          "output_type": "execute_result",
          "data": {
            "text/plain": [
              "array([[1, 2],\n",
              "       [4, 5]])"
            ]
          },
          "metadata": {
            "tags": []
          },
          "execution_count": 25
        }
      ]
    },
    {
      "cell_type": "markdown",
      "metadata": {
        "id": "xhA6suxRL8Ji",
        "colab_type": "text"
      },
      "source": [
        "<b>Exercise 2.</b> Reference the 2x2 square in the top-right corner of the array in the bottom-left corner of the array (which is $\\begin{bmatrix} 2 & 3 \\\\ 5 & 6 \\end{bmatrix}$) using subarray notation."
      ]
    },
    {
      "cell_type": "code",
      "metadata": {
        "id": "5rNWRLjpL7iv",
        "colab_type": "code",
        "colab": {
          "base_uri": "https://localhost:8080/",
          "height": 50
        },
        "outputId": "fec2e68f-349f-4ad5-c8d7-e7dc556ed0ec"
      },
      "source": [
        "import numpy\n",
        "my_array = numpy.array([[1,2,3],[4,5,6],[7,8,9]])\n",
        "my_array[0:2,0:2] # change the subarray notation to reference the 2x2 square in the top-right corner"
      ],
      "execution_count": 26,
      "outputs": [
        {
          "output_type": "execute_result",
          "data": {
            "text/plain": [
              "array([[1, 2],\n",
              "       [4, 5]])"
            ]
          },
          "metadata": {
            "tags": []
          },
          "execution_count": 26
        }
      ]
    },
    {
      "cell_type": "markdown",
      "metadata": {
        "id": "Gb_LgN6RNtvb",
        "colab_type": "text"
      },
      "source": [
        "Arrays of the same shape can be added and subtracted."
      ]
    },
    {
      "cell_type": "code",
      "metadata": {
        "id": "YwKxYoWmN9WE",
        "colab_type": "code",
        "colab": {
          "base_uri": "https://localhost:8080/",
          "height": 50
        },
        "outputId": "191d1080-b597-45c9-ff1a-0203d0546083"
      },
      "source": [
        "import numpy\n",
        "A = numpy.array([[10,10],[20,20]])\n",
        "B = numpy.array([[1,2],[3,4]])\n",
        "A+B"
      ],
      "execution_count": 27,
      "outputs": [
        {
          "output_type": "execute_result",
          "data": {
            "text/plain": [
              "array([[11, 12],\n",
              "       [23, 24]])"
            ]
          },
          "metadata": {
            "tags": []
          },
          "execution_count": 27
        }
      ]
    },
    {
      "cell_type": "code",
      "metadata": {
        "id": "E4aa16jiOKue",
        "colab_type": "code",
        "colab": {
          "base_uri": "https://localhost:8080/",
          "height": 50
        },
        "outputId": "341ee9ec-57df-4ba9-9504-68403dc042d2"
      },
      "source": [
        "import numpy\n",
        "A = numpy.array([[10,10],[20,20]])\n",
        "B = numpy.array([[1,2],[3,4]])\n",
        "A-B"
      ],
      "execution_count": 28,
      "outputs": [
        {
          "output_type": "execute_result",
          "data": {
            "text/plain": [
              "array([[ 9,  8],\n",
              "       [17, 16]])"
            ]
          },
          "metadata": {
            "tags": []
          },
          "execution_count": 28
        }
      ]
    },
    {
      "cell_type": "markdown",
      "metadata": {
        "id": "fMo3Dmp2N1cg",
        "colab_type": "text"
      },
      "source": [
        "Arrays of the same shape can also be multiplied and divided.\n",
        "\n",
        "<b>Caution.</b> The multiplication and division is carried out separately in each component -- so array multiplication is not the same as the matrix multiplication procedure you may have learned in math class."
      ]
    },
    {
      "cell_type": "code",
      "metadata": {
        "id": "ADB_G1c0OUyk",
        "colab_type": "code",
        "colab": {
          "base_uri": "https://localhost:8080/",
          "height": 50
        },
        "outputId": "83a8fcbe-61d6-44af-8bbd-e1a4d45e362a"
      },
      "source": [
        "import numpy\n",
        "A = numpy.array([[1,2],[3,4]])\n",
        "B = numpy.array([[1,1],[2,2]])\n",
        "A*B"
      ],
      "execution_count": 29,
      "outputs": [
        {
          "output_type": "execute_result",
          "data": {
            "text/plain": [
              "array([[1, 2],\n",
              "       [6, 8]])"
            ]
          },
          "metadata": {
            "tags": []
          },
          "execution_count": 29
        }
      ]
    },
    {
      "cell_type": "code",
      "metadata": {
        "id": "z3MpxfqLOjgc",
        "colab_type": "code",
        "colab": {
          "base_uri": "https://localhost:8080/",
          "height": 50
        },
        "outputId": "4421b23c-9f83-4159-fed1-4de2f8caaae9"
      },
      "source": [
        "import numpy\n",
        "A = numpy.array([[1,2],[3,4]])\n",
        "B = numpy.array([[1,1],[2,2]])\n",
        "A/B"
      ],
      "execution_count": 30,
      "outputs": [
        {
          "output_type": "execute_result",
          "data": {
            "text/plain": [
              "array([[1. , 2. ],\n",
              "       [1.5, 2. ]])"
            ]
          },
          "metadata": {
            "tags": []
          },
          "execution_count": 30
        }
      ]
    },
    {
      "cell_type": "markdown",
      "metadata": {
        "id": "3fXoX3ddPA4Q",
        "colab_type": "text"
      },
      "source": [
        "Some seemingly improper array operations are allowed if there is a way to make intuitive sense of them.\n",
        "\n",
        "For example, if a single number is added to an array, then the number is added to each entry of the array."
      ]
    },
    {
      "cell_type": "code",
      "metadata": {
        "id": "BpmwjaNRSaub",
        "colab_type": "code",
        "colab": {
          "base_uri": "https://localhost:8080/",
          "height": 50
        },
        "outputId": "3561b2b0-7b2c-4bc2-e4ec-70bed4a9e915"
      },
      "source": [
        "import numpy\n",
        "A = numpy.array([[1,2],[3,4]])\n",
        "A+10"
      ],
      "execution_count": 31,
      "outputs": [
        {
          "output_type": "execute_result",
          "data": {
            "text/plain": [
              "array([[11, 12],\n",
              "       [13, 14]])"
            ]
          },
          "metadata": {
            "tags": []
          },
          "execution_count": 31
        }
      ]
    },
    {
      "cell_type": "markdown",
      "metadata": {
        "id": "kms-PUA7SU-R",
        "colab_type": "text"
      },
      "source": [
        "Likewise, if a single row is added to a square array of the same length, then the row is added to each row of the square array."
      ]
    },
    {
      "cell_type": "code",
      "metadata": {
        "id": "6savzMszNYux",
        "colab_type": "code",
        "colab": {
          "base_uri": "https://localhost:8080/",
          "height": 50
        },
        "outputId": "b761d6ce-d507-4e53-88df-4c6ee874046c"
      },
      "source": [
        "import numpy\n",
        "A = numpy.array([[1,2],[3,4]])\n",
        "b = numpy.array([10,20])\n",
        "A+b"
      ],
      "execution_count": 32,
      "outputs": [
        {
          "output_type": "execute_result",
          "data": {
            "text/plain": [
              "array([[11, 22],\n",
              "       [13, 24]])"
            ]
          },
          "metadata": {
            "tags": []
          },
          "execution_count": 32
        }
      ]
    },
    {
      "cell_type": "markdown",
      "metadata": {
        "id": "YKcQ52-kQmIV",
        "colab_type": "text"
      },
      "source": [
        "<b>Exercise 3.</b> Change array `B` so that `A+B` comes out to a matrix whose entries are all `10`."
      ]
    },
    {
      "cell_type": "code",
      "metadata": {
        "id": "07W-ORzYNoZ_",
        "colab_type": "code",
        "colab": {
          "base_uri": "https://localhost:8080/",
          "height": 50
        },
        "outputId": "dfe07546-ac64-40e2-aa8c-e8650d315705"
      },
      "source": [
        "import numpy\n",
        "A = numpy.array([[1,2],[3,4]])\n",
        "B = numpy.array([[1,1],[1,1]]) # change the entries here so that A+B has all entries equal to 10\n",
        "A+B"
      ],
      "execution_count": 33,
      "outputs": [
        {
          "output_type": "execute_result",
          "data": {
            "text/plain": [
              "array([[2, 3],\n",
              "       [4, 5]])"
            ]
          },
          "metadata": {
            "tags": []
          },
          "execution_count": 33
        }
      ]
    },
    {
      "cell_type": "code",
      "metadata": {
        "id": "2hxiSUAJQ9L6",
        "colab_type": "code",
        "colab": {}
      },
      "source": [
        ""
      ],
      "execution_count": 0,
      "outputs": []
    },
    {
      "cell_type": "markdown",
      "metadata": {
        "id": "cw8DnbRfSokY",
        "colab_type": "text"
      },
      "source": [
        "array functions/methods --> .dot() method, stacking methods/functions, row/column sums\n",
        "\n",
        "higher-dimensional arrays --> tensors"
      ]
    },
    {
      "cell_type": "code",
      "metadata": {
        "id": "yzDisQbZSwkI",
        "colab_type": "code",
        "colab": {}
      },
      "source": [
        ""
      ],
      "execution_count": 0,
      "outputs": []
    }
  ]
}