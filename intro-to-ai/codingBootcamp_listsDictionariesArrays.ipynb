{
  "nbformat": 4,
  "nbformat_minor": 0,
  "metadata": {
    "colab": {
      "name": "codingBootcamp_listsDictionariesArrays.ipynb",
      "version": "0.3.2",
      "provenance": [],
      "collapsed_sections": [],
      "toc_visible": true,
      "include_colab_link": true
    },
    "kernelspec": {
      "name": "python3",
      "display_name": "Python 3"
    }
  },
  "cells": [
    {
      "cell_type": "markdown",
      "metadata": {
        "id": "view-in-github",
        "colab_type": "text"
      },
      "source": [
        "<a href=\"https://colab.research.google.com/github/jpskycak/aihigh/blob/master/intro-to-ai/codingBootcamp_listsDictionariesArrays.ipynb\" target=\"_parent\"><img src=\"https://colab.research.google.com/assets/colab-badge.svg\" alt=\"Open In Colab\"/></a>"
      ]
    },
    {
      "cell_type": "markdown",
      "metadata": {
        "id": "D7c3mb1OQ3CN",
        "colab_type": "text"
      },
      "source": [
        "#Setup\n",
        "\n",
        "In order to run the notebook,\n",
        "\n",
        "1. sign into your Google account (top-right) and\n",
        "2. make a copy of the notebook in your Google Drive by pressing the <img src=\"https://i.imgur.com/chlzY9P.png\" alt=\"Drawing\" width=\"100\"/> button in the upper-left menu."
      ]
    },
    {
      "cell_type": "markdown",
      "metadata": {
        "id": "ZGkyQmniPrwy",
        "colab_type": "text"
      },
      "source": [
        "#Data Structures\n",
        "\n",
        "When programming, we often work with many related pieces of data. To be organized and efficient, we store them within a single variable called a <b>data structure.</b> This way, we can efficiently perform operations on the data structure as a whole rather than having to operate on each piece of data as a separate variable.\n",
        "\n",
        "We will primarily be using 3 types of data structures: lists, dictionaries, and arrays.\n",
        "<ul>\n",
        "<li><b>Lists</b> store pieces of data in a sequence, so that data can be referenced by its index in the list.</li>\n",
        "  <li><b>Dictionaries</b> store pieces of data under labels called <i>keys</i>, so that data can be referenced its key in the dictionary.</li>\n",
        "<li><b>Arrays</b> store pieces of data in matrices and higher-dimensional matrices called <i>tensors</i>, so that data can be referenced by its index in the matrix or tensor.</li>\n",
        "</ul>"
      ]
    },
    {
      "cell_type": "markdown",
      "metadata": {
        "colab_type": "text",
        "id": "OkZxxShdi8rS"
      },
      "source": [
        "#Lists\n",
        "\n",
        "A list is defined by enclosing a sequence of data within brackets. Lists can consist of strings, ints/floats, booleans, or a mix of all those types.\n"
      ]
    },
    {
      "cell_type": "code",
      "metadata": {
        "id": "5A7ZxHgOo6pY",
        "colab_type": "code",
        "colab": {
          "base_uri": "https://localhost:8080/",
          "height": 34
        },
        "outputId": "8eb82446-43e3-4eb1-d086-0ecfa7bdffe7"
      },
      "source": [
        "mixed_list = [5,-9,3.14,'a','b','c',True,False]\n",
        "mixed_list"
      ],
      "execution_count": 1,
      "outputs": [
        {
          "output_type": "execute_result",
          "data": {
            "text/plain": [
              "[5, -9, 3.14, 'a', 'b', 'c', True, False]"
            ]
          },
          "metadata": {
            "tags": []
          },
          "execution_count": 1
        }
      ]
    },
    {
      "cell_type": "markdown",
      "metadata": {
        "id": "Q0OAxeAMsl8w",
        "colab_type": "text"
      },
      "source": [
        "Two lists can be concatenated into a single list by adding them together."
      ]
    },
    {
      "cell_type": "code",
      "metadata": {
        "id": "_Bfjir2esuoK",
        "colab_type": "code",
        "colab": {
          "base_uri": "https://localhost:8080/",
          "height": 34
        },
        "outputId": "4fcabd0b-e9a1-4bc4-8194-26992a8d9760"
      },
      "source": [
        "[1,2,3]+['a','b','c']"
      ],
      "execution_count": 2,
      "outputs": [
        {
          "output_type": "execute_result",
          "data": {
            "text/plain": [
              "[1, 2, 3, 'a', 'b', 'c']"
            ]
          },
          "metadata": {
            "tags": []
          },
          "execution_count": 2
        }
      ]
    },
    {
      "cell_type": "markdown",
      "metadata": {
        "id": "I9xHrVA1s1a7",
        "colab_type": "text"
      },
      "source": [
        "<b>Exercise 1.</b> Add the following lists in some order to create the list `['a','c',5,1.2,True]`."
      ]
    },
    {
      "cell_type": "code",
      "metadata": {
        "id": "vk1P79tAtKMV",
        "colab_type": "code",
        "colab": {
          "base_uri": "https://localhost:8080/",
          "height": 34
        },
        "outputId": "3de9f802-8f58-41a3-dc48-11a9d05e1911"
      },
      "source": [
        "list1 = [True]\n",
        "list2 = ['a','c']\n",
        "list3 = [5,1.2]\n",
        "list1+list2+list3 # change the order of addition to create the list ['a','c',5,1.2,True]"
      ],
      "execution_count": 3,
      "outputs": [
        {
          "output_type": "execute_result",
          "data": {
            "text/plain": [
              "[True, 'a', 'c', 5, 1.2]"
            ]
          },
          "metadata": {
            "tags": []
          },
          "execution_count": 3
        }
      ]
    },
    {
      "cell_type": "markdown",
      "metadata": {
        "id": "c5asOnJ4pLm1",
        "colab_type": "text"
      },
      "source": [
        "Referencing items in lists is very similar to picking out characters from strings -- we can simply use the index of the item. (Really, a string is just a list of characters.)\n",
        "\n",
        "Remember, the index just counts how many items are before our desired item -- so the first item has an index of 0, the second item has an index of 1, the third item has an index of 2, and so on."
      ]
    },
    {
      "cell_type": "code",
      "metadata": {
        "id": "BO6ghx2upKzJ",
        "colab_type": "code",
        "colab": {
          "base_uri": "https://localhost:8080/",
          "height": 34
        },
        "outputId": "fc6a1cad-1a7b-4c33-af8b-926afb701ff2"
      },
      "source": [
        "mixed_list = [5,-9,3.14,'a','b','c',True,False]\n",
        "mixed_list[0]"
      ],
      "execution_count": 4,
      "outputs": [
        {
          "output_type": "execute_result",
          "data": {
            "text/plain": [
              "5"
            ]
          },
          "metadata": {
            "tags": []
          },
          "execution_count": 4
        }
      ]
    },
    {
      "cell_type": "code",
      "metadata": {
        "id": "5CLOx7Sipveh",
        "colab_type": "code",
        "colab": {
          "base_uri": "https://localhost:8080/",
          "height": 34
        },
        "outputId": "b121f645-d578-4164-fa00-3bf1cd5502fd"
      },
      "source": [
        "mixed_list = [5,-9,3.14,'a','b','c',True,False]\n",
        "mixed_list[3]"
      ],
      "execution_count": 5,
      "outputs": [
        {
          "output_type": "execute_result",
          "data": {
            "text/plain": [
              "'a'"
            ]
          },
          "metadata": {
            "tags": []
          },
          "execution_count": 5
        }
      ]
    },
    {
      "cell_type": "markdown",
      "metadata": {
        "id": "qR7bO2-cp4KV",
        "colab_type": "text"
      },
      "source": [
        "<b>Exercise 2.</b> Reference the item `'c'` in `mixed_list` using its index in the list."
      ]
    },
    {
      "cell_type": "code",
      "metadata": {
        "id": "RXMHFbUxqHeW",
        "colab_type": "code",
        "colab": {
          "base_uri": "https://localhost:8080/",
          "height": 34
        },
        "outputId": "80f21d8e-83d8-47bf-e378-9ce7c7871dfe"
      },
      "source": [
        "mixed_list = [5,-9,3.14,'a','b','c',True,False]\n",
        "mixed_list[1] # change the index to reference the item 'c'"
      ],
      "execution_count": 6,
      "outputs": [
        {
          "output_type": "execute_result",
          "data": {
            "text/plain": [
              "-9"
            ]
          },
          "metadata": {
            "tags": []
          },
          "execution_count": 6
        }
      ]
    },
    {
      "cell_type": "markdown",
      "metadata": {
        "id": "7PXraLo-qhVs",
        "colab_type": "text"
      },
      "source": [
        "Just as substrings can be picked out of strings, sublists can be picked out of sublists by using two indices and a colon.\n",
        "\n",
        "Remember, the first index tells us where we should start picking out items, and the second index tells us where we should stop picking out items. (The item located at the second index is not included in the sublist.)"
      ]
    },
    {
      "cell_type": "code",
      "metadata": {
        "id": "aydZiQTzrfQ9",
        "colab_type": "code",
        "colab": {
          "base_uri": "https://localhost:8080/",
          "height": 34
        },
        "outputId": "fa44cc64-9463-4f4b-d369-4b72fdaa7201"
      },
      "source": [
        "mixed_list = [5,-9,3.14,'a','b','c',True,False]\n",
        "mixed_list[2:4]"
      ],
      "execution_count": 7,
      "outputs": [
        {
          "output_type": "execute_result",
          "data": {
            "text/plain": [
              "[3.14, 'a']"
            ]
          },
          "metadata": {
            "tags": []
          },
          "execution_count": 7
        }
      ]
    },
    {
      "cell_type": "markdown",
      "metadata": {
        "id": "R-P_xb9YroYl",
        "colab_type": "text"
      },
      "source": [
        "<b>Exercise 3.</b> Pick out the sublist `['a','b','c']` from `mixed_list` by using two indices and a colon."
      ]
    },
    {
      "cell_type": "code",
      "metadata": {
        "id": "XG_d03Oar3D4",
        "colab_type": "code",
        "colab": {
          "base_uri": "https://localhost:8080/",
          "height": 34
        },
        "outputId": "9a568b3b-1293-4ceb-950a-e5984a4d96ad"
      },
      "source": [
        "mixed_list = [5,-9,3.14,'a','b','c',True,False]\n",
        "mixed_list[2:4] # change the two indices so that the resulting sublist is ['a','b','c']"
      ],
      "execution_count": 8,
      "outputs": [
        {
          "output_type": "execute_result",
          "data": {
            "text/plain": [
              "[3.14, 'a']"
            ]
          },
          "metadata": {
            "tags": []
          },
          "execution_count": 8
        }
      ]
    },
    {
      "cell_type": "markdown",
      "metadata": {
        "id": "D-ePFlkisC3w",
        "colab_type": "text"
      },
      "source": [
        "There are various functions and methods that can be used to process lists.\n",
        "\n",
        "For example, the `len()` function tells us how many items are in a list."
      ]
    },
    {
      "cell_type": "code",
      "metadata": {
        "id": "KOhZ5wuZsRbW",
        "colab_type": "code",
        "colab": {
          "base_uri": "https://localhost:8080/",
          "height": 34
        },
        "outputId": "97cabc0e-6e3f-4c85-bdc0-2ee13dd6e39c"
      },
      "source": [
        "mixed_list = [5,-9,3.14,'a','b','c',True,False]\n",
        "len(mixed_list)"
      ],
      "execution_count": 9,
      "outputs": [
        {
          "output_type": "execute_result",
          "data": {
            "text/plain": [
              "8"
            ]
          },
          "metadata": {
            "tags": []
          },
          "execution_count": 9
        }
      ]
    },
    {
      "cell_type": "markdown",
      "metadata": {
        "id": "2SmSkpbZsYJA",
        "colab_type": "text"
      },
      "source": [
        "Likewise, the `.insert(i,x)` method inserts the item `x` into the list so that it occupies index `i`."
      ]
    },
    {
      "cell_type": "code",
      "metadata": {
        "id": "g4EYuoglt2Um",
        "colab_type": "code",
        "colab": {
          "base_uri": "https://localhost:8080/",
          "height": 34
        },
        "outputId": "765ee311-b8d9-4bd0-8c9d-8a8283f9f299"
      },
      "source": [
        "alphabet_missing_c = ['a','b','d','e']\n",
        "alphabet_missing_c.insert(2,'c')\n",
        "alphabet_missing_c"
      ],
      "execution_count": 10,
      "outputs": [
        {
          "output_type": "execute_result",
          "data": {
            "text/plain": [
              "['a', 'b', 'c', 'd', 'e']"
            ]
          },
          "metadata": {
            "tags": []
          },
          "execution_count": 10
        }
      ]
    },
    {
      "cell_type": "markdown",
      "metadata": {
        "id": "2DJA_bHSuN77",
        "colab_type": "text"
      },
      "source": [
        "There are many, many functions and methods that can be applied to lists. As such, we will not go through all of them.\n",
        "\n",
        "However, it is important to know how to find a function or method when you need it. You can usually find them by searching Google."
      ]
    },
    {
      "cell_type": "markdown",
      "metadata": {
        "id": "LBpN-DO6ubn4",
        "colab_type": "text"
      },
      "source": [
        "<b>Exercise 4.</b> Use functions or methods to perform the desired operations on the following lists."
      ]
    },
    {
      "cell_type": "code",
      "metadata": {
        "id": "5IZGHlFMvHSo",
        "colab_type": "code",
        "colab": {}
      },
      "source": [
        "counting_up = [1,2,3,4,5] # reverse the list so that it is counting down: [5,4,3,2,1]"
      ],
      "execution_count": 0,
      "outputs": []
    },
    {
      "cell_type": "code",
      "metadata": {
        "id": "d-D8tR8TuuVS",
        "colab_type": "code",
        "colab": {}
      },
      "source": [
        "has_lots_of_Es = ['a','b','e','c','d','e','e','f','e','e'] # count how many items in the list have the value 'e'"
      ],
      "execution_count": 0,
      "outputs": []
    },
    {
      "cell_type": "markdown",
      "metadata": {
        "id": "Q6dU3-GdL_uu",
        "colab_type": "text"
      },
      "source": [
        "#Dictionaries\n",
        "\n",
        "asdf\n"
      ]
    },
    {
      "cell_type": "markdown",
      "metadata": {
        "id": "9_PPd7mzMBok",
        "colab_type": "text"
      },
      "source": [
        "#Arrays\n",
        "\n",
        "asdf\n"
      ]
    },
    {
      "cell_type": "code",
      "metadata": {
        "id": "xWK49LK-MC6q",
        "colab_type": "code",
        "colab": {}
      },
      "source": [
        ""
      ],
      "execution_count": 0,
      "outputs": []
    }
  ]
}