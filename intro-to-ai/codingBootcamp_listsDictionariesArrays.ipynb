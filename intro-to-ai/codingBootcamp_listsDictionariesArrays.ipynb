{
  "nbformat": 4,
  "nbformat_minor": 0,
  "metadata": {
    "colab": {
      "name": "codingBootcamp_listsDictionariesArrays.ipynb",
      "version": "0.3.2",
      "provenance": [],
      "collapsed_sections": [],
      "toc_visible": true,
      "include_colab_link": true
    },
    "kernelspec": {
      "name": "python3",
      "display_name": "Python 3"
    }
  },
  "cells": [
    {
      "cell_type": "markdown",
      "metadata": {
        "id": "view-in-github",
        "colab_type": "text"
      },
      "source": [
        "<a href=\"https://colab.research.google.com/github/jpskycak/aihigh/blob/master/intro-to-ai/codingBootcamp_listsDictionariesArrays.ipynb\" target=\"_parent\"><img src=\"https://colab.research.google.com/assets/colab-badge.svg\" alt=\"Open In Colab\"/></a>"
      ]
    },
    {
      "cell_type": "markdown",
      "metadata": {
        "id": "D7c3mb1OQ3CN",
        "colab_type": "text"
      },
      "source": [
        "#Setup\n",
        "\n",
        "In order to run the notebook,\n",
        "\n",
        "1. sign into your Google account (top-right) and\n",
        "2. make a copy of the notebook in your Google Drive by pressing the <img src=\"https://i.imgur.com/chlzY9P.png\" alt=\"Drawing\" width=\"100\"/> button in the upper-left menu."
      ]
    },
    {
      "cell_type": "markdown",
      "metadata": {
        "colab_type": "text",
        "id": "OkZxxShdi8rS"
      },
      "source": [
        "#Lists\n",
        "\n",
        "asdf\n"
      ]
    },
    {
      "cell_type": "markdown",
      "metadata": {
        "id": "Q6dU3-GdL_uu",
        "colab_type": "text"
      },
      "source": [
        "#Dictionaries\n",
        "\n",
        "asdf\n"
      ]
    },
    {
      "cell_type": "markdown",
      "metadata": {
        "id": "9_PPd7mzMBok",
        "colab_type": "text"
      },
      "source": [
        "#Arrays\n",
        "\n",
        "asdf\n"
      ]
    },
    {
      "cell_type": "code",
      "metadata": {
        "id": "xWK49LK-MC6q",
        "colab_type": "code",
        "colab": {}
      },
      "source": [
        ""
      ],
      "execution_count": 0,
      "outputs": []
    }
  ]
}