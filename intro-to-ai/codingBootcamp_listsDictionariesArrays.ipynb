{
  "nbformat": 4,
  "nbformat_minor": 0,
  "metadata": {
    "colab": {
      "name": "codingBootcamp_listsDictionariesArrays.ipynb",
      "version": "0.3.2",
      "provenance": [],
      "collapsed_sections": [],
      "toc_visible": true,
      "include_colab_link": true
    },
    "kernelspec": {
      "name": "python3",
      "display_name": "Python 3"
    }
  },
  "cells": [
    {
      "cell_type": "markdown",
      "metadata": {
        "id": "view-in-github",
        "colab_type": "text"
      },
      "source": [
        "<a href=\"https://colab.research.google.com/github/jpskycak/aihigh/blob/master/intro-to-ai/codingBootcamp_listsDictionariesArrays.ipynb\" target=\"_parent\"><img src=\"https://colab.research.google.com/assets/colab-badge.svg\" alt=\"Open In Colab\"/></a>"
      ]
    },
    {
      "cell_type": "markdown",
      "metadata": {
        "id": "D7c3mb1OQ3CN",
        "colab_type": "text"
      },
      "source": [
        "#Setup\n",
        "\n",
        "In order to run the notebook,\n",
        "\n",
        "1. sign into your Google account (top-right) and\n",
        "2. make a copy of the notebook in your Google Drive by pressing the <img src=\"https://i.imgur.com/chlzY9P.png\" alt=\"Drawing\" width=\"100\"/> button in the upper-left menu."
      ]
    },
    {
      "cell_type": "markdown",
      "metadata": {
        "id": "ZGkyQmniPrwy",
        "colab_type": "text"
      },
      "source": [
        "---\n",
        "\n",
        "#Data Structures\n",
        "\n",
        "When programming, we often work with many related pieces of data. To be organized and efficient, we store them within a single variable called a <b>data structure.</b> This way, we can efficiently perform operations on the data structure as a whole rather than having to operate on each piece of data as a separate variable.\n",
        "\n",
        "We will primarily be using 3 types of data structures: lists, dictionaries, and arrays.\n",
        "<ul>\n",
        "<li><b>Lists</b> store pieces of data in a sequence, so that data can be referenced by its index in the list.</li>\n",
        "  <li><b>Dictionaries</b> store pieces of data under labels called <i>keys</i>, so that data can be referenced its key in the dictionary.</li>\n",
        "<li><b>Arrays</b> store pieces of data in matrices and higher-dimensional matrices called <i>tensors</i>, so that data can be referenced by its index in the matrix or tensor.</li>\n",
        "</ul>"
      ]
    },
    {
      "cell_type": "markdown",
      "metadata": {
        "colab_type": "text",
        "id": "OkZxxShdi8rS"
      },
      "source": [
        "---\n",
        "\n",
        "##Lists\n",
        "\n",
        "A list is defined by enclosing a sequence of data within brackets.\n"
      ]
    },
    {
      "cell_type": "code",
      "metadata": {
        "id": "5A7ZxHgOo6pY",
        "colab_type": "code",
        "outputId": "a8173836-66f9-47a0-ca34-95268d3b96c3",
        "colab": {
          "base_uri": "https://localhost:8080/",
          "height": 34
        }
      },
      "source": [
        "mixed_list = [5,-9,3.14,'a','b','c',True,False]\n",
        "mixed_list"
      ],
      "execution_count": 0,
      "outputs": [
        {
          "output_type": "execute_result",
          "data": {
            "text/plain": [
              "[5, -9, 3.14, 'a', 'b', 'c', True, False]"
            ]
          },
          "metadata": {
            "tags": []
          },
          "execution_count": 1
        }
      ]
    },
    {
      "cell_type": "markdown",
      "metadata": {
        "id": "Q0OAxeAMsl8w",
        "colab_type": "text"
      },
      "source": [
        "Two lists can be concatenated into a single list by adding them together."
      ]
    },
    {
      "cell_type": "code",
      "metadata": {
        "id": "_Bfjir2esuoK",
        "colab_type": "code",
        "outputId": "187b150d-935e-45cd-8eaf-970404f52378",
        "colab": {
          "base_uri": "https://localhost:8080/",
          "height": 34
        }
      },
      "source": [
        "[1,2,3]+['a','b','c']"
      ],
      "execution_count": 0,
      "outputs": [
        {
          "output_type": "execute_result",
          "data": {
            "text/plain": [
              "[1, 2, 3, 'a', 'b', 'c']"
            ]
          },
          "metadata": {
            "tags": []
          },
          "execution_count": 2
        }
      ]
    },
    {
      "cell_type": "markdown",
      "metadata": {
        "id": "I9xHrVA1s1a7",
        "colab_type": "text"
      },
      "source": [
        "---\n",
        "\n",
        "### Exercise 1\n",
        "\n",
        "Add the following lists in some order to create the list `['a','c',5,1.2,True]`."
      ]
    },
    {
      "cell_type": "code",
      "metadata": {
        "id": "vk1P79tAtKMV",
        "colab_type": "code",
        "outputId": "d6b2d955-09ed-4f2d-eea9-26f7dcce2f96",
        "colab": {
          "base_uri": "https://localhost:8080/",
          "height": 34
        }
      },
      "source": [
        "list1 = [True]\n",
        "list2 = ['a','c']\n",
        "list3 = [5,1.2]\n",
        "list1+list2+list3 # change the order of addition to create the list ['a','c',5,1.2,True]"
      ],
      "execution_count": 0,
      "outputs": [
        {
          "output_type": "execute_result",
          "data": {
            "text/plain": [
              "[True, 'a', 'c', 5, 1.2]"
            ]
          },
          "metadata": {
            "tags": []
          },
          "execution_count": 3
        }
      ]
    },
    {
      "cell_type": "markdown",
      "metadata": {
        "id": "c5asOnJ4pLm1",
        "colab_type": "text"
      },
      "source": [
        "---\n",
        "\n",
        "Referencing items in lists is very similar to picking out characters from strings -- we can simply use the index of the item. (Really, a string is just a list of characters.)\n",
        "\n",
        "Remember, the index just counts how many items are before our desired item -- so the first item has an index of 0, the second item has an index of 1, the third item has an index of 2, and so on."
      ]
    },
    {
      "cell_type": "code",
      "metadata": {
        "id": "BO6ghx2upKzJ",
        "colab_type": "code",
        "outputId": "8216e340-943b-42f8-e361-5708cb360a62",
        "colab": {
          "base_uri": "https://localhost:8080/",
          "height": 34
        }
      },
      "source": [
        "mixed_list = [5,-9,3.14,'a','b','c',True,False]\n",
        "mixed_list[0]"
      ],
      "execution_count": 0,
      "outputs": [
        {
          "output_type": "execute_result",
          "data": {
            "text/plain": [
              "5"
            ]
          },
          "metadata": {
            "tags": []
          },
          "execution_count": 4
        }
      ]
    },
    {
      "cell_type": "code",
      "metadata": {
        "id": "5CLOx7Sipveh",
        "colab_type": "code",
        "outputId": "53758faf-bc3c-4231-95e3-1b9da3df82d3",
        "colab": {
          "base_uri": "https://localhost:8080/",
          "height": 34
        }
      },
      "source": [
        "mixed_list = [5,-9,3.14,'a','b','c',True,False]\n",
        "mixed_list[3]"
      ],
      "execution_count": 0,
      "outputs": [
        {
          "output_type": "execute_result",
          "data": {
            "text/plain": [
              "'a'"
            ]
          },
          "metadata": {
            "tags": []
          },
          "execution_count": 5
        }
      ]
    },
    {
      "cell_type": "markdown",
      "metadata": {
        "id": "qR7bO2-cp4KV",
        "colab_type": "text"
      },
      "source": [
        "---\n",
        "\n",
        "### Exercise 2\n",
        "\n",
        "Reference the item `'c'` in `mixed_list` using its index in the list."
      ]
    },
    {
      "cell_type": "code",
      "metadata": {
        "id": "RXMHFbUxqHeW",
        "colab_type": "code",
        "outputId": "850e6d5d-bc1f-46f9-c5fa-00d4df3bb23a",
        "colab": {
          "base_uri": "https://localhost:8080/",
          "height": 34
        }
      },
      "source": [
        "mixed_list = [5,-9,3.14,'a','b','c',True,False]\n",
        "mixed_list[1] # change the index to reference the item 'c'"
      ],
      "execution_count": 0,
      "outputs": [
        {
          "output_type": "execute_result",
          "data": {
            "text/plain": [
              "-9"
            ]
          },
          "metadata": {
            "tags": []
          },
          "execution_count": 6
        }
      ]
    },
    {
      "cell_type": "markdown",
      "metadata": {
        "id": "7PXraLo-qhVs",
        "colab_type": "text"
      },
      "source": [
        "---\n",
        "\n",
        "Just as substrings can be picked out of strings, sublists can be picked out of sublists by using two indices and a colon.\n",
        "\n",
        "Remember, the first index tells us where we should start picking out items, and the second index tells us where we should stop picking out items. (The item located at the second index is not included in the sublist.)"
      ]
    },
    {
      "cell_type": "code",
      "metadata": {
        "id": "aydZiQTzrfQ9",
        "colab_type": "code",
        "outputId": "dd598a72-2e8e-4e80-916a-ec1d5f8306ae",
        "colab": {
          "base_uri": "https://localhost:8080/",
          "height": 34
        }
      },
      "source": [
        "mixed_list = [5,-9,3.14,'a','b','c',True,False]\n",
        "mixed_list[2:4]"
      ],
      "execution_count": 0,
      "outputs": [
        {
          "output_type": "execute_result",
          "data": {
            "text/plain": [
              "[3.14, 'a']"
            ]
          },
          "metadata": {
            "tags": []
          },
          "execution_count": 7
        }
      ]
    },
    {
      "cell_type": "markdown",
      "metadata": {
        "id": "R-P_xb9YroYl",
        "colab_type": "text"
      },
      "source": [
        "---\n",
        "\n",
        "### Exercise 3\n",
        "\n",
        "Pick out the sublist `['a','b','c']` from `mixed_list` by using two indices and a colon."
      ]
    },
    {
      "cell_type": "code",
      "metadata": {
        "id": "XG_d03Oar3D4",
        "colab_type": "code",
        "outputId": "cb5d1186-f6a5-4d18-9afd-4385c4a23073",
        "colab": {
          "base_uri": "https://localhost:8080/",
          "height": 34
        }
      },
      "source": [
        "mixed_list = [5,-9,3.14,'a','b','c',True,False]\n",
        "mixed_list[2:4] # change the two indices so that the resulting sublist is ['a','b','c']"
      ],
      "execution_count": 0,
      "outputs": [
        {
          "output_type": "execute_result",
          "data": {
            "text/plain": [
              "[3.14, 'a']"
            ]
          },
          "metadata": {
            "tags": []
          },
          "execution_count": 8
        }
      ]
    },
    {
      "cell_type": "markdown",
      "metadata": {
        "id": "D-ePFlkisC3w",
        "colab_type": "text"
      },
      "source": [
        "---\n",
        "\n",
        "There are various functions and methods that can be used to process lists.\n",
        "\n",
        "For example, the `len()` function tells us how many items are in a list."
      ]
    },
    {
      "cell_type": "code",
      "metadata": {
        "id": "KOhZ5wuZsRbW",
        "colab_type": "code",
        "outputId": "94c84c09-29d3-4c70-f37e-c1c223d69470",
        "colab": {
          "base_uri": "https://localhost:8080/",
          "height": 34
        }
      },
      "source": [
        "mixed_list = [5,-9,3.14,'a','b','c',True,False]\n",
        "len(mixed_list)"
      ],
      "execution_count": 0,
      "outputs": [
        {
          "output_type": "execute_result",
          "data": {
            "text/plain": [
              "8"
            ]
          },
          "metadata": {
            "tags": []
          },
          "execution_count": 9
        }
      ]
    },
    {
      "cell_type": "markdown",
      "metadata": {
        "id": "2SmSkpbZsYJA",
        "colab_type": "text"
      },
      "source": [
        "Likewise, the `.insert(i,x)` method inserts the item `x` into the list so that it occupies index `i`."
      ]
    },
    {
      "cell_type": "code",
      "metadata": {
        "id": "g4EYuoglt2Um",
        "colab_type": "code",
        "outputId": "d44036ac-90c6-4c29-f7f6-02e191ac878c",
        "colab": {
          "base_uri": "https://localhost:8080/",
          "height": 34
        }
      },
      "source": [
        "alphabet_missing_c = ['a','b','d','e']\n",
        "alphabet_missing_c.insert(2,'c')\n",
        "alphabet_missing_c"
      ],
      "execution_count": 0,
      "outputs": [
        {
          "output_type": "execute_result",
          "data": {
            "text/plain": [
              "['a', 'b', 'c', 'd', 'e']"
            ]
          },
          "metadata": {
            "tags": []
          },
          "execution_count": 10
        }
      ]
    },
    {
      "cell_type": "markdown",
      "metadata": {
        "id": "2DJA_bHSuN77",
        "colab_type": "text"
      },
      "source": [
        "There are many functions and methods that can be applied to lists. As such, we will not go through all of them.\n",
        "\n",
        "However, it is important to know how to find a function or method when you need it. You can usually find them by searching Google."
      ]
    },
    {
      "cell_type": "markdown",
      "metadata": {
        "id": "LBpN-DO6ubn4",
        "colab_type": "text"
      },
      "source": [
        "---\n",
        "\n",
        "### Exercise 4\n",
        "\n",
        "Use functions or methods to perform the desired operations on the following lists."
      ]
    },
    {
      "cell_type": "code",
      "metadata": {
        "id": "5IZGHlFMvHSo",
        "colab_type": "code",
        "colab": {}
      },
      "source": [
        "counting_up = [1,2,3,4,5] # reverse the list so that it is counting down: [5,4,3,2,1]"
      ],
      "execution_count": 0,
      "outputs": []
    },
    {
      "cell_type": "code",
      "metadata": {
        "id": "d-D8tR8TuuVS",
        "colab_type": "code",
        "colab": {}
      },
      "source": [
        "has_lots_of_Es = ['a','b','e','c','d','e','e','f','e','e'] # count how many items in the list have the value 'e'"
      ],
      "execution_count": 0,
      "outputs": []
    },
    {
      "cell_type": "markdown",
      "metadata": {
        "id": "Q6dU3-GdL_uu",
        "colab_type": "text"
      },
      "source": [
        "---\n",
        "\n",
        "##Dictionaries\n",
        "\n",
        "A dictionary is defined by enclosing a sequence of `key:value` pairs within braces.\n"
      ]
    },
    {
      "cell_type": "code",
      "metadata": {
        "id": "Xdcd8Lbu6nUU",
        "colab_type": "code",
        "outputId": "ee0b5dba-c6c4-446d-c61c-e0336d469357",
        "colab": {
          "base_uri": "https://localhost:8080/",
          "height": 34
        }
      },
      "source": [
        "my_dict = {'Leroy':5, 'Amy':2, 'Pete':True, 'Carly':'hi'}\n",
        "my_dict"
      ],
      "execution_count": 0,
      "outputs": [
        {
          "output_type": "execute_result",
          "data": {
            "text/plain": [
              "{'Amy': 2, 'Carly': 'hi', 'Leroy': 5, 'Pete': True}"
            ]
          },
          "metadata": {
            "tags": []
          },
          "execution_count": 13
        }
      ]
    },
    {
      "cell_type": "markdown",
      "metadata": {
        "id": "Mjuoatzy-zdD",
        "colab_type": "text"
      },
      "source": [
        "To reference an item in a dictionary, we can simply use the key of that item."
      ]
    },
    {
      "cell_type": "code",
      "metadata": {
        "id": "M98k0lao-rUX",
        "colab_type": "code",
        "outputId": "41601e6c-3d64-4403-a920-358cc1203470",
        "colab": {
          "base_uri": "https://localhost:8080/",
          "height": 34
        }
      },
      "source": [
        "my_dict = {'Leroy':5, 'Amy':2, 'Pete':True, 'Carly':'hi'}\n",
        "my_dict['Amy']"
      ],
      "execution_count": 0,
      "outputs": [
        {
          "output_type": "execute_result",
          "data": {
            "text/plain": [
              "2"
            ]
          },
          "metadata": {
            "tags": []
          },
          "execution_count": 14
        }
      ]
    },
    {
      "cell_type": "markdown",
      "metadata": {
        "id": "BhZJXhZ-_DJg",
        "colab_type": "text"
      },
      "source": [
        "---\n",
        "\n",
        "### Exercise 5\n",
        "\n",
        "Reference the item in `my_dict` corresponding to the key `'Pete'`."
      ]
    },
    {
      "cell_type": "code",
      "metadata": {
        "id": "poeDXom3-rSx",
        "colab_type": "code",
        "outputId": "fb235176-1547-4c16-ac33-a091d964e884",
        "colab": {
          "base_uri": "https://localhost:8080/",
          "height": 34
        }
      },
      "source": [
        "my_dict = {'Leroy':5, 'Amy':2, 'Pete':True, 'Carly':'hi'}\n",
        "my_dict['Amy'] # change the key 'Amy' to the key 'Pete'"
      ],
      "execution_count": 0,
      "outputs": [
        {
          "output_type": "execute_result",
          "data": {
            "text/plain": [
              "2"
            ]
          },
          "metadata": {
            "tags": []
          },
          "execution_count": 15
        }
      ]
    },
    {
      "cell_type": "markdown",
      "metadata": {
        "id": "mYJJvdoIAHYh",
        "colab_type": "text"
      },
      "source": [
        "---\n",
        "\n",
        "To add a new item to a dictionary, we can reference a new key and assign a value to it just like we would assign a new value to a variable."
      ]
    },
    {
      "cell_type": "code",
      "metadata": {
        "id": "z3XBizkf-rPv",
        "colab_type": "code",
        "outputId": "7315bfc7-e5e2-4e1b-ad02-1191b84e7ac6",
        "colab": {
          "base_uri": "https://localhost:8080/",
          "height": 34
        }
      },
      "source": [
        "my_dict = {'Leroy':5, 'Amy':2, 'Pete':True, 'Carly':'hi'}\n",
        "my_dict['Jaspreet'] = 9 # create a key 'Jaspreet' with value 9\n",
        "my_dict # dictionary now contains a new key:value pair!"
      ],
      "execution_count": 0,
      "outputs": [
        {
          "output_type": "execute_result",
          "data": {
            "text/plain": [
              "{'Amy': 2, 'Carly': 'hi', 'Jaspreet': 9, 'Leroy': 5, 'Pete': True}"
            ]
          },
          "metadata": {
            "tags": []
          },
          "execution_count": 16
        }
      ]
    },
    {
      "cell_type": "markdown",
      "metadata": {
        "id": "STGgWaU4AqkF",
        "colab_type": "text"
      },
      "source": [
        "We can use the same technique to change the value of an existing key in a dictionary."
      ]
    },
    {
      "cell_type": "code",
      "metadata": {
        "id": "fdLUFSGMAwQ4",
        "colab_type": "code",
        "outputId": "1f715b76-cff8-499b-ab8a-ace6af8392de",
        "colab": {
          "base_uri": "https://localhost:8080/",
          "height": 34
        }
      },
      "source": [
        "my_dict = {'Leroy':5, 'Amy':2, 'Pete':True, 'Carly':'hi'}\n",
        "my_dict['Pete'] = False # re-assign the key 'Pete' to the value False\n",
        "my_dict # dictionary has been modified"
      ],
      "execution_count": 0,
      "outputs": [
        {
          "output_type": "execute_result",
          "data": {
            "text/plain": [
              "{'Amy': 2, 'Carly': 'hi', 'Leroy': 5, 'Pete': False}"
            ]
          },
          "metadata": {
            "tags": []
          },
          "execution_count": 17
        }
      ]
    },
    {
      "cell_type": "markdown",
      "metadata": {
        "id": "ROKbhjr6BXr4",
        "colab_type": "text"
      },
      "source": [
        "---\n",
        "\n",
        "### Exercise 6\n",
        "\n",
        "Add a key-value pair `'e':3` to `my_dict`, and change the value of the key `'a'` to 4."
      ]
    },
    {
      "cell_type": "code",
      "metadata": {
        "id": "0engcX-aBrYz",
        "colab_type": "code",
        "outputId": "a8a36504-e535-446f-ccd9-d19a1a997f7c",
        "colab": {
          "base_uri": "https://localhost:8080/",
          "height": 34
        }
      },
      "source": [
        "my_dict = {'a':8, 'b':6, 's':5, 'i':1}\n",
        "# insert some code here to add a key-value pair 'e':3\n",
        "# insert some code here to change the value of the key 'a' to 4\n",
        "my_dict"
      ],
      "execution_count": 0,
      "outputs": [
        {
          "output_type": "execute_result",
          "data": {
            "text/plain": [
              "{'a': 8, 'b': 6, 'i': 1, 's': 5}"
            ]
          },
          "metadata": {
            "tags": []
          },
          "execution_count": 18
        }
      ]
    },
    {
      "cell_type": "markdown",
      "metadata": {
        "id": "jnuvIMbqBhXH",
        "colab_type": "text"
      },
      "source": [
        "---\n",
        "\n",
        "There are various functions and methods that can be used to process dictionaries.\n",
        "\n",
        "For example, the `len()` function tells us how many `key:value` pairs are in the dictionary."
      ]
    },
    {
      "cell_type": "code",
      "metadata": {
        "id": "loZZYu2ICSLo",
        "colab_type": "code",
        "outputId": "b5f11f1b-1be3-47eb-aa7d-226a3519d1e1",
        "colab": {
          "base_uri": "https://localhost:8080/",
          "height": 34
        }
      },
      "source": [
        "my_dict = {'Leroy':5, 'Amy':2, 'Pete':True, 'Carly':'hi'}\n",
        "len(my_dict)"
      ],
      "execution_count": 0,
      "outputs": [
        {
          "output_type": "execute_result",
          "data": {
            "text/plain": [
              "4"
            ]
          },
          "metadata": {
            "tags": []
          },
          "execution_count": 19
        }
      ]
    },
    {
      "cell_type": "markdown",
      "metadata": {
        "id": "lJJupovSC0lE",
        "colab_type": "text"
      },
      "source": [
        "Likewise, the `.pop(keyname)` method allows us to remove the `key:value` pair corresponding to the key `keyname`."
      ]
    },
    {
      "cell_type": "code",
      "metadata": {
        "id": "7YOWsFUECW1B",
        "colab_type": "code",
        "outputId": "2fa8ef0f-125e-41e9-f4c4-f8eda092588e",
        "colab": {
          "base_uri": "https://localhost:8080/",
          "height": 34
        }
      },
      "source": [
        "my_dict = {'Leroy':5, 'Amy':2, 'Pete':True, 'Carly':'hi'}\n",
        "my_dict.pop('Pete') # remove Pete\n",
        "my_dict # Pete is gone!"
      ],
      "execution_count": 0,
      "outputs": [
        {
          "output_type": "execute_result",
          "data": {
            "text/plain": [
              "{'Amy': 2, 'Carly': 'hi', 'Leroy': 5}"
            ]
          },
          "metadata": {
            "tags": []
          },
          "execution_count": 20
        }
      ]
    },
    {
      "cell_type": "markdown",
      "metadata": {
        "id": "9_PPd7mzMBok",
        "colab_type": "text"
      },
      "source": [
        "---\n",
        "\n",
        "##Arrays\n",
        "\n",
        "To use arrays, we need to import the NumPy module which contains the code needed to create and manipulate arrays. We do this by adding `import numpy` at the top of our code.\n",
        "\n",
        "Then, we can call `numpy.array(<list of lists>)` to create a matrix array.\n"
      ]
    },
    {
      "cell_type": "code",
      "metadata": {
        "id": "xWK49LK-MC6q",
        "colab_type": "code",
        "outputId": "87e61fc1-ea2e-4709-9d3c-11998a4cc6b1",
        "colab": {
          "base_uri": "https://localhost:8080/",
          "height": 68
        }
      },
      "source": [
        "import numpy\n",
        "my_array = numpy.array([[1,2,3],[4,5,6],[7,8,9]])\n",
        "my_array"
      ],
      "execution_count": 0,
      "outputs": [
        {
          "output_type": "execute_result",
          "data": {
            "text/plain": [
              "array([[1, 2, 3],\n",
              "       [4, 5, 6],\n",
              "       [7, 8, 9]])"
            ]
          },
          "metadata": {
            "tags": []
          },
          "execution_count": 21
        }
      ]
    },
    {
      "cell_type": "markdown",
      "metadata": {
        "id": "bGAU0tczJuO2",
        "colab_type": "text"
      },
      "source": [
        "We can reference the entry in the <i>i</i>-th row and <i>j</i>-th column of the array using the notation `[i,j]`. Remember to start counting with 0."
      ]
    },
    {
      "cell_type": "code",
      "metadata": {
        "colab_type": "code",
        "outputId": "2ea146da-591f-4341-d3e5-d23ae645234d",
        "id": "DfID-hpLKeBa",
        "colab": {
          "base_uri": "https://localhost:8080/",
          "height": 34
        }
      },
      "source": [
        "import numpy\n",
        "my_array = numpy.array([[1,2,3],[4,5,6],[7,8,9]])\n",
        "my_array[0,0]"
      ],
      "execution_count": 0,
      "outputs": [
        {
          "output_type": "execute_result",
          "data": {
            "text/plain": [
              "1"
            ]
          },
          "metadata": {
            "tags": []
          },
          "execution_count": 22
        }
      ]
    },
    {
      "cell_type": "code",
      "metadata": {
        "id": "-Yjdijn-KikE",
        "colab_type": "code",
        "outputId": "0dc96b02-1070-4212-851e-27a0758c9519",
        "colab": {
          "base_uri": "https://localhost:8080/",
          "height": 34
        }
      },
      "source": [
        "import numpy\n",
        "my_array = numpy.array([[1,2,3],[4,5,6],[7,8,9]])\n",
        "my_array[1,2]"
      ],
      "execution_count": 0,
      "outputs": [
        {
          "output_type": "execute_result",
          "data": {
            "text/plain": [
              "6"
            ]
          },
          "metadata": {
            "tags": []
          },
          "execution_count": 23
        }
      ]
    },
    {
      "cell_type": "markdown",
      "metadata": {
        "id": "bR7p7haDKqaa",
        "colab_type": "text"
      },
      "source": [
        "---\n",
        "\n",
        "### Exercise 7\n",
        "\n",
        "Reference the entry in the bottom-left corner of the array (which is 7) using `[i,j]` notation."
      ]
    },
    {
      "cell_type": "code",
      "metadata": {
        "id": "gXLc9-LGKj5u",
        "colab_type": "code",
        "outputId": "5ca26093-6857-482f-fa29-aecce86579b1",
        "colab": {
          "base_uri": "https://localhost:8080/",
          "height": 34
        }
      },
      "source": [
        "import numpy\n",
        "my_array = numpy.array([[1,2,3],[4,5,6],[7,8,9]])\n",
        "my_array[1,2] # change this [i,j] notation to reference the entry in the bottom-left corner (which is 7)"
      ],
      "execution_count": 0,
      "outputs": [
        {
          "output_type": "execute_result",
          "data": {
            "text/plain": [
              "6"
            ]
          },
          "metadata": {
            "tags": []
          },
          "execution_count": 24
        }
      ]
    },
    {
      "cell_type": "markdown",
      "metadata": {
        "id": "z3Jl1ZDBLTm6",
        "colab_type": "text"
      },
      "source": [
        "---\n",
        "\n",
        "We can reference subarrays within arrays just like we reference sublists within lists."
      ]
    },
    {
      "cell_type": "code",
      "metadata": {
        "colab_type": "code",
        "outputId": "28efdb63-aa56-4458-9ded-159815ee8c7e",
        "id": "1Wr7ECSOLqVc",
        "colab": {
          "base_uri": "https://localhost:8080/",
          "height": 51
        }
      },
      "source": [
        "import numpy\n",
        "my_array = numpy.array([[1,2,3],[4,5,6],[7,8,9]])\n",
        "my_array[0:2,0:2] # gives the 2x2 square in the top-left corner"
      ],
      "execution_count": 0,
      "outputs": [
        {
          "output_type": "execute_result",
          "data": {
            "text/plain": [
              "array([[1, 2],\n",
              "       [4, 5]])"
            ]
          },
          "metadata": {
            "tags": []
          },
          "execution_count": 25
        }
      ]
    },
    {
      "cell_type": "markdown",
      "metadata": {
        "id": "xhA6suxRL8Ji",
        "colab_type": "text"
      },
      "source": [
        "---\n",
        "\n",
        "### Exercise 8\n",
        "\n",
        "Reference the 2x2 square in the top-right corner of the array in the bottom-left corner of the array (which is $\\begin{bmatrix} 2 & 3 \\\\ 5 & 6 \\end{bmatrix}$) using subarray notation."
      ]
    },
    {
      "cell_type": "code",
      "metadata": {
        "id": "5rNWRLjpL7iv",
        "colab_type": "code",
        "outputId": "42a00044-0505-4e43-9e1a-b913bd90d6ae",
        "colab": {
          "base_uri": "https://localhost:8080/",
          "height": 51
        }
      },
      "source": [
        "import numpy\n",
        "my_array = numpy.array([[1,2,3],[4,5,6],[7,8,9]])\n",
        "my_array[0:2,0:2] # change the subarray notation to reference the 2x2 square in the top-right corner"
      ],
      "execution_count": 0,
      "outputs": [
        {
          "output_type": "execute_result",
          "data": {
            "text/plain": [
              "array([[1, 2],\n",
              "       [4, 5]])"
            ]
          },
          "metadata": {
            "tags": []
          },
          "execution_count": 26
        }
      ]
    },
    {
      "cell_type": "markdown",
      "metadata": {
        "id": "Gb_LgN6RNtvb",
        "colab_type": "text"
      },
      "source": [
        "---\n",
        "\n",
        "Arrays of the same shape can be added and subtracted."
      ]
    },
    {
      "cell_type": "code",
      "metadata": {
        "id": "YwKxYoWmN9WE",
        "colab_type": "code",
        "outputId": "59ce96c6-fb06-48d6-cc1c-8ba892386298",
        "colab": {
          "base_uri": "https://localhost:8080/",
          "height": 51
        }
      },
      "source": [
        "import numpy\n",
        "A = numpy.array([[10,10],[20,20]])\n",
        "B = numpy.array([[1,2],[3,4]])\n",
        "A+B"
      ],
      "execution_count": 0,
      "outputs": [
        {
          "output_type": "execute_result",
          "data": {
            "text/plain": [
              "array([[11, 12],\n",
              "       [23, 24]])"
            ]
          },
          "metadata": {
            "tags": []
          },
          "execution_count": 27
        }
      ]
    },
    {
      "cell_type": "code",
      "metadata": {
        "id": "E4aa16jiOKue",
        "colab_type": "code",
        "outputId": "62569f1b-edf3-49ae-a6e8-2c556369aa09",
        "colab": {
          "base_uri": "https://localhost:8080/",
          "height": 51
        }
      },
      "source": [
        "import numpy\n",
        "A = numpy.array([[10,10],[20,20]])\n",
        "B = numpy.array([[1,2],[3,4]])\n",
        "A-B"
      ],
      "execution_count": 0,
      "outputs": [
        {
          "output_type": "execute_result",
          "data": {
            "text/plain": [
              "array([[ 9,  8],\n",
              "       [17, 16]])"
            ]
          },
          "metadata": {
            "tags": []
          },
          "execution_count": 28
        }
      ]
    },
    {
      "cell_type": "markdown",
      "metadata": {
        "id": "fMo3Dmp2N1cg",
        "colab_type": "text"
      },
      "source": [
        "---\n",
        "\n",
        "### Caution 1\n",
        "\n",
        "Arrays of the same shape can also be multiplied and divided. But the multiplication and division is carried out separately in each component -- so array multiplication is not the same as the matrix multiplication procedure you may have learned in math class."
      ]
    },
    {
      "cell_type": "code",
      "metadata": {
        "id": "ADB_G1c0OUyk",
        "colab_type": "code",
        "outputId": "0256ce4e-8cd6-4d88-9e7b-50c969d2d754",
        "colab": {
          "base_uri": "https://localhost:8080/",
          "height": 51
        }
      },
      "source": [
        "import numpy\n",
        "A = numpy.array([[1,2],[3,4]])\n",
        "B = numpy.array([[1,1],[2,2]])\n",
        "A*B"
      ],
      "execution_count": 0,
      "outputs": [
        {
          "output_type": "execute_result",
          "data": {
            "text/plain": [
              "array([[1, 2],\n",
              "       [6, 8]])"
            ]
          },
          "metadata": {
            "tags": []
          },
          "execution_count": 29
        }
      ]
    },
    {
      "cell_type": "code",
      "metadata": {
        "id": "z3MpxfqLOjgc",
        "colab_type": "code",
        "outputId": "4316a918-4b09-4d38-8e80-ec66537c3942",
        "colab": {
          "base_uri": "https://localhost:8080/",
          "height": 51
        }
      },
      "source": [
        "import numpy\n",
        "A = numpy.array([[1,2],[3,4]])\n",
        "B = numpy.array([[1,1],[2,2]])\n",
        "A/B"
      ],
      "execution_count": 0,
      "outputs": [
        {
          "output_type": "execute_result",
          "data": {
            "text/plain": [
              "array([[1. , 2. ],\n",
              "       [1.5, 2. ]])"
            ]
          },
          "metadata": {
            "tags": []
          },
          "execution_count": 30
        }
      ]
    },
    {
      "cell_type": "markdown",
      "metadata": {
        "id": "3fXoX3ddPA4Q",
        "colab_type": "text"
      },
      "source": [
        "---\n",
        "\n",
        "Some seemingly improper array operations are allowed if there is a way to make intuitive sense of them.\n",
        "\n",
        "For example, if a single number is added to an array, then the number is added to each entry of the array."
      ]
    },
    {
      "cell_type": "code",
      "metadata": {
        "id": "BpmwjaNRSaub",
        "colab_type": "code",
        "outputId": "880626a3-39d9-41cc-dff5-6da1bdec5ea3",
        "colab": {
          "base_uri": "https://localhost:8080/",
          "height": 51
        }
      },
      "source": [
        "import numpy\n",
        "A = numpy.array([[1,2],[3,4]])\n",
        "A+10"
      ],
      "execution_count": 0,
      "outputs": [
        {
          "output_type": "execute_result",
          "data": {
            "text/plain": [
              "array([[11, 12],\n",
              "       [13, 14]])"
            ]
          },
          "metadata": {
            "tags": []
          },
          "execution_count": 31
        }
      ]
    },
    {
      "cell_type": "markdown",
      "metadata": {
        "id": "kms-PUA7SU-R",
        "colab_type": "text"
      },
      "source": [
        "Likewise, if a single row is added to a square array of the same length, then the row is added to each row of the square array."
      ]
    },
    {
      "cell_type": "code",
      "metadata": {
        "id": "6savzMszNYux",
        "colab_type": "code",
        "outputId": "4ea38b3a-ef7a-444f-eb52-551af9e311c4",
        "colab": {
          "base_uri": "https://localhost:8080/",
          "height": 51
        }
      },
      "source": [
        "import numpy\n",
        "A = numpy.array([[1,2],[3,4]])\n",
        "b = numpy.array([10,20])\n",
        "A+b"
      ],
      "execution_count": 0,
      "outputs": [
        {
          "output_type": "execute_result",
          "data": {
            "text/plain": [
              "array([[11, 22],\n",
              "       [13, 24]])"
            ]
          },
          "metadata": {
            "tags": []
          },
          "execution_count": 32
        }
      ]
    },
    {
      "cell_type": "markdown",
      "metadata": {
        "id": "YKcQ52-kQmIV",
        "colab_type": "text"
      },
      "source": [
        "---\n",
        "\n",
        "### Exercise 9\n",
        "\n",
        "Change array `B` so that `A+B` comes out to a matrix whose entries are all `10`."
      ]
    },
    {
      "cell_type": "code",
      "metadata": {
        "id": "07W-ORzYNoZ_",
        "colab_type": "code",
        "outputId": "b0551bf7-30b0-4408-9da5-9e32c31d87cc",
        "colab": {
          "base_uri": "https://localhost:8080/",
          "height": 51
        }
      },
      "source": [
        "import numpy\n",
        "A = numpy.array([[1,2],[3,4]])\n",
        "B = numpy.array([[1,1],[1,1]]) # change the entries here so that A+B has all entries equal to 10\n",
        "A+B"
      ],
      "execution_count": 0,
      "outputs": [
        {
          "output_type": "execute_result",
          "data": {
            "text/plain": [
              "array([[2, 3],\n",
              "       [4, 5]])"
            ]
          },
          "metadata": {
            "tags": []
          },
          "execution_count": 33
        }
      ]
    },
    {
      "cell_type": "markdown",
      "metadata": {
        "id": "uKIUQcE6ujOF",
        "colab_type": "text"
      },
      "source": [
        "---\n",
        "\n",
        "There are various methods and attributes that can be used to process lists. \n",
        "\n",
        "(You can think of attributes as being the same as methods, but without parentheses.)\n",
        "\n",
        "For example, the `.max()` method tells us the maximum entry in the array."
      ]
    },
    {
      "cell_type": "code",
      "metadata": {
        "id": "c9fyT1dEv6-G",
        "colab_type": "code",
        "outputId": "771191e7-828f-43dc-aebf-c36bfdef95bf",
        "colab": {
          "base_uri": "https://localhost:8080/",
          "height": 34
        }
      },
      "source": [
        "import numpy\n",
        "A = numpy.array([[1,2],[3,4]])\n",
        "A.max()"
      ],
      "execution_count": 0,
      "outputs": [
        {
          "output_type": "execute_result",
          "data": {
            "text/plain": [
              "4"
            ]
          },
          "metadata": {
            "tags": []
          },
          "execution_count": 34
        }
      ]
    },
    {
      "cell_type": "markdown",
      "metadata": {
        "id": "u0l6VbOnwguL",
        "colab_type": "text"
      },
      "source": [
        "Also, the `.dot()` method allows us to compute a product with another array in the mathematical sense of matrix multiplication."
      ]
    },
    {
      "cell_type": "code",
      "metadata": {
        "id": "9WqqMnSxwqeX",
        "colab_type": "code",
        "outputId": "1c0fbde8-e4f2-4e22-9efc-9457f05405dc",
        "colab": {
          "base_uri": "https://localhost:8080/",
          "height": 51
        }
      },
      "source": [
        "import numpy\n",
        "A = numpy.array([[1,2],[3,4]])\n",
        "b = numpy.array([[5],[6]])\n",
        "A.dot(b)"
      ],
      "execution_count": 0,
      "outputs": [
        {
          "output_type": "execute_result",
          "data": {
            "text/plain": [
              "array([[17],\n",
              "       [39]])"
            ]
          },
          "metadata": {
            "tags": []
          },
          "execution_count": 35
        }
      ]
    },
    {
      "cell_type": "markdown",
      "metadata": {
        "id": "ydvjxf7cvBqz",
        "colab_type": "text"
      },
      "source": [
        "Likewise, the `.shape` attribute tells us how many rows and columns an array has."
      ]
    },
    {
      "cell_type": "code",
      "metadata": {
        "id": "iXCtGnVgupTV",
        "colab_type": "code",
        "outputId": "3085578a-cb87-42c4-bfd7-dd9197c76126",
        "colab": {
          "base_uri": "https://localhost:8080/",
          "height": 136
        }
      },
      "source": [
        "import numpy\n",
        "A = numpy.array([[1,2],[3,4],[5,6]])\n",
        "print('A =\\n',A)\n",
        "print('\\n')\n",
        "print('A.shape =',A.shape)"
      ],
      "execution_count": 0,
      "outputs": [
        {
          "output_type": "stream",
          "text": [
            "A =\n",
            " [[1 2]\n",
            " [3 4]\n",
            " [5 6]]\n",
            "\n",
            "\n",
            "A.shape = (3, 2)\n"
          ],
          "name": "stdout"
        }
      ]
    },
    {
      "cell_type": "markdown",
      "metadata": {
        "id": "hMfuedYKtYGr",
        "colab_type": "text"
      },
      "source": [
        "There are many methods that can be applied to arrays. As such, we will not go through all of them.\n",
        "\n",
        "However, it is important to know how to find a method when you need it. You can usually find them by searching Google."
      ]
    },
    {
      "cell_type": "markdown",
      "metadata": {
        "id": "pNoKEX76xGS5",
        "colab_type": "text"
      },
      "source": [
        "---\n",
        "\n",
        "### Exercise 10\n",
        "\n",
        "Use methods to perform the desired operations on the following arrays."
      ]
    },
    {
      "cell_type": "code",
      "metadata": {
        "id": "9W6YSdFNxtSL",
        "colab_type": "code",
        "outputId": "38fd811b-7e20-4e22-ce6c-cc9a9739910e",
        "colab": {
          "base_uri": "https://localhost:8080/",
          "height": 51
        }
      },
      "source": [
        "import numpy\n",
        "A = numpy.array([[1,2],[3,4]])\n",
        "A # apply a method to find the minimum entry in the array"
      ],
      "execution_count": 0,
      "outputs": [
        {
          "output_type": "execute_result",
          "data": {
            "text/plain": [
              "array([[1, 2],\n",
              "       [3, 4]])"
            ]
          },
          "metadata": {
            "tags": []
          },
          "execution_count": 37
        }
      ]
    },
    {
      "cell_type": "code",
      "metadata": {
        "id": "BqOSwFNAxFRO",
        "colab_type": "code",
        "outputId": "85cfd185-0935-498a-a9b8-a6c717130c07",
        "colab": {
          "base_uri": "https://localhost:8080/",
          "height": 51
        }
      },
      "source": [
        "import numpy\n",
        "A = numpy.array([[1,2],[3,4]])\n",
        "A # apply a method to sum all the entries in the array"
      ],
      "execution_count": 0,
      "outputs": [
        {
          "output_type": "execute_result",
          "data": {
            "text/plain": [
              "array([[1, 2],\n",
              "       [3, 4]])"
            ]
          },
          "metadata": {
            "tags": []
          },
          "execution_count": 38
        }
      ]
    },
    {
      "cell_type": "markdown",
      "metadata": {
        "id": "WXSCqVTGARVb",
        "colab_type": "text"
      },
      "source": [
        "---\n",
        "\n",
        "We can also stack two 2x2 matrices to form a 2x2x2 cube of numbers, called a  3-dimensional tensor."
      ]
    },
    {
      "cell_type": "code",
      "metadata": {
        "id": "ESk_ugXwAZdg",
        "colab_type": "code",
        "colab": {}
      },
      "source": [
        "import numpy\n",
        "bottom_layer = numpy.array([[1,2],[3,4]])\n",
        "top_layer = numpy.array([[5,6],[7,8]])\n",
        "cube = numpy.stack((bottom_layer,top_layer))"
      ],
      "execution_count": 0,
      "outputs": []
    },
    {
      "cell_type": "markdown",
      "metadata": {
        "id": "wxmMlEGpVYoV",
        "colab_type": "text"
      },
      "source": [
        "Indexing for a tensor is the same as indexing for a matrix -- except that the tensor has more dimensions.\n",
        "\n",
        "When stacking matrices to form a tensor, the new \"depth\" dimension becomes the first dimension."
      ]
    },
    {
      "cell_type": "code",
      "metadata": {
        "id": "uMLZOqFmVrD0",
        "colab_type": "code",
        "outputId": "4e3aab08-9e7b-4124-eaa6-5247f6bab653",
        "colab": {
          "base_uri": "https://localhost:8080/",
          "height": 51
        }
      },
      "source": [
        "cube[0,0:2,0:2] # bottom layer"
      ],
      "execution_count": 0,
      "outputs": [
        {
          "output_type": "execute_result",
          "data": {
            "text/plain": [
              "array([[1, 2],\n",
              "       [3, 4]])"
            ]
          },
          "metadata": {
            "tags": []
          },
          "execution_count": 40
        }
      ]
    },
    {
      "cell_type": "code",
      "metadata": {
        "id": "dAe7mHx7Waev",
        "colab_type": "code",
        "outputId": "0c1f10ea-a941-447b-efbb-1bcd8c67befa",
        "colab": {
          "base_uri": "https://localhost:8080/",
          "height": 51
        }
      },
      "source": [
        "cube[1,0:2,0:2] # top layer"
      ],
      "execution_count": 0,
      "outputs": [
        {
          "output_type": "execute_result",
          "data": {
            "text/plain": [
              "array([[5, 6],\n",
              "       [7, 8]])"
            ]
          },
          "metadata": {
            "tags": []
          },
          "execution_count": 41
        }
      ]
    },
    {
      "cell_type": "markdown",
      "metadata": {
        "id": "U_RP3hnOWf9i",
        "colab_type": "text"
      },
      "source": [
        "---\n",
        "\n",
        "### Exercise 11\n",
        "\n",
        "Adjust the indices referenced in the cube so that the resulting matrix cross-section is $\\begin{bmatrix} 3 & 4 \\\\ 7 & 8 \\end{bmatrix}$. (Hint: take a cross-section that cuts the cube along a different dimension.)"
      ]
    },
    {
      "cell_type": "code",
      "metadata": {
        "id": "5cofAeTbXD6t",
        "colab_type": "code",
        "outputId": "6aae5e96-0657-47b5-c3c9-59dfc4496479",
        "colab": {
          "base_uri": "https://localhost:8080/",
          "height": 102
        }
      },
      "source": [
        "cube[0:2,0:2,0:2] # adjust these indices"
      ],
      "execution_count": 0,
      "outputs": [
        {
          "output_type": "execute_result",
          "data": {
            "text/plain": [
              "array([[[1, 2],\n",
              "        [3, 4]],\n",
              "\n",
              "       [[5, 6],\n",
              "        [7, 8]]])"
            ]
          },
          "metadata": {
            "tags": []
          },
          "execution_count": 42
        }
      ]
    }
  ]
}