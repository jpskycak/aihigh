{
  "nbformat": 4,
  "nbformat_minor": 0,
  "metadata": {
    "colab": {
      "name": "codingBootcamp_stringsIntsFloatsBooleans.ipynb",
      "version": "0.3.2",
      "provenance": [],
      "collapsed_sections": [],
      "toc_visible": true,
      "include_colab_link": true
    },
    "kernelspec": {
      "name": "python3",
      "display_name": "Python 3"
    }
  },
  "cells": [
    {
      "cell_type": "markdown",
      "metadata": {
        "id": "view-in-github",
        "colab_type": "text"
      },
      "source": [
        "<a href=\"https://colab.research.google.com/github/jpskycak/aihigh/blob/master/intro-to-ai/codingBootcamp_stringsIntsFloatsBooleans.ipynb\" target=\"_parent\"><img src=\"https://colab.research.google.com/assets/colab-badge.svg\" alt=\"Open In Colab\"/></a>"
      ]
    },
    {
      "cell_type": "markdown",
      "metadata": {
        "id": "D7c3mb1OQ3CN",
        "colab_type": "text"
      },
      "source": [
        "#Setup\n",
        "\n",
        "In order to run the notebook,\n",
        "\n",
        "1. sign into your Google account (top-right) and\n",
        "2. make a copy of the notebook in your Google Drive by pressing the <img src=\"https://i.imgur.com/chlzY9P.png\" alt=\"Drawing\" width=\"100\"/> button in the upper-left menu."
      ]
    },
    {
      "cell_type": "markdown",
      "metadata": {
        "colab_type": "text",
        "id": "OkZxxShdi8rS"
      },
      "source": [
        "#Variables\n",
        "\n",
        "When we program in IPython notebooks, we store and manipulate data in the form of variables.\n",
        "\n",
        "To assign data a variable name, we use the `=` symbol. Then, when we print the variable, the data will appear.\n"
      ]
    },
    {
      "cell_type": "code",
      "metadata": {
        "id": "VVfj4pWjg2oc",
        "colab_type": "code",
        "outputId": "85db0e35-fc41-40ae-8057-a43212f80465",
        "colab": {
          "base_uri": "https://localhost:8080/",
          "height": 34
        }
      },
      "source": [
        "my_variable = 'The variable contains this sentence.'\n",
        "print(my_variable)"
      ],
      "execution_count": 0,
      "outputs": [
        {
          "output_type": "stream",
          "text": [
            "The variable contains this sentence.\n"
          ],
          "name": "stdout"
        }
      ]
    },
    {
      "cell_type": "markdown",
      "metadata": {
        "id": "-R2tfyMchHi3",
        "colab_type": "text"
      },
      "source": [
        "---\n",
        "\n",
        "### Exercise 1\n",
        "\n",
        "Assign `'This is a sentence.'` to the variable `my_sentence`. Then, print the sentence by printing the variable."
      ]
    },
    {
      "cell_type": "code",
      "metadata": {
        "id": "zqCqFF1ChqKt",
        "colab_type": "code",
        "colab": {}
      },
      "source": [
        "# assign 'This is a sentence.' to my_sentence\n",
        "# print the variable my_sentence"
      ],
      "execution_count": 0,
      "outputs": []
    },
    {
      "cell_type": "markdown",
      "metadata": {
        "id": "nIj5B68uhqe6",
        "colab_type": "text"
      },
      "source": [
        "---\n",
        "\n",
        "We can also assign an existing variable to a new variable."
      ]
    },
    {
      "cell_type": "code",
      "metadata": {
        "id": "Vi6bXjjPh9vJ",
        "colab_type": "code",
        "outputId": "3336ac6b-7ec8-4975-eff7-b250a337dfe0",
        "colab": {
          "base_uri": "https://localhost:8080/",
          "height": 34
        }
      },
      "source": [
        "my_variable = 'The variable contains this sentence.'\n",
        "my_variable_again = my_variable\n",
        "print(my_variable_again)"
      ],
      "execution_count": 0,
      "outputs": [
        {
          "output_type": "stream",
          "text": [
            "The variable contains this sentence.\n"
          ],
          "name": "stdout"
        }
      ]
    },
    {
      "cell_type": "markdown",
      "metadata": {
        "id": "2WaSzF7TiGS6",
        "colab_type": "text"
      },
      "source": [
        "Likewise, we can overwrite an existing variable with new data."
      ]
    },
    {
      "cell_type": "code",
      "metadata": {
        "id": "GCIQrObFiJqn",
        "colab_type": "code",
        "outputId": "cbe4249a-5b58-4d81-fa3b-89e69da9652b",
        "colab": {
          "base_uri": "https://localhost:8080/",
          "height": 34
        }
      },
      "source": [
        "my_variable = 'The variable contains this sentence.'\n",
        "my_variable = 'This variable has been overwritten with a new sentence!'\n",
        "print(my_variable)"
      ],
      "execution_count": 0,
      "outputs": [
        {
          "output_type": "stream",
          "text": [
            "This variable has been overwritten with a new sentence!\n"
          ],
          "name": "stdout"
        }
      ]
    },
    {
      "cell_type": "markdown",
      "metadata": {
        "id": "f9UW_r93igZa",
        "colab_type": "text"
      },
      "source": [
        "---\n",
        "\n",
        "### Exercise 2\n",
        "\n",
        "Overwrite the variable `my_sentence` with a new sentence `'I have commandeered your sentence.'` Then, print the new sentence by printing the variable."
      ]
    },
    {
      "cell_type": "code",
      "metadata": {
        "id": "ztsumbdkiSO_",
        "colab_type": "code",
        "colab": {}
      },
      "source": [
        "my_sentence = 'This is my sentence.' # overwrite this\n",
        "# print the variable my_sentence"
      ],
      "execution_count": 0,
      "outputs": []
    },
    {
      "cell_type": "markdown",
      "metadata": {
        "id": "0TrNXtL0kzV4",
        "colab_type": "text"
      },
      "source": [
        "---\n",
        "\n",
        "# Strings, Ints, Floats, and Booleans\n",
        "\n",
        "We will primarily be using 4 types of variables: strings, ints, floats, and booleans.\n",
        "* <b>Strings</b> are sequences of characters and are surrounded by quotes. Characters can include not only letters, but also numbers and symbols such as punctuation and spaces. Examples of strings include `'cat'`, `'The dog is happy!'`, and `'asdf1234!! !@#^&'`.\n",
        "* <b>Ints</b> are integers such as 1, 2, 3, 512, 87743, and -3432178.\n",
        "* <b>Floats</b> are decimals, also known as floating point numbers. Examples of floats include 1.5, 3.141592654, 112.0, and -32.018.\n",
        "* <b>Booleans</b> can be either True or False."
      ]
    },
    {
      "cell_type": "markdown",
      "metadata": {
        "id": "f02H2CClkN3a",
        "colab_type": "text"
      },
      "source": [
        "---\n",
        "\n",
        "# Strings\n",
        "\n",
        "Strings can be concatenated (combined one after another) with the `+` symbol."
      ]
    },
    {
      "cell_type": "code",
      "metadata": {
        "id": "ueHn5ap_pRsK",
        "colab_type": "code",
        "outputId": "f18fdbc8-3de9-45da-9d11-9db1e7302351",
        "colab": {
          "base_uri": "https://localhost:8080/",
          "height": 34
        }
      },
      "source": [
        "'a'+'b'"
      ],
      "execution_count": 0,
      "outputs": [
        {
          "output_type": "execute_result",
          "data": {
            "text/plain": [
              "'ab'"
            ]
          },
          "metadata": {
            "tags": []
          },
          "execution_count": 6
        }
      ]
    },
    {
      "cell_type": "markdown",
      "metadata": {
        "id": "9pqKUbR5qBqE",
        "colab_type": "text"
      },
      "source": [
        "Notice that a space is not automatically added between concatenated strings -- so if we want a space, we need to add it manually."
      ]
    },
    {
      "cell_type": "code",
      "metadata": {
        "id": "K4R0c-RnpmDo",
        "colab_type": "code",
        "outputId": "42519833-d404-4667-8cec-5070273f38f1",
        "colab": {
          "base_uri": "https://localhost:8080/",
          "height": 34
        }
      },
      "source": [
        "var1 = 'hello'\n",
        "var2 = ' '\n",
        "var3 = 'there'\n",
        "var1+var2+var3"
      ],
      "execution_count": 0,
      "outputs": [
        {
          "output_type": "execute_result",
          "data": {
            "text/plain": [
              "'hello there'"
            ]
          },
          "metadata": {
            "tags": []
          },
          "execution_count": 7
        }
      ]
    },
    {
      "cell_type": "markdown",
      "metadata": {
        "id": "5Ip1V93hAsCk",
        "colab_type": "text"
      },
      "source": [
        "Strings can also represent symbols other than words."
      ]
    },
    {
      "cell_type": "code",
      "metadata": {
        "id": "2GB5mYLoAsp4",
        "colab_type": "code",
        "outputId": "22781d49-5c41-47a9-9f96-d0672fa81005",
        "colab": {
          "base_uri": "https://localhost:8080/",
          "height": 34
        }
      },
      "source": [
        "'The number 225 is a perfect square! Here are some symbols: @#$&*&^.'"
      ],
      "execution_count": 0,
      "outputs": [
        {
          "output_type": "execute_result",
          "data": {
            "text/plain": [
              "'The number 225 is a perfect square! Here are some symbols: @#$&*&^.'"
            ]
          },
          "metadata": {
            "tags": []
          },
          "execution_count": 8
        }
      ]
    },
    {
      "cell_type": "markdown",
      "metadata": {
        "id": "062D9oNjrVnP",
        "colab_type": "text"
      },
      "source": [
        "---\n",
        "\n",
        "### Exercise 3\n",
        "\n",
        "Add the following variables in some order to create the string `'The dog jumped over the cat.'`\n",
        "\n"
      ]
    },
    {
      "cell_type": "code",
      "metadata": {
        "id": "h3NV8Q3S-F50",
        "colab_type": "code",
        "outputId": "ab9bcba1-095b-436d-905a-6871d068990f",
        "colab": {
          "base_uri": "https://localhost:8080/",
          "height": 34
        }
      },
      "source": [
        "var1='dog'\n",
        "var2='over'\n",
        "var3='cat'\n",
        "var4='the'\n",
        "var5='jumped'\n",
        "var6='The'\n",
        "var7=' '\n",
        "var8='.'\n",
        "var1+var2+var3+var4+var5+var6+var7+var8 # change this"
      ],
      "execution_count": 0,
      "outputs": [
        {
          "output_type": "execute_result",
          "data": {
            "text/plain": [
              "'dogovercatthejumpedThe .'"
            ]
          },
          "metadata": {
            "tags": []
          },
          "execution_count": 9
        }
      ]
    },
    {
      "cell_type": "markdown",
      "metadata": {
        "id": "WciDPuf2KD1P",
        "colab_type": "text"
      },
      "source": [
        "---\n",
        "\n",
        "We can pick out an individual character within in a string by using the <b>index</b> of the character. The index just counts how many characters are before our desired character -- so the first character in a string has an index of 0, the second character has an index of 1, the third character has an index of 2, and so on."
      ]
    },
    {
      "cell_type": "code",
      "metadata": {
        "id": "EbJEofDhK12W",
        "colab_type": "code",
        "outputId": "6b327245-4f1e-4f12-f24b-287f6e17da9f",
        "colab": {
          "base_uri": "https://localhost:8080/",
          "height": 34
        }
      },
      "source": [
        "'abcdefg'[0]"
      ],
      "execution_count": 0,
      "outputs": [
        {
          "output_type": "execute_result",
          "data": {
            "text/plain": [
              "'a'"
            ]
          },
          "metadata": {
            "tags": []
          },
          "execution_count": 10
        }
      ]
    },
    {
      "cell_type": "code",
      "metadata": {
        "id": "caralovDK5fE",
        "colab_type": "code",
        "outputId": "4a20cf7b-1a6c-4989-c31d-d2242d54ad5c",
        "colab": {
          "base_uri": "https://localhost:8080/",
          "height": 34
        }
      },
      "source": [
        "'abcdefg'[1]"
      ],
      "execution_count": 0,
      "outputs": [
        {
          "output_type": "execute_result",
          "data": {
            "text/plain": [
              "'b'"
            ]
          },
          "metadata": {
            "tags": []
          },
          "execution_count": 11
        }
      ]
    },
    {
      "cell_type": "code",
      "metadata": {
        "id": "rgwTMhjAK7Cf",
        "colab_type": "code",
        "outputId": "d899607f-ac31-49f8-e427-d69666e7dde2",
        "colab": {
          "base_uri": "https://localhost:8080/",
          "height": 34
        }
      },
      "source": [
        "'abcdefg'[2]"
      ],
      "execution_count": 0,
      "outputs": [
        {
          "output_type": "execute_result",
          "data": {
            "text/plain": [
              "'c'"
            ]
          },
          "metadata": {
            "tags": []
          },
          "execution_count": 12
        }
      ]
    },
    {
      "cell_type": "code",
      "metadata": {
        "id": "iYrf_KaLK8mG",
        "colab_type": "code",
        "outputId": "2fd9d73a-4c27-46a2-fbb0-e4514c65c434",
        "colab": {
          "base_uri": "https://localhost:8080/",
          "height": 34
        }
      },
      "source": [
        "'abcdefg'[5]"
      ],
      "execution_count": 0,
      "outputs": [
        {
          "output_type": "execute_result",
          "data": {
            "text/plain": [
              "'f'"
            ]
          },
          "metadata": {
            "tags": []
          },
          "execution_count": 13
        }
      ]
    },
    {
      "cell_type": "markdown",
      "metadata": {
        "id": "zrlYBV7hLJAQ",
        "colab_type": "text"
      },
      "source": [
        "We can also pick out a <b>substring</b>, or a group of characters within a string, by using two indices and a colon. The first index tells us where we should start picking out characters, and the second index tells us where we should stop picking out characters. (The character located at the second index is not included in the substring.)"
      ]
    },
    {
      "cell_type": "code",
      "metadata": {
        "id": "QH2OE9usLqfC",
        "colab_type": "code",
        "outputId": "50b1c4ce-b87e-49db-8260-acb159722657",
        "colab": {
          "base_uri": "https://localhost:8080/",
          "height": 34
        }
      },
      "source": [
        "'abcdefg'[0:3]"
      ],
      "execution_count": 0,
      "outputs": [
        {
          "output_type": "execute_result",
          "data": {
            "text/plain": [
              "'abc'"
            ]
          },
          "metadata": {
            "tags": []
          },
          "execution_count": 14
        }
      ]
    },
    {
      "cell_type": "code",
      "metadata": {
        "id": "BDsdOuZxL4lu",
        "colab_type": "code",
        "outputId": "83912b82-aba6-47ee-bdc9-6051291dfbd5",
        "colab": {
          "base_uri": "https://localhost:8080/",
          "height": 34
        }
      },
      "source": [
        "'abcdefg'[2:4]"
      ],
      "execution_count": 0,
      "outputs": [
        {
          "output_type": "execute_result",
          "data": {
            "text/plain": [
              "'cd'"
            ]
          },
          "metadata": {
            "tags": []
          },
          "execution_count": 15
        }
      ]
    },
    {
      "cell_type": "code",
      "metadata": {
        "id": "7fRGaWL-L804",
        "colab_type": "code",
        "outputId": "c0b0f99c-b05f-4bf2-ceba-72df1a934de8",
        "colab": {
          "base_uri": "https://localhost:8080/",
          "height": 34
        }
      },
      "source": [
        "'abcdefg'[3:7]"
      ],
      "execution_count": 0,
      "outputs": [
        {
          "output_type": "execute_result",
          "data": {
            "text/plain": [
              "'defg'"
            ]
          },
          "metadata": {
            "tags": []
          },
          "execution_count": 16
        }
      ]
    },
    {
      "cell_type": "markdown",
      "metadata": {
        "id": "FDdmqb1aMFtF",
        "colab_type": "text"
      },
      "source": [
        "---\n",
        "\n",
        "### Exercise 4\n",
        "\n",
        "Pick out the substring `'shoes have'` from the string below. (Remember that spaces count as characters!)"
      ]
    },
    {
      "cell_type": "code",
      "metadata": {
        "id": "h_wtLfp8NBxK",
        "colab_type": "code",
        "outputId": "62c1e572-e09f-4180-e8c8-47cc600c93b7",
        "colab": {
          "base_uri": "https://localhost:8080/",
          "height": 34
        }
      },
      "source": [
        "'My shoes have laces.'[0:20] # change the indices 0 and 20 so that the resulting substring is just 'shoes have'"
      ],
      "execution_count": 0,
      "outputs": [
        {
          "output_type": "execute_result",
          "data": {
            "text/plain": [
              "'My shoes have laces.'"
            ]
          },
          "metadata": {
            "tags": []
          },
          "execution_count": 17
        }
      ]
    },
    {
      "cell_type": "markdown",
      "metadata": {
        "id": "yx49V7lJNpO9",
        "colab_type": "text"
      },
      "source": [
        "---\n",
        "\n",
        "There are various functions and methods that can be used to process strings. For now, you can think of functions and methods in the same way -- except that functions are called in the form `function(string)`, whereas methods are applied in the form `string.method()`."
      ]
    },
    {
      "cell_type": "markdown",
      "metadata": {
        "id": "Xan7grxeOQcK",
        "colab_type": "text"
      },
      "source": [
        "For example, the `len()` function tells us how many characters are in a string."
      ]
    },
    {
      "cell_type": "code",
      "metadata": {
        "id": "Md548o9NOI8z",
        "colab_type": "code",
        "outputId": "86be703c-5d4b-4931-fd9a-88d35a7effd6",
        "colab": {
          "base_uri": "https://localhost:8080/",
          "height": 34
        }
      },
      "source": [
        "len('This is a string.')"
      ],
      "execution_count": 0,
      "outputs": [
        {
          "output_type": "execute_result",
          "data": {
            "text/plain": [
              "17"
            ]
          },
          "metadata": {
            "tags": []
          },
          "execution_count": 18
        }
      ]
    },
    {
      "cell_type": "markdown",
      "metadata": {
        "id": "UwQ41vZnOWgi",
        "colab_type": "text"
      },
      "source": [
        "Likewise, the `.upper()` method converts all letters in the string to be uppercase."
      ]
    },
    {
      "cell_type": "code",
      "metadata": {
        "id": "2V5wR7wcOcxF",
        "colab_type": "code",
        "outputId": "6d8a2df4-ab21-4193-b453-5b96e9746448",
        "colab": {
          "base_uri": "https://localhost:8080/",
          "height": 34
        }
      },
      "source": [
        "'This is a string.'.upper()"
      ],
      "execution_count": 0,
      "outputs": [
        {
          "output_type": "execute_result",
          "data": {
            "text/plain": [
              "'THIS IS A STRING.'"
            ]
          },
          "metadata": {
            "tags": []
          },
          "execution_count": 19
        }
      ]
    },
    {
      "cell_type": "markdown",
      "metadata": {
        "id": "SMtZN-9pOoGS",
        "colab_type": "text"
      },
      "source": [
        "There are many, many functions and methods that can be applied to strings. As such, we will not go through all of them.\n",
        "\n",
        "However, it is important to know how to find a function or method when you need it. You can usually find them by searching Google. For example, to find the method or function which converts a string to all lowercase, you can search Google with something like \"python string lowercase\"."
      ]
    },
    {
      "cell_type": "markdown",
      "metadata": {
        "id": "OKFzuLxwQEDp",
        "colab_type": "text"
      },
      "source": [
        "---\n",
        "\n",
        "### Exercise 5\n",
        "\n",
        "Use functions or methods to perform the desired operations on the following strings."
      ]
    },
    {
      "cell_type": "code",
      "metadata": {
        "id": "WFY-Xx3dQDRe",
        "colab_type": "code",
        "outputId": "3335b829-18f3-453e-c9f9-0cd1ed4b4421",
        "colab": {
          "base_uri": "https://localhost:8080/",
          "height": 34
        }
      },
      "source": [
        "'This should look like shouting.' # convert this string to uppercase"
      ],
      "execution_count": 0,
      "outputs": [
        {
          "output_type": "execute_result",
          "data": {
            "text/plain": [
              "'This should look like shouting.'"
            ]
          },
          "metadata": {
            "tags": []
          },
          "execution_count": 20
        }
      ]
    },
    {
      "cell_type": "code",
      "metadata": {
        "id": "rEvV7DWJOnMP",
        "colab_type": "code",
        "outputId": "a8cbb177-7136-4939-d935-87117659c51b",
        "colab": {
          "base_uri": "https://localhost:8080/",
          "height": 34
        }
      },
      "source": [
        "'         This should have no spaces at the beginning nor the end.             ' # remove spaces from the beginning and end of the string"
      ],
      "execution_count": 0,
      "outputs": [
        {
          "output_type": "execute_result",
          "data": {
            "text/plain": [
              "'         This should have no spaces at the beginning nor the end.             '"
            ]
          },
          "metadata": {
            "tags": []
          },
          "execution_count": 21
        }
      ]
    },
    {
      "cell_type": "markdown",
      "metadata": {
        "id": "w8ctRJ4IusDO",
        "colab_type": "text"
      },
      "source": [
        "---\n",
        "\n",
        "# Ints/Floats\n",
        "\n",
        "Operations on ints and floats follow the rules of mathematics.\n",
        "\n",
        "Floats and ints are very similar -- the only difference is that floats have decimal parts, while ints do not."
      ]
    },
    {
      "cell_type": "code",
      "metadata": {
        "id": "fa39QS7O4fL7",
        "colab_type": "code",
        "outputId": "723b6b01-d89e-4b30-d0a7-b8a27788909d",
        "colab": {
          "base_uri": "https://localhost:8080/",
          "height": 34
        }
      },
      "source": [
        "2+3"
      ],
      "execution_count": 0,
      "outputs": [
        {
          "output_type": "execute_result",
          "data": {
            "text/plain": [
              "5"
            ]
          },
          "metadata": {
            "tags": []
          },
          "execution_count": 22
        }
      ]
    },
    {
      "cell_type": "code",
      "metadata": {
        "id": "Qytlt0jz4qwb",
        "colab_type": "code",
        "outputId": "4d74bbe0-c723-4b8b-a118-341c32d0ea6f",
        "colab": {
          "base_uri": "https://localhost:8080/",
          "height": 34
        }
      },
      "source": [
        "4-3"
      ],
      "execution_count": 0,
      "outputs": [
        {
          "output_type": "execute_result",
          "data": {
            "text/plain": [
              "1"
            ]
          },
          "metadata": {
            "tags": []
          },
          "execution_count": 23
        }
      ]
    },
    {
      "cell_type": "code",
      "metadata": {
        "id": "G2XSZl_d4tog",
        "colab_type": "code",
        "outputId": "3cf70d5c-ca17-46c4-9547-747ade46d378",
        "colab": {
          "base_uri": "https://localhost:8080/",
          "height": 34
        }
      },
      "source": [
        "6*2"
      ],
      "execution_count": 0,
      "outputs": [
        {
          "output_type": "execute_result",
          "data": {
            "text/plain": [
              "12"
            ]
          },
          "metadata": {
            "tags": []
          },
          "execution_count": 24
        }
      ]
    },
    {
      "cell_type": "code",
      "metadata": {
        "id": "LyhfbKM55FVl",
        "colab_type": "code",
        "outputId": "03bb44f8-7d06-47e5-b845-3e3fb447eaf0",
        "colab": {
          "base_uri": "https://localhost:8080/",
          "height": 34
        }
      },
      "source": [
        "-4/8"
      ],
      "execution_count": 0,
      "outputs": [
        {
          "output_type": "execute_result",
          "data": {
            "text/plain": [
              "-0.5"
            ]
          },
          "metadata": {
            "tags": []
          },
          "execution_count": 25
        }
      ]
    },
    {
      "cell_type": "markdown",
      "metadata": {
        "id": "z4P1jNFV5LvV",
        "colab_type": "text"
      },
      "source": [
        "---\n",
        "\n",
        "### Caution 1\n",
        "\n",
        "In Python, the carrot symbol does not mean exponentiation. If you use the carrot symbol for exponentiation, then your result will probably be incorrect."
      ]
    },
    {
      "cell_type": "code",
      "metadata": {
        "id": "1trNQten42Zd",
        "colab_type": "code",
        "outputId": "86f0ecfe-d027-4114-aef7-2f35f34d0a49",
        "colab": {
          "base_uri": "https://localhost:8080/",
          "height": 34
        }
      },
      "source": [
        "2^3 # 2 to the power of 3 should be 8..."
      ],
      "execution_count": 0,
      "outputs": [
        {
          "output_type": "execute_result",
          "data": {
            "text/plain": [
              "1"
            ]
          },
          "metadata": {
            "tags": []
          },
          "execution_count": 26
        }
      ]
    },
    {
      "cell_type": "markdown",
      "metadata": {
        "id": "cN-aXOOw5e00",
        "colab_type": "text"
      },
      "source": [
        "The way to do exponentiation in Python is to use two multiplication symbols in a row."
      ]
    },
    {
      "cell_type": "code",
      "metadata": {
        "id": "qVf6xo2Y5jpi",
        "colab_type": "code",
        "outputId": "3c5da68c-8452-43b3-8689-fae4e42ff062",
        "colab": {
          "base_uri": "https://localhost:8080/",
          "height": 34
        }
      },
      "source": [
        "2**3 # this actually means 2 to the power of 3"
      ],
      "execution_count": 0,
      "outputs": [
        {
          "output_type": "execute_result",
          "data": {
            "text/plain": [
              "8"
            ]
          },
          "metadata": {
            "tags": []
          },
          "execution_count": 27
        }
      ]
    },
    {
      "cell_type": "markdown",
      "metadata": {
        "id": "mGaTwyZV6kUU",
        "colab_type": "text"
      },
      "source": [
        "---\n",
        "\n",
        "Floats and ints can be assigned to variables and modified through operations on those variables."
      ]
    },
    {
      "cell_type": "code",
      "metadata": {
        "id": "K4j1TEAB6oU_",
        "colab_type": "code",
        "outputId": "ca6130ae-3f6d-412f-df8b-66c449921bd3",
        "colab": {
          "base_uri": "https://localhost:8080/",
          "height": 34
        }
      },
      "source": [
        "a=1\n",
        "a=a+2\n",
        "print(a)"
      ],
      "execution_count": 0,
      "outputs": [
        {
          "output_type": "stream",
          "text": [
            "3\n"
          ],
          "name": "stdout"
        }
      ]
    },
    {
      "cell_type": "code",
      "metadata": {
        "id": "hg7VJ95b6u9r",
        "colab_type": "code",
        "outputId": "ccb0844d-eb98-48a3-d408-87a9581f403c",
        "colab": {
          "base_uri": "https://localhost:8080/",
          "height": 34
        }
      },
      "source": [
        "a=10\n",
        "b=5.2\n",
        "c= (b-1)*a\n",
        "print(c)"
      ],
      "execution_count": 0,
      "outputs": [
        {
          "output_type": "stream",
          "text": [
            "42.0\n"
          ],
          "name": "stdout"
        }
      ]
    },
    {
      "cell_type": "markdown",
      "metadata": {
        "id": "nRTraLYK8jvG",
        "colab_type": "text"
      },
      "source": [
        "---\n",
        "\n",
        "### Caution 2\n",
        "\n",
        "Floats are sometimes rounded because the computer can only store a finite number of digits. As a result, operations with floats can be slightly inaccurate due to roundoff error.\n",
        "\n",
        "In practice, this often won't pose a problem, since the roundoff error is so small."
      ]
    },
    {
      "cell_type": "code",
      "metadata": {
        "id": "HRs6Vt3Q889D",
        "colab_type": "code",
        "outputId": "09f7590a-4758-4f5f-d0f5-9c8f3099797e",
        "colab": {
          "base_uri": "https://localhost:8080/",
          "height": 34
        }
      },
      "source": [
        "4-3.2 # computer will store a value very close to the true value of 0.8"
      ],
      "execution_count": 0,
      "outputs": [
        {
          "output_type": "execute_result",
          "data": {
            "text/plain": [
              "0.7999999999999998"
            ]
          },
          "metadata": {
            "tags": []
          },
          "execution_count": 30
        }
      ]
    },
    {
      "cell_type": "markdown",
      "metadata": {
        "id": "Y0UGIPCE-jes",
        "colab_type": "text"
      },
      "source": [
        "However, we can run into serious issues if we try to work with extremely large numbers.\n",
        "\n",
        "Recall that $\\lim_{n \\to \\infty} \\left( 1+\\frac{1}{n} \\right)^n \\approx 2.7182...$\n",
        "\n",
        "If we approximate this limit using $n=10^6$, we get a sensible result."
      ]
    },
    {
      "cell_type": "code",
      "metadata": {
        "id": "y8yk9XOS-eZR",
        "colab_type": "code",
        "outputId": "23a6ba8a-5f0d-48cc-8b09-f7bff023c79a",
        "colab": {
          "base_uri": "https://localhost:8080/",
          "height": 34
        }
      },
      "source": [
        "n=10**6\n",
        "(1+1/n)**n"
      ],
      "execution_count": 0,
      "outputs": [
        {
          "output_type": "execute_result",
          "data": {
            "text/plain": [
              "2.7182804690957534"
            ]
          },
          "metadata": {
            "tags": []
          },
          "execution_count": 31
        }
      ]
    },
    {
      "cell_type": "markdown",
      "metadata": {
        "id": "rHWc5ADc_XPN",
        "colab_type": "text"
      },
      "source": [
        "However, if we approximate the limit using $n=10^{100}$, we get a nonsense result."
      ]
    },
    {
      "cell_type": "code",
      "metadata": {
        "id": "bMhqpVSt_nKp",
        "colab_type": "code",
        "outputId": "7dfe78f3-bd4d-4cec-d9e6-4772b461b5ef",
        "colab": {
          "base_uri": "https://localhost:8080/",
          "height": 34
        }
      },
      "source": [
        "n=10**100\n",
        "(1+1/n)**n"
      ],
      "execution_count": 0,
      "outputs": [
        {
          "output_type": "execute_result",
          "data": {
            "text/plain": [
              "1.0"
            ]
          },
          "metadata": {
            "tags": []
          },
          "execution_count": 32
        }
      ]
    },
    {
      "cell_type": "markdown",
      "metadata": {
        "id": "XmOGuG0b_rSX",
        "colab_type": "text"
      },
      "source": [
        "The reason why we get this result is that when `n` is extremely large, the `1/n` part is treated as `0` due to roundoff error. The inside of the parentheses is then treated as `1.0` exactly, and `1.0` raised to any power is still `1.0`."
      ]
    },
    {
      "cell_type": "code",
      "metadata": {
        "id": "EGceBxQHANdI",
        "colab_type": "code",
        "outputId": "fc6df43c-180a-4246-b0ae-19839032599b",
        "colab": {
          "base_uri": "https://localhost:8080/",
          "height": 34
        }
      },
      "source": [
        "n=10**6\n",
        "(1+1/n)"
      ],
      "execution_count": 0,
      "outputs": [
        {
          "output_type": "execute_result",
          "data": {
            "text/plain": [
              "1.000001"
            ]
          },
          "metadata": {
            "tags": []
          },
          "execution_count": 33
        }
      ]
    },
    {
      "cell_type": "code",
      "metadata": {
        "id": "QxrfzsF__1l0",
        "colab_type": "code",
        "outputId": "50f4f789-468f-4e41-9571-7f90790b299f",
        "colab": {
          "base_uri": "https://localhost:8080/",
          "height": 34
        }
      },
      "source": [
        "n=10**100\n",
        "(1+1/n)"
      ],
      "execution_count": 0,
      "outputs": [
        {
          "output_type": "execute_result",
          "data": {
            "text/plain": [
              "1.0"
            ]
          },
          "metadata": {
            "tags": []
          },
          "execution_count": 34
        }
      ]
    },
    {
      "cell_type": "markdown",
      "metadata": {
        "id": "vQLSs-n86XpI",
        "colab_type": "text"
      },
      "source": [
        "---\n",
        "\n",
        "### Exercise 6\n",
        "\n",
        "In the cell below, write `c` as an expression of `a` and `b` so that `c` takes the value of 15. "
      ]
    },
    {
      "cell_type": "code",
      "metadata": {
        "id": "yLLvzHhI7RZV",
        "colab_type": "code",
        "outputId": "b41006a5-ff26-47d2-9679-fbf00be3ee3b",
        "colab": {
          "base_uri": "https://localhost:8080/",
          "height": 34
        }
      },
      "source": [
        "a=3\n",
        "b=2.5\n",
        "c=a-b\n",
        "print(c)"
      ],
      "execution_count": 0,
      "outputs": [
        {
          "output_type": "stream",
          "text": [
            "0.5\n"
          ],
          "name": "stdout"
        }
      ]
    },
    {
      "cell_type": "markdown",
      "metadata": {
        "id": "4svqPlS9uxc7",
        "colab_type": "text"
      },
      "source": [
        "---\n",
        "\n",
        "#Booleans\n",
        "\n",
        "Booleans can only take two values: `True`, `False`. They can be manipulated through logical operations including `not`, `and`, `or`.\n",
        "\n",
        "The `not` operation returns the opposite of the boolean to which it is applied."
      ]
    },
    {
      "cell_type": "code",
      "metadata": {
        "id": "jyNDSfNYD04l",
        "colab_type": "code",
        "outputId": "d375c813-82b6-408c-ffd2-315bd8b6595c",
        "colab": {
          "base_uri": "https://localhost:8080/",
          "height": 34
        }
      },
      "source": [
        "not True"
      ],
      "execution_count": 0,
      "outputs": [
        {
          "output_type": "execute_result",
          "data": {
            "text/plain": [
              "False"
            ]
          },
          "metadata": {
            "tags": []
          },
          "execution_count": 38
        }
      ]
    },
    {
      "cell_type": "code",
      "metadata": {
        "id": "3GDDmWy-EBxs",
        "colab_type": "code",
        "outputId": "c360b744-afe9-4999-cbb2-48e401026db6",
        "colab": {
          "base_uri": "https://localhost:8080/",
          "height": 34
        }
      },
      "source": [
        "not False"
      ],
      "execution_count": 0,
      "outputs": [
        {
          "output_type": "execute_result",
          "data": {
            "text/plain": [
              "True"
            ]
          },
          "metadata": {
            "tags": []
          },
          "execution_count": 39
        }
      ]
    },
    {
      "cell_type": "markdown",
      "metadata": {
        "id": "_eLd_2jeEGAj",
        "colab_type": "text"
      },
      "source": [
        "The `and` operation returns `True` if the booleans preceding and following it are both `True`.\n",
        "\n",
        "Otherwise, if at least one of them is `False`, then the operation returns `False`."
      ]
    },
    {
      "cell_type": "code",
      "metadata": {
        "id": "GjcchUCuECaP",
        "colab_type": "code",
        "outputId": "d988aa5f-729c-4c0f-824b-8206a738dfc9",
        "colab": {
          "base_uri": "https://localhost:8080/",
          "height": 34
        }
      },
      "source": [
        "True and True"
      ],
      "execution_count": 0,
      "outputs": [
        {
          "output_type": "execute_result",
          "data": {
            "text/plain": [
              "True"
            ]
          },
          "metadata": {
            "tags": []
          },
          "execution_count": 40
        }
      ]
    },
    {
      "cell_type": "code",
      "metadata": {
        "id": "-16Z50h2EbFp",
        "colab_type": "code",
        "outputId": "5577186b-e181-424c-aefe-9bd04136cf2a",
        "colab": {
          "base_uri": "https://localhost:8080/",
          "height": 34
        }
      },
      "source": [
        "True and False"
      ],
      "execution_count": 0,
      "outputs": [
        {
          "output_type": "execute_result",
          "data": {
            "text/plain": [
              "False"
            ]
          },
          "metadata": {
            "tags": []
          },
          "execution_count": 41
        }
      ]
    },
    {
      "cell_type": "code",
      "metadata": {
        "id": "Z5UZ8HJ7Eb25",
        "colab_type": "code",
        "outputId": "d7296c1a-b922-4e1c-9c38-da6670152eb6",
        "colab": {
          "base_uri": "https://localhost:8080/",
          "height": 34
        }
      },
      "source": [
        "False and True"
      ],
      "execution_count": 0,
      "outputs": [
        {
          "output_type": "execute_result",
          "data": {
            "text/plain": [
              "False"
            ]
          },
          "metadata": {
            "tags": []
          },
          "execution_count": 42
        }
      ]
    },
    {
      "cell_type": "code",
      "metadata": {
        "id": "pqnNUuC2EciC",
        "colab_type": "code",
        "outputId": "87d3bcce-9c43-455f-c203-95dd9e776b08",
        "colab": {
          "base_uri": "https://localhost:8080/",
          "height": 34
        }
      },
      "source": [
        "False and False"
      ],
      "execution_count": 0,
      "outputs": [
        {
          "output_type": "execute_result",
          "data": {
            "text/plain": [
              "False"
            ]
          },
          "metadata": {
            "tags": []
          },
          "execution_count": 43
        }
      ]
    },
    {
      "cell_type": "markdown",
      "metadata": {
        "id": "J4dUqzKyEf2L",
        "colab_type": "text"
      },
      "source": [
        "The `or` operation returns `True` if any of the booleans preceding and following it is `True`.\n",
        "\n",
        "In order to return `False`, the `or` operation requires both of the booleans preceding and following it to be `False`."
      ]
    },
    {
      "cell_type": "code",
      "metadata": {
        "colab_type": "code",
        "outputId": "48d1f565-5ff5-49d6-c8ac-ff27fd56df31",
        "id": "bC4zruuRE9MK",
        "colab": {
          "base_uri": "https://localhost:8080/",
          "height": 34
        }
      },
      "source": [
        "True or True"
      ],
      "execution_count": 0,
      "outputs": [
        {
          "output_type": "execute_result",
          "data": {
            "text/plain": [
              "True"
            ]
          },
          "metadata": {
            "tags": []
          },
          "execution_count": 44
        }
      ]
    },
    {
      "cell_type": "code",
      "metadata": {
        "colab_type": "code",
        "outputId": "34c9c4b5-7a0e-4e90-8d2a-9125f201f42b",
        "id": "9buTxzX2E9Md",
        "colab": {
          "base_uri": "https://localhost:8080/",
          "height": 34
        }
      },
      "source": [
        "True or False"
      ],
      "execution_count": 0,
      "outputs": [
        {
          "output_type": "execute_result",
          "data": {
            "text/plain": [
              "True"
            ]
          },
          "metadata": {
            "tags": []
          },
          "execution_count": 45
        }
      ]
    },
    {
      "cell_type": "code",
      "metadata": {
        "colab_type": "code",
        "outputId": "1f607346-dcfc-4450-bd30-3dd99c54d7f1",
        "id": "hIZrHxelE9Mr",
        "colab": {
          "base_uri": "https://localhost:8080/",
          "height": 34
        }
      },
      "source": [
        "False or True"
      ],
      "execution_count": 0,
      "outputs": [
        {
          "output_type": "execute_result",
          "data": {
            "text/plain": [
              "True"
            ]
          },
          "metadata": {
            "tags": []
          },
          "execution_count": 46
        }
      ]
    },
    {
      "cell_type": "code",
      "metadata": {
        "colab_type": "code",
        "outputId": "2be6104e-dba8-4ff7-fcf7-e810c7e18d9d",
        "id": "IYLZ6LK4E9M8",
        "colab": {
          "base_uri": "https://localhost:8080/",
          "height": 34
        }
      },
      "source": [
        "False or False"
      ],
      "execution_count": 0,
      "outputs": [
        {
          "output_type": "execute_result",
          "data": {
            "text/plain": [
              "False"
            ]
          },
          "metadata": {
            "tags": []
          },
          "execution_count": 47
        }
      ]
    },
    {
      "cell_type": "markdown",
      "metadata": {
        "id": "UodbCD3lFHdh",
        "colab_type": "text"
      },
      "source": [
        "Like strings, ints, and floats, booleans can be assigned to variables and those variables can be manipulated just as the booleans would.\n",
        "\n",
        "Boolean variables often follow a naming convention `is_XXXX` where `XXXX` is some property that another thing may or may not have."
      ]
    },
    {
      "cell_type": "code",
      "metadata": {
        "id": "SlmzPIYeFBU0",
        "colab_type": "code",
        "outputId": "9838ac31-6737-423a-fccf-588dc3094501",
        "colab": {
          "base_uri": "https://localhost:8080/",
          "height": 34
        }
      },
      "source": [
        "is_open=False\n",
        "not is_open"
      ],
      "execution_count": 0,
      "outputs": [
        {
          "output_type": "execute_result",
          "data": {
            "text/plain": [
              "True"
            ]
          },
          "metadata": {
            "tags": []
          },
          "execution_count": 48
        }
      ]
    },
    {
      "cell_type": "code",
      "metadata": {
        "id": "L-W76ivcFSL-",
        "colab_type": "code",
        "outputId": "cbb13453-9dd4-438f-9076-46de085d876d",
        "colab": {
          "base_uri": "https://localhost:8080/",
          "height": 34
        }
      },
      "source": [
        "is_open=True\n",
        "is_closed=False\n",
        "is_open and is_closed"
      ],
      "execution_count": 0,
      "outputs": [
        {
          "output_type": "execute_result",
          "data": {
            "text/plain": [
              "False"
            ]
          },
          "metadata": {
            "tags": []
          },
          "execution_count": 49
        }
      ]
    },
    {
      "cell_type": "markdown",
      "metadata": {
        "id": "o5u12h2qFWxn",
        "colab_type": "text"
      },
      "source": [
        "---\n",
        "\n",
        "### Exercise 7\n",
        "\n",
        "Create an expression using the variables `is_normal`, `is_surprising`, and `is_weird` that evaluates to `True`."
      ]
    },
    {
      "cell_type": "code",
      "metadata": {
        "id": "V60zvm2oFVjB",
        "colab_type": "code",
        "outputId": "785a11f1-c846-4439-f5e5-4a442729cce5",
        "colab": {
          "base_uri": "https://localhost:8080/",
          "height": 34
        }
      },
      "source": [
        "is_normal = False\n",
        "is_surprising = False\n",
        "is_weird = True\n",
        "is_normal and is_surprising and is_weird # change this so that it evaluates to True"
      ],
      "execution_count": 0,
      "outputs": [
        {
          "output_type": "execute_result",
          "data": {
            "text/plain": [
              "False"
            ]
          },
          "metadata": {
            "tags": []
          },
          "execution_count": 50
        }
      ]
    },
    {
      "cell_type": "markdown",
      "metadata": {
        "id": "zgY_6915GUO-",
        "colab_type": "text"
      },
      "source": [
        "---\n",
        "\n",
        "There are various operations, functions, and methods that return boolean values when applied to strings, ints, and floats. Such operators, functions, and methods are meant to test whether a particular thing or group of things has a particular property."
      ]
    },
    {
      "cell_type": "code",
      "metadata": {
        "id": "oPMNlwTHGVOD",
        "colab_type": "code",
        "outputId": "e831d3d9-82c2-4d7a-aa98-53a925d9177a",
        "colab": {
          "base_uri": "https://localhost:8080/",
          "height": 34
        }
      },
      "source": [
        "2 > 1"
      ],
      "execution_count": 0,
      "outputs": [
        {
          "output_type": "execute_result",
          "data": {
            "text/plain": [
              "True"
            ]
          },
          "metadata": {
            "tags": []
          },
          "execution_count": 51
        }
      ]
    },
    {
      "cell_type": "code",
      "metadata": {
        "id": "CfcrMdZVH3-j",
        "colab_type": "code",
        "outputId": "61d65b83-f44c-48c7-b501-3c91293ce47c",
        "colab": {
          "base_uri": "https://localhost:8080/",
          "height": 34
        }
      },
      "source": [
        "5 <= 4.9 # less than or equal to"
      ],
      "execution_count": 0,
      "outputs": [
        {
          "output_type": "execute_result",
          "data": {
            "text/plain": [
              "False"
            ]
          },
          "metadata": {
            "tags": []
          },
          "execution_count": 52
        }
      ]
    },
    {
      "cell_type": "code",
      "metadata": {
        "id": "jeSg4cOXITTw",
        "colab_type": "code",
        "outputId": "49ce59fe-f805-462f-f4ec-7565e9145ea0",
        "colab": {
          "base_uri": "https://localhost:8080/",
          "height": 34
        }
      },
      "source": [
        "1 == 1.0 # tests equality"
      ],
      "execution_count": 0,
      "outputs": [
        {
          "output_type": "execute_result",
          "data": {
            "text/plain": [
              "True"
            ]
          },
          "metadata": {
            "tags": []
          },
          "execution_count": 53
        }
      ]
    },
    {
      "cell_type": "code",
      "metadata": {
        "id": "XwCmeBiJH9Rc",
        "colab_type": "code",
        "outputId": "7ab26c20-43b8-4ca3-a82e-03ef5d9d04da",
        "colab": {
          "base_uri": "https://localhost:8080/",
          "height": 34
        }
      },
      "source": [
        "'asdf'.isdigit()"
      ],
      "execution_count": 0,
      "outputs": [
        {
          "output_type": "execute_result",
          "data": {
            "text/plain": [
              "False"
            ]
          },
          "metadata": {
            "tags": []
          },
          "execution_count": 54
        }
      ]
    },
    {
      "cell_type": "code",
      "metadata": {
        "id": "mdDi-UfTIMRU",
        "colab_type": "code",
        "outputId": "c6bfced3-9521-452c-ffba-9558c473ecca",
        "colab": {
          "base_uri": "https://localhost:8080/",
          "height": 34
        }
      },
      "source": [
        "'1234'.isdigit()"
      ],
      "execution_count": 0,
      "outputs": [
        {
          "output_type": "execute_result",
          "data": {
            "text/plain": [
              "True"
            ]
          },
          "metadata": {
            "tags": []
          },
          "execution_count": 55
        }
      ]
    },
    {
      "cell_type": "code",
      "metadata": {
        "id": "ujca842WIOt5",
        "colab_type": "code",
        "outputId": "5d5f5cb7-6d12-439e-d2bf-69d6f88a4848",
        "colab": {
          "base_uri": "https://localhost:8080/",
          "height": 34
        }
      },
      "source": [
        "'abc' == 'ABC'"
      ],
      "execution_count": 0,
      "outputs": [
        {
          "output_type": "execute_result",
          "data": {
            "text/plain": [
              "False"
            ]
          },
          "metadata": {
            "tags": []
          },
          "execution_count": 56
        }
      ]
    },
    {
      "cell_type": "code",
      "metadata": {
        "id": "O7A6SjzjIZjy",
        "colab_type": "code",
        "outputId": "43e6c57a-4ace-4ba8-d44c-6ee519051bc4",
        "colab": {
          "base_uri": "https://localhost:8080/",
          "height": 34
        }
      },
      "source": [
        "'abc'.upper() == 'ABC'"
      ],
      "execution_count": 0,
      "outputs": [
        {
          "output_type": "execute_result",
          "data": {
            "text/plain": [
              "True"
            ]
          },
          "metadata": {
            "tags": []
          },
          "execution_count": 57
        }
      ]
    },
    {
      "cell_type": "markdown",
      "metadata": {
        "id": "4nFWxYrTIok9",
        "colab_type": "text"
      },
      "source": [
        "---\n",
        "\n",
        "### Exercise 8\n",
        "\n",
        "Use functions or methods to perform the desired operations on the following strings, ints, and floats. (You may have to do some Googling!)"
      ]
    },
    {
      "cell_type": "code",
      "metadata": {
        "id": "3Mll_x8-Ik6L",
        "colab_type": "code",
        "outputId": "acfbdd22-ae2e-462b-bab4-46e33c04890a",
        "colab": {
          "base_uri": "https://localhost:8080/",
          "height": 34
        }
      },
      "source": [
        "'asdf98qoiuretkjld' # test if every character in the string is a letter"
      ],
      "execution_count": 0,
      "outputs": [
        {
          "output_type": "execute_result",
          "data": {
            "text/plain": [
              "'asdf98qoiuretkjld'"
            ]
          },
          "metadata": {
            "tags": []
          },
          "execution_count": 58
        }
      ]
    },
    {
      "cell_type": "code",
      "metadata": {
        "id": "Ktv1_yjdJRTU",
        "colab_type": "code",
        "outputId": "9e22b9d2-0966-45ff-d416-323f1751ca3e",
        "colab": {
          "base_uri": "https://localhost:8080/",
          "height": 34
        }
      },
      "source": [
        "4.2 # test if this is an integer"
      ],
      "execution_count": 0,
      "outputs": [
        {
          "output_type": "execute_result",
          "data": {
            "text/plain": [
              "4.2"
            ]
          },
          "metadata": {
            "tags": []
          },
          "execution_count": 59
        }
      ]
    }
  ]
}