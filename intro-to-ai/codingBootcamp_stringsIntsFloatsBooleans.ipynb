{
  "nbformat": 4,
  "nbformat_minor": 0,
  "metadata": {
    "colab": {
      "name": "codingBootcamp_stringsIntsFloatsBooleans.ipynb",
      "version": "0.3.2",
      "provenance": [],
      "collapsed_sections": [],
      "toc_visible": true,
      "include_colab_link": true
    },
    "kernelspec": {
      "name": "python3",
      "display_name": "Python 3"
    }
  },
  "cells": [
    {
      "cell_type": "markdown",
      "metadata": {
        "id": "view-in-github",
        "colab_type": "text"
      },
      "source": [
        "<a href=\"https://colab.research.google.com/github/jpskycak/aihigh/blob/master/intro-to-ai/codingBootcamp_stringsIntsFloatsBooleans.ipynb\" target=\"_parent\"><img src=\"https://colab.research.google.com/assets/colab-badge.svg\" alt=\"Open In Colab\"/></a>"
      ]
    },
    {
      "cell_type": "markdown",
      "metadata": {
        "id": "D7c3mb1OQ3CN",
        "colab_type": "text"
      },
      "source": [
        "#Setup\n",
        "\n",
        "In order to run the notebook,\n",
        "\n",
        "1. sign into your Google account (top-right) and\n",
        "2. make a copy of the notebook in your Google Drive by pressing the <img src=\"https://i.imgur.com/chlzY9P.png\" alt=\"Drawing\" width=\"100\"/> button in the upper-left menu."
      ]
    },
    {
      "cell_type": "markdown",
      "metadata": {
        "colab_type": "text",
        "id": "OkZxxShdi8rS"
      },
      "source": [
        "#Variables\n",
        "\n",
        "When we program in IPython notebooks, we store and manipulate data in the form of variables.\n",
        "\n",
        "To assign data a variable name, we use the `=` symbol. Then, when we print the variable, the data will appear.\n"
      ]
    },
    {
      "cell_type": "code",
      "metadata": {
        "id": "VVfj4pWjg2oc",
        "colab_type": "code",
        "colab": {
          "base_uri": "https://localhost:8080/",
          "height": 34
        },
        "outputId": "eea6f761-864c-41c6-b592-b070b27a71aa"
      },
      "source": [
        "my_variable = \"The variable contains this sentence.\"\n",
        "print(my_variable)"
      ],
      "execution_count": 5,
      "outputs": [
        {
          "output_type": "stream",
          "text": [
            "The variable contains this sentence.\n"
          ],
          "name": "stdout"
        }
      ]
    },
    {
      "cell_type": "markdown",
      "metadata": {
        "id": "-R2tfyMchHi3",
        "colab_type": "text"
      },
      "source": [
        "1. Assign `\"This is a sentence.\"` to the variable `my_sentence`. Then, print the sentence by printing the variable."
      ]
    },
    {
      "cell_type": "code",
      "metadata": {
        "id": "zqCqFF1ChqKt",
        "colab_type": "code",
        "colab": {}
      },
      "source": [
        ""
      ],
      "execution_count": 0,
      "outputs": []
    },
    {
      "cell_type": "markdown",
      "metadata": {
        "id": "nIj5B68uhqe6",
        "colab_type": "text"
      },
      "source": [
        "We can also assign an existing variable to a new variable."
      ]
    },
    {
      "cell_type": "code",
      "metadata": {
        "id": "Vi6bXjjPh9vJ",
        "colab_type": "code",
        "colab": {
          "base_uri": "https://localhost:8080/",
          "height": 34
        },
        "outputId": "08aa9e89-22dd-490b-e6ee-141c0f54deb2"
      },
      "source": [
        "my_variable = \"The variable contains this sentence.\"\n",
        "my_variable_again = my_variable\n",
        "print(my_variable_again)"
      ],
      "execution_count": 6,
      "outputs": [
        {
          "output_type": "stream",
          "text": [
            "The variable contains this sentence.\n"
          ],
          "name": "stdout"
        }
      ]
    },
    {
      "cell_type": "markdown",
      "metadata": {
        "id": "2WaSzF7TiGS6",
        "colab_type": "text"
      },
      "source": [
        "Likewise, we can overwrite an existing variable with new data."
      ]
    },
    {
      "cell_type": "code",
      "metadata": {
        "id": "GCIQrObFiJqn",
        "colab_type": "code",
        "colab": {
          "base_uri": "https://localhost:8080/",
          "height": 34
        },
        "outputId": "308d10f3-cc69-49a4-a856-58f3db3f5b1d"
      },
      "source": [
        "my_variable = \"The variable contains this sentence.\"\n",
        "my_variable = \"This variable has been overwritten with a new sentence!\"\n",
        "print(my_variable)"
      ],
      "execution_count": 7,
      "outputs": [
        {
          "output_type": "stream",
          "text": [
            "This variable has been overwritten with a new sentence!\n"
          ],
          "name": "stdout"
        }
      ]
    },
    {
      "cell_type": "markdown",
      "metadata": {
        "id": "f9UW_r93igZa",
        "colab_type": "text"
      },
      "source": [
        "2. Overwrite the variable `my_sentence` with a new sentence `\"I have commandeered your sentence.\"` Then, print the new sentence by printing the variable."
      ]
    },
    {
      "cell_type": "code",
      "metadata": {
        "id": "ztsumbdkiSO_",
        "colab_type": "code",
        "colab": {}
      },
      "source": [
        "my_sentence = \"This is my sentence.\""
      ],
      "execution_count": 0,
      "outputs": []
    },
    {
      "cell_type": "markdown",
      "metadata": {
        "id": "0TrNXtL0kzV4",
        "colab_type": "text"
      },
      "source": [
        "#Strings, Ints, Floats, and Booleans\n",
        "\n",
        "We will primarily be using 4 types of variables: strings, ints, floats, and booleans.\n",
        "* <b>Strings</b> are sequences of characters and are surrounded by quotes. Characters can include not only letters, but also numbers and symbols such as punctuation and spaces. Examples of strings include \"cat\", \"The dog is happy!\", and \"asdf1234!! !@#^&\".\n",
        "* <b>Ints</b> are integers such as 1, 2, 3, 512, 87743, and -3432178.\n",
        "* <b>Floats</b> are decimals, also known as floating point numbers. Examples of floats include 1.5, 3.141592654, 112.0, and -32.018.\n",
        "* <b>Booleans</b> can be either True or False."
      ]
    },
    {
      "cell_type": "markdown",
      "metadata": {
        "id": "f02H2CClkN3a",
        "colab_type": "text"
      },
      "source": [
        "##Strings\n",
        "asdf"
      ]
    },
    {
      "cell_type": "markdown",
      "metadata": {
        "id": "w8ctRJ4IusDO",
        "colab_type": "text"
      },
      "source": [
        "##Ints\n",
        "asdf"
      ]
    },
    {
      "cell_type": "markdown",
      "metadata": {
        "id": "BItnNk2Quu94",
        "colab_type": "text"
      },
      "source": [
        "##Floats\n",
        "asdf"
      ]
    },
    {
      "cell_type": "markdown",
      "metadata": {
        "id": "4svqPlS9uxc7",
        "colab_type": "text"
      },
      "source": [
        "##Booleans\n",
        "asdf"
      ]
    }
  ]
}