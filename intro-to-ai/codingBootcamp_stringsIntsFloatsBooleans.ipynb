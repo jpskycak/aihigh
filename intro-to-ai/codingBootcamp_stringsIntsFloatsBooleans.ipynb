{
  "nbformat": 4,
  "nbformat_minor": 0,
  "metadata": {
    "colab": {
      "name": "codingBootcamp_stringsIntsFloatsBooleans.ipynb",
      "version": "0.3.2",
      "provenance": [],
      "collapsed_sections": [],
      "toc_visible": true,
      "include_colab_link": true
    },
    "kernelspec": {
      "name": "python3",
      "display_name": "Python 3"
    }
  },
  "cells": [
    {
      "cell_type": "markdown",
      "metadata": {
        "id": "view-in-github",
        "colab_type": "text"
      },
      "source": [
        "<a href=\"https://colab.research.google.com/github/jpskycak/aihigh/blob/master/intro-to-ai/codingBootcamp_stringsIntsFloatsBooleans.ipynb\" target=\"_parent\"><img src=\"https://colab.research.google.com/assets/colab-badge.svg\" alt=\"Open In Colab\"/></a>"
      ]
    },
    {
      "cell_type": "markdown",
      "metadata": {
        "id": "4Yx75_aVMfYA",
        "colab_type": "text"
      },
      "source": [
        "#Strings, Ints, Floats, and Booleans\n",
        "\n",
        "When we program in IPython notebooks, we store and manipulate data in the form of variables. We will primarily be using 4 types of variables: strings, ints, floats, and booleans.\n",
        "Strings are sequences of characters and are surrounded by quotes. Characters can include not only letters, but also numbers and symbols such as punctuation and spaces. Examples of strings include \"cat\", \"The dog is happy!\", and \"asdf1234!! !@#^&\". For example, the word \"\n",
        "Ints are integers such as 1, 2, 3, 512, 87743, and -3432178.\n",
        "Floats are decimals, also known as floating point numbers. Examples of floats include 1.5, 3.141592654, 112.0, and -32.018.\n",
        "Booleans can be either True or False."
      ]
    },
    {
      "cell_type": "markdown",
      "metadata": {
        "id": "D7c3mb1OQ3CN",
        "colab_type": "text"
      },
      "source": [
        "In order to run the notebook,\n",
        "\n",
        "1. sign into your Google account (top-right) and\n",
        "2. make a copy of the notebook in your Google Drive by pressing the <img src=\"https://i.imgur.com/chlzY9P.png\" alt=\"Drawing\" width=\"100\"/> button in the upper-left menu."
      ]
    },
    {
      "cell_type": "markdown",
      "metadata": {
        "colab_type": "text",
        "id": "OkZxxShdi8rS"
      },
      "source": [
        "##Strings\n",
        "asdf\n"
      ]
    },
    {
      "cell_type": "markdown",
      "metadata": {
        "id": "w8ctRJ4IusDO",
        "colab_type": "text"
      },
      "source": [
        "##Ints\n",
        "asdf"
      ]
    },
    {
      "cell_type": "markdown",
      "metadata": {
        "id": "BItnNk2Quu94",
        "colab_type": "text"
      },
      "source": [
        "##Floats\n",
        "asdf"
      ]
    },
    {
      "cell_type": "markdown",
      "metadata": {
        "id": "4svqPlS9uxc7",
        "colab_type": "text"
      },
      "source": [
        "##Booleans\n",
        "asdf"
      ]
    }
  ]
}