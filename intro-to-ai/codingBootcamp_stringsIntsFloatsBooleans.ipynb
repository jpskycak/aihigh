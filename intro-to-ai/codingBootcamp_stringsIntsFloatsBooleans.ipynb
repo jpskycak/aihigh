{
  "nbformat": 4,
  "nbformat_minor": 0,
  "metadata": {
    "colab": {
      "name": "codingBootcamp_stringsIntsFloatsBooleans.ipynb",
      "version": "0.3.2",
      "provenance": [],
      "collapsed_sections": [],
      "toc_visible": true,
      "include_colab_link": true
    },
    "kernelspec": {
      "name": "python3",
      "display_name": "Python 3"
    }
  },
  "cells": [
    {
      "cell_type": "markdown",
      "metadata": {
        "id": "view-in-github",
        "colab_type": "text"
      },
      "source": [
        "<a href=\"https://colab.research.google.com/github/jpskycak/aihigh/blob/master/intro-to-ai/codingBootcamp_stringsIntsFloatsBooleans.ipynb\" target=\"_parent\"><img src=\"https://colab.research.google.com/assets/colab-badge.svg\" alt=\"Open In Colab\"/></a>"
      ]
    },
    {
      "cell_type": "markdown",
      "metadata": {
        "id": "D7c3mb1OQ3CN",
        "colab_type": "text"
      },
      "source": [
        "#Setup\n",
        "\n",
        "In order to run the notebook,\n",
        "\n",
        "1. sign into your Google account (top-right) and\n",
        "2. make a copy of the notebook in your Google Drive by pressing the <img src=\"https://i.imgur.com/chlzY9P.png\" alt=\"Drawing\" width=\"100\"/> button in the upper-left menu."
      ]
    },
    {
      "cell_type": "markdown",
      "metadata": {
        "colab_type": "text",
        "id": "OkZxxShdi8rS"
      },
      "source": [
        "#Variables\n",
        "\n",
        "When we program in IPython notebooks, we store and manipulate data in the form of variables.\n",
        "\n",
        "To assign data a variable name, we use the `=` symbol. Then, when we print the variable, the data will appear.\n"
      ]
    },
    {
      "cell_type": "code",
      "metadata": {
        "id": "VVfj4pWjg2oc",
        "colab_type": "code",
        "colab": {
          "base_uri": "https://localhost:8080/",
          "height": 34
        },
        "outputId": "eea6f761-864c-41c6-b592-b070b27a71aa"
      },
      "source": [
        "my_variable = 'The variable contains this sentence.''\n",
        "print(my_variable)"
      ],
      "execution_count": 5,
      "outputs": [
        {
          "output_type": "stream",
          "text": [
            "The variable contains this sentence.\n"
          ],
          "name": "stdout"
        }
      ]
    },
    {
      "cell_type": "markdown",
      "metadata": {
        "id": "-R2tfyMchHi3",
        "colab_type": "text"
      },
      "source": [
        "<b>Exercise 1.</b> Assign `'This is a sentence.'` to the variable `my_sentence`. Then, print the sentence by printing the variable."
      ]
    },
    {
      "cell_type": "code",
      "metadata": {
        "id": "zqCqFF1ChqKt",
        "colab_type": "code",
        "colab": {}
      },
      "source": [
        "# assign 'This is a sentence.' to my_sentence\n",
        "# print the variable my_sentence"
      ],
      "execution_count": 0,
      "outputs": []
    },
    {
      "cell_type": "markdown",
      "metadata": {
        "id": "nIj5B68uhqe6",
        "colab_type": "text"
      },
      "source": [
        "We can also assign an existing variable to a new variable."
      ]
    },
    {
      "cell_type": "code",
      "metadata": {
        "id": "Vi6bXjjPh9vJ",
        "colab_type": "code",
        "colab": {
          "base_uri": "https://localhost:8080/",
          "height": 34
        },
        "outputId": "08aa9e89-22dd-490b-e6ee-141c0f54deb2"
      },
      "source": [
        "my_variable = 'The variable contains this sentence.'\n",
        "my_variable_again = my_variable\n",
        "print(my_variable_again)"
      ],
      "execution_count": 6,
      "outputs": [
        {
          "output_type": "stream",
          "text": [
            "The variable contains this sentence.\n"
          ],
          "name": "stdout"
        }
      ]
    },
    {
      "cell_type": "markdown",
      "metadata": {
        "id": "2WaSzF7TiGS6",
        "colab_type": "text"
      },
      "source": [
        "Likewise, we can overwrite an existing variable with new data."
      ]
    },
    {
      "cell_type": "code",
      "metadata": {
        "id": "GCIQrObFiJqn",
        "colab_type": "code",
        "colab": {
          "base_uri": "https://localhost:8080/",
          "height": 34
        },
        "outputId": "308d10f3-cc69-49a4-a856-58f3db3f5b1d"
      },
      "source": [
        "my_variable = 'The variable contains this sentence.'\n",
        "my_variable = 'This variable has been overwritten with a new sentence!'\n",
        "print(my_variable)"
      ],
      "execution_count": 7,
      "outputs": [
        {
          "output_type": "stream",
          "text": [
            "This variable has been overwritten with a new sentence!\n"
          ],
          "name": "stdout"
        }
      ]
    },
    {
      "cell_type": "markdown",
      "metadata": {
        "id": "f9UW_r93igZa",
        "colab_type": "text"
      },
      "source": [
        "<b>Exercise 2.</b> Overwrite the variable `my_sentence` with a new sentence `'I have commandeered your sentence.'` Then, print the new sentence by printing the variable."
      ]
    },
    {
      "cell_type": "code",
      "metadata": {
        "id": "ztsumbdkiSO_",
        "colab_type": "code",
        "colab": {}
      },
      "source": [
        "my_sentence = 'This is my sentence.' # overwrite this\n",
        "# print the variable my_sentence"
      ],
      "execution_count": 0,
      "outputs": []
    },
    {
      "cell_type": "markdown",
      "metadata": {
        "id": "0TrNXtL0kzV4",
        "colab_type": "text"
      },
      "source": [
        "#Strings, Ints, Floats, and Booleans\n",
        "\n",
        "We will primarily be using 4 types of variables: strings, ints, floats, and booleans.\n",
        "* <b>Strings</b> are sequences of characters and are surrounded by quotes. Characters can include not only letters, but also numbers and symbols such as punctuation and spaces. Examples of strings include `'cat'`, `'The dog is happy!'`, and `'asdf1234!! !@#^&'`.\n",
        "* <b>Ints</b> are integers such as 1, 2, 3, 512, 87743, and -3432178.\n",
        "* <b>Floats</b> are decimals, also known as floating point numbers. Examples of floats include 1.5, 3.141592654, 112.0, and -32.018.\n",
        "* <b>Booleans</b> can be either True or False."
      ]
    },
    {
      "cell_type": "markdown",
      "metadata": {
        "id": "f02H2CClkN3a",
        "colab_type": "text"
      },
      "source": [
        "##Strings\n",
        "\n",
        "Strings can be concatenated (combined one after another) with the `+` symbol."
      ]
    },
    {
      "cell_type": "code",
      "metadata": {
        "id": "ueHn5ap_pRsK",
        "colab_type": "code",
        "colab": {
          "base_uri": "https://localhost:8080/",
          "height": 34
        },
        "outputId": "90a0512a-c5da-481e-cb46-c3ca5279d3a4"
      },
      "source": [
        "'a'+'b'"
      ],
      "execution_count": 13,
      "outputs": [
        {
          "output_type": "execute_result",
          "data": {
            "text/plain": [
              "'ab'"
            ]
          },
          "metadata": {
            "tags": []
          },
          "execution_count": 13
        }
      ]
    },
    {
      "cell_type": "markdown",
      "metadata": {
        "id": "9pqKUbR5qBqE",
        "colab_type": "text"
      },
      "source": [
        "Notice that a space is not automatically added between concatenated strings -- so if we want a space, we need to add it manually."
      ]
    },
    {
      "cell_type": "code",
      "metadata": {
        "id": "K4R0c-RnpmDo",
        "colab_type": "code",
        "colab": {
          "base_uri": "https://localhost:8080/",
          "height": 34
        },
        "outputId": "d4c8da61-54c8-45cc-e4e5-80511d95844a"
      },
      "source": [
        "var1 = 'hello'\n",
        "var2 = ' '\n",
        "var3 = 'there'\n",
        "var1+var2+var3"
      ],
      "execution_count": 18,
      "outputs": [
        {
          "output_type": "execute_result",
          "data": {
            "text/plain": [
              "'hello there'"
            ]
          },
          "metadata": {
            "tags": []
          },
          "execution_count": 18
        }
      ]
    },
    {
      "cell_type": "markdown",
      "metadata": {
        "id": "5Ip1V93hAsCk",
        "colab_type": "text"
      },
      "source": [
        "Strings can also represent symbols other than words."
      ]
    },
    {
      "cell_type": "code",
      "metadata": {
        "id": "2GB5mYLoAsp4",
        "colab_type": "code",
        "colab": {
          "base_uri": "https://localhost:8080/",
          "height": 34
        },
        "outputId": "b948f065-e292-4f30-df9f-4f9f3c7f6fe7"
      },
      "source": [
        "'The number 225 is a perfect square! Here are some symbols: @#$&*&^.'"
      ],
      "execution_count": 26,
      "outputs": [
        {
          "output_type": "execute_result",
          "data": {
            "text/plain": [
              "'The number 225 is a perfect square! Here are some symbols: @#$&*&^.'"
            ]
          },
          "metadata": {
            "tags": []
          },
          "execution_count": 26
        }
      ]
    },
    {
      "cell_type": "markdown",
      "metadata": {
        "id": "062D9oNjrVnP",
        "colab_type": "text"
      },
      "source": [
        "<b>Exercise 1.</b> Add the following variables in some order to create the string `'The dog jumped over the cat.'`\n",
        "\n"
      ]
    },
    {
      "cell_type": "code",
      "metadata": {
        "id": "h3NV8Q3S-F50",
        "colab_type": "code",
        "colab": {
          "base_uri": "https://localhost:8080/",
          "height": 34
        },
        "outputId": "4e40b3a3-6e6a-45b3-bd8f-ead0165b3d7c"
      },
      "source": [
        "var1='dog'\n",
        "var2='over'\n",
        "var3='cat'\n",
        "var4='the'\n",
        "var5='jumped'\n",
        "var6='The'\n",
        "var7=' '\n",
        "var8='.'\n",
        "var1+var2+var3+var4+var5+var6+var7+var8 # change this"
      ],
      "execution_count": 20,
      "outputs": [
        {
          "output_type": "execute_result",
          "data": {
            "text/plain": [
              "'dogovercatthejumpedThe .'"
            ]
          },
          "metadata": {
            "tags": []
          },
          "execution_count": 20
        }
      ]
    },
    {
      "cell_type": "markdown",
      "metadata": {
        "id": "WciDPuf2KD1P",
        "colab_type": "text"
      },
      "source": [
        "We can pick out an individual character within in a string by using the <b>index</b> of the character. The index just counts how many characters are before our desired character -- so the first character in a string has an index of 0, the second character has an index of 1, the third character has an index of 2, and so on."
      ]
    },
    {
      "cell_type": "code",
      "metadata": {
        "id": "EbJEofDhK12W",
        "colab_type": "code",
        "colab": {
          "base_uri": "https://localhost:8080/",
          "height": 34
        },
        "outputId": "56a179f1-52c3-4282-d04a-ea6929f1e18b"
      },
      "source": [
        "'abcdefg'[0]"
      ],
      "execution_count": 27,
      "outputs": [
        {
          "output_type": "execute_result",
          "data": {
            "text/plain": [
              "'a'"
            ]
          },
          "metadata": {
            "tags": []
          },
          "execution_count": 27
        }
      ]
    },
    {
      "cell_type": "code",
      "metadata": {
        "id": "caralovDK5fE",
        "colab_type": "code",
        "colab": {
          "base_uri": "https://localhost:8080/",
          "height": 34
        },
        "outputId": "44186851-4aac-4d3b-899e-19d1c511a108"
      },
      "source": [
        "'abcdefg'[1]"
      ],
      "execution_count": 28,
      "outputs": [
        {
          "output_type": "execute_result",
          "data": {
            "text/plain": [
              "'b'"
            ]
          },
          "metadata": {
            "tags": []
          },
          "execution_count": 28
        }
      ]
    },
    {
      "cell_type": "code",
      "metadata": {
        "id": "rgwTMhjAK7Cf",
        "colab_type": "code",
        "colab": {
          "base_uri": "https://localhost:8080/",
          "height": 34
        },
        "outputId": "7edce828-8cc7-4414-8f66-4f4fe40a363c"
      },
      "source": [
        "'abcdefg'[2]"
      ],
      "execution_count": 29,
      "outputs": [
        {
          "output_type": "execute_result",
          "data": {
            "text/plain": [
              "'c'"
            ]
          },
          "metadata": {
            "tags": []
          },
          "execution_count": 29
        }
      ]
    },
    {
      "cell_type": "code",
      "metadata": {
        "id": "iYrf_KaLK8mG",
        "colab_type": "code",
        "colab": {
          "base_uri": "https://localhost:8080/",
          "height": 34
        },
        "outputId": "21121b5f-9b34-41dd-be8a-8e5cc54d5278"
      },
      "source": [
        "'abcdefg'[5]"
      ],
      "execution_count": 30,
      "outputs": [
        {
          "output_type": "execute_result",
          "data": {
            "text/plain": [
              "'f'"
            ]
          },
          "metadata": {
            "tags": []
          },
          "execution_count": 30
        }
      ]
    },
    {
      "cell_type": "markdown",
      "metadata": {
        "id": "zrlYBV7hLJAQ",
        "colab_type": "text"
      },
      "source": [
        "We can also pick out a <b>substring</b>, or a group of characters within a string, by using two indices and a colon. The first index tells us where we should start picking out characters, and the second index tells us where we should stop picking out characters. (The character located at the second index is not included in the substring.)"
      ]
    },
    {
      "cell_type": "code",
      "metadata": {
        "id": "QH2OE9usLqfC",
        "colab_type": "code",
        "colab": {
          "base_uri": "https://localhost:8080/",
          "height": 34
        },
        "outputId": "2d781912-3385-426b-d87b-f669fb5f4c05"
      },
      "source": [
        "'abcdefg'[0:3]"
      ],
      "execution_count": 32,
      "outputs": [
        {
          "output_type": "execute_result",
          "data": {
            "text/plain": [
              "'abc'"
            ]
          },
          "metadata": {
            "tags": []
          },
          "execution_count": 32
        }
      ]
    },
    {
      "cell_type": "code",
      "metadata": {
        "id": "BDsdOuZxL4lu",
        "colab_type": "code",
        "colab": {
          "base_uri": "https://localhost:8080/",
          "height": 34
        },
        "outputId": "275ae162-f067-4ad0-e399-7f2c1d198f8f"
      },
      "source": [
        "'abcdefg'[2:4]"
      ],
      "execution_count": 33,
      "outputs": [
        {
          "output_type": "execute_result",
          "data": {
            "text/plain": [
              "'cd'"
            ]
          },
          "metadata": {
            "tags": []
          },
          "execution_count": 33
        }
      ]
    },
    {
      "cell_type": "code",
      "metadata": {
        "id": "7fRGaWL-L804",
        "colab_type": "code",
        "colab": {
          "base_uri": "https://localhost:8080/",
          "height": 34
        },
        "outputId": "497159af-70f9-4188-d39b-7913ae32fe3e"
      },
      "source": [
        "'abcdefg'[3:7]"
      ],
      "execution_count": 35,
      "outputs": [
        {
          "output_type": "execute_result",
          "data": {
            "text/plain": [
              "'defg'"
            ]
          },
          "metadata": {
            "tags": []
          },
          "execution_count": 35
        }
      ]
    },
    {
      "cell_type": "markdown",
      "metadata": {
        "id": "FDdmqb1aMFtF",
        "colab_type": "text"
      },
      "source": [
        "<b>Exercise 2.</b> Pick out the substring `'shoes have'` from the string below. (Remember that spaces count as characters!)"
      ]
    },
    {
      "cell_type": "code",
      "metadata": {
        "id": "h_wtLfp8NBxK",
        "colab_type": "code",
        "colab": {
          "base_uri": "https://localhost:8080/",
          "height": 34
        },
        "outputId": "47094e29-629b-457d-f262-221401e7c7b1"
      },
      "source": [
        "'My shoes have laces.'[0:20] # change the indices 0 and 20 so that the resulting substring is just 'shoes have'"
      ],
      "execution_count": 44,
      "outputs": [
        {
          "output_type": "execute_result",
          "data": {
            "text/plain": [
              "'My shoes have laces.'"
            ]
          },
          "metadata": {
            "tags": []
          },
          "execution_count": 44
        }
      ]
    },
    {
      "cell_type": "markdown",
      "metadata": {
        "id": "yx49V7lJNpO9",
        "colab_type": "text"
      },
      "source": [
        "There are various functions and methods that can be used to process strings. For now, you can think of functions and methods in the same way -- except that functions are called in the form `function(string)`, whereas methods are applied in the form `string.method()`."
      ]
    },
    {
      "cell_type": "markdown",
      "metadata": {
        "id": "Xan7grxeOQcK",
        "colab_type": "text"
      },
      "source": [
        "For example, the `len()` function tells us how many characters are in a string."
      ]
    },
    {
      "cell_type": "code",
      "metadata": {
        "id": "Md548o9NOI8z",
        "colab_type": "code",
        "colab": {
          "base_uri": "https://localhost:8080/",
          "height": 34
        },
        "outputId": "7ec1ae48-1add-4993-d041-9356b8b9f0cc"
      },
      "source": [
        "len('This is a string.')"
      ],
      "execution_count": 45,
      "outputs": [
        {
          "output_type": "execute_result",
          "data": {
            "text/plain": [
              "17"
            ]
          },
          "metadata": {
            "tags": []
          },
          "execution_count": 45
        }
      ]
    },
    {
      "cell_type": "markdown",
      "metadata": {
        "id": "UwQ41vZnOWgi",
        "colab_type": "text"
      },
      "source": [
        "Likewise, the `.upper()` method converts all letters in the string to be uppercase."
      ]
    },
    {
      "cell_type": "code",
      "metadata": {
        "id": "2V5wR7wcOcxF",
        "colab_type": "code",
        "colab": {
          "base_uri": "https://localhost:8080/",
          "height": 34
        },
        "outputId": "b7fe90dc-d212-4df4-eaa7-8771bd087d96"
      },
      "source": [
        "'This is a string.'.upper()"
      ],
      "execution_count": 46,
      "outputs": [
        {
          "output_type": "execute_result",
          "data": {
            "text/plain": [
              "'THIS IS A STRING.'"
            ]
          },
          "metadata": {
            "tags": []
          },
          "execution_count": 46
        }
      ]
    },
    {
      "cell_type": "markdown",
      "metadata": {
        "id": "SMtZN-9pOoGS",
        "colab_type": "text"
      },
      "source": [
        "There are many, many functions and methods that can be applied to strings. As such, we will not go through all of them.\n",
        "\n",
        "However, it is important to know how to find a function or method when you need it. You can usually find them by searching Google. For example, to find the method or function which converts a string to all lowercase, you can search Google with something like \"python string lowercase\"."
      ]
    },
    {
      "cell_type": "markdown",
      "metadata": {
        "id": "OKFzuLxwQEDp",
        "colab_type": "text"
      },
      "source": [
        "<b>Exercise 3.</b> Use functions or methods to perform the desired operations on the following strings."
      ]
    },
    {
      "cell_type": "code",
      "metadata": {
        "id": "WFY-Xx3dQDRe",
        "colab_type": "code",
        "colab": {
          "base_uri": "https://localhost:8080/",
          "height": 34
        },
        "outputId": "0acdb2ea-39c4-4520-a790-7d2ecd7c222d"
      },
      "source": [
        "'This should look like shouting.' # convert this string to uppercase"
      ],
      "execution_count": 47,
      "outputs": [
        {
          "output_type": "execute_result",
          "data": {
            "text/plain": [
              "'This should look like shouting.'"
            ]
          },
          "metadata": {
            "tags": []
          },
          "execution_count": 47
        }
      ]
    },
    {
      "cell_type": "code",
      "metadata": {
        "id": "rEvV7DWJOnMP",
        "colab_type": "code",
        "colab": {
          "base_uri": "https://localhost:8080/",
          "height": 34
        },
        "outputId": "246f5e67-2736-4d93-ad4a-802fd1902a8d"
      },
      "source": [
        "'         This should have no spaces at the beginning nor the end.             ' # remove spaces from the beginning and end of the string"
      ],
      "execution_count": 48,
      "outputs": [
        {
          "output_type": "execute_result",
          "data": {
            "text/plain": [
              "'         This should have no spaces at the beginning nor the end.             '"
            ]
          },
          "metadata": {
            "tags": []
          },
          "execution_count": 48
        }
      ]
    },
    {
      "cell_type": "markdown",
      "metadata": {
        "id": "w8ctRJ4IusDO",
        "colab_type": "text"
      },
      "source": [
        "##Ints/Floats\n",
        "\n",
        "Operations on ints and floats follow the rules of mathematics.\n",
        "\n",
        "Floats and ints are very similar -- the only difference is that floats have decimal parts, while ints do not."
      ]
    },
    {
      "cell_type": "code",
      "metadata": {
        "id": "fa39QS7O4fL7",
        "colab_type": "code",
        "colab": {
          "base_uri": "https://localhost:8080/",
          "height": 34
        },
        "outputId": "2ab100eb-d3ab-4824-f38b-65754d5f68ee"
      },
      "source": [
        "2+3"
      ],
      "execution_count": 49,
      "outputs": [
        {
          "output_type": "execute_result",
          "data": {
            "text/plain": [
              "5"
            ]
          },
          "metadata": {
            "tags": []
          },
          "execution_count": 49
        }
      ]
    },
    {
      "cell_type": "code",
      "metadata": {
        "id": "Qytlt0jz4qwb",
        "colab_type": "code",
        "colab": {
          "base_uri": "https://localhost:8080/",
          "height": 34
        },
        "outputId": "8ed4718f-7d1d-45f9-a379-e28d6139cf80"
      },
      "source": [
        "4-3"
      ],
      "execution_count": 3,
      "outputs": [
        {
          "output_type": "execute_result",
          "data": {
            "text/plain": [
              "1"
            ]
          },
          "metadata": {
            "tags": []
          },
          "execution_count": 3
        }
      ]
    },
    {
      "cell_type": "code",
      "metadata": {
        "id": "G2XSZl_d4tog",
        "colab_type": "code",
        "colab": {
          "base_uri": "https://localhost:8080/",
          "height": 34
        },
        "outputId": "07cc7ba1-7368-41cd-dfae-5f8ad3a72cf9"
      },
      "source": [
        "6*2"
      ],
      "execution_count": 52,
      "outputs": [
        {
          "output_type": "execute_result",
          "data": {
            "text/plain": [
              "12"
            ]
          },
          "metadata": {
            "tags": []
          },
          "execution_count": 52
        }
      ]
    },
    {
      "cell_type": "code",
      "metadata": {
        "id": "LyhfbKM55FVl",
        "colab_type": "code",
        "colab": {
          "base_uri": "https://localhost:8080/",
          "height": 34
        },
        "outputId": "cfae4fc0-3f71-4490-a805-0bed01deeccd"
      },
      "source": [
        "-4/8"
      ],
      "execution_count": 57,
      "outputs": [
        {
          "output_type": "execute_result",
          "data": {
            "text/plain": [
              "-0.5"
            ]
          },
          "metadata": {
            "tags": []
          },
          "execution_count": 57
        }
      ]
    },
    {
      "cell_type": "markdown",
      "metadata": {
        "id": "z4P1jNFV5LvV",
        "colab_type": "text"
      },
      "source": [
        "<b>Caution:</b> In Python, the carrot symbol does not mean exponentiation. If you use the carrot symbol for exponentiation, then your result will probably be incorrect."
      ]
    },
    {
      "cell_type": "code",
      "metadata": {
        "id": "1trNQten42Zd",
        "colab_type": "code",
        "colab": {
          "base_uri": "https://localhost:8080/",
          "height": 34
        },
        "outputId": "40493b6f-4dba-400e-efba-742e6fb1721e"
      },
      "source": [
        "2^3 # 2 to the power of 3 should be 8..."
      ],
      "execution_count": 56,
      "outputs": [
        {
          "output_type": "execute_result",
          "data": {
            "text/plain": [
              "1"
            ]
          },
          "metadata": {
            "tags": []
          },
          "execution_count": 56
        }
      ]
    },
    {
      "cell_type": "markdown",
      "metadata": {
        "id": "cN-aXOOw5e00",
        "colab_type": "text"
      },
      "source": [
        "The way to do exponentiation in Python is to use two multiplication symbols in a row."
      ]
    },
    {
      "cell_type": "code",
      "metadata": {
        "id": "qVf6xo2Y5jpi",
        "colab_type": "code",
        "colab": {
          "base_uri": "https://localhost:8080/",
          "height": 34
        },
        "outputId": "a0c48a49-cf6e-4d81-eeca-df14c630927e"
      },
      "source": [
        "2**3 # this actually means 2 to the power of 3"
      ],
      "execution_count": 58,
      "outputs": [
        {
          "output_type": "execute_result",
          "data": {
            "text/plain": [
              "8"
            ]
          },
          "metadata": {
            "tags": []
          },
          "execution_count": 58
        }
      ]
    },
    {
      "cell_type": "markdown",
      "metadata": {
        "id": "mGaTwyZV6kUU",
        "colab_type": "text"
      },
      "source": [
        "Floats and ints can be assigned to variables and modified through operations on those variables."
      ]
    },
    {
      "cell_type": "code",
      "metadata": {
        "id": "K4j1TEAB6oU_",
        "colab_type": "code",
        "colab": {
          "base_uri": "https://localhost:8080/",
          "height": 34
        },
        "outputId": "9f67a07c-1c8d-4206-9aa5-205e2c277634"
      },
      "source": [
        "a=1\n",
        "a=a+2\n",
        "print(a)"
      ],
      "execution_count": 60,
      "outputs": [
        {
          "output_type": "stream",
          "text": [
            "3\n"
          ],
          "name": "stdout"
        }
      ]
    },
    {
      "cell_type": "code",
      "metadata": {
        "id": "hg7VJ95b6u9r",
        "colab_type": "code",
        "colab": {
          "base_uri": "https://localhost:8080/",
          "height": 34
        },
        "outputId": "c28c13f1-e554-4186-880f-06a0244cb332"
      },
      "source": [
        "a=10\n",
        "b=5.2\n",
        "c= (b-1)*a\n",
        "print(c)"
      ],
      "execution_count": 5,
      "outputs": [
        {
          "output_type": "stream",
          "text": [
            "42.0\n"
          ],
          "name": "stdout"
        }
      ]
    },
    {
      "cell_type": "markdown",
      "metadata": {
        "id": "nRTraLYK8jvG",
        "colab_type": "text"
      },
      "source": [
        "<b>Caution:</b> Floats are sometimes rounded because the computer can only store a finite number of digits. As a result, operations with floats can be slightly inaccurate due to roundoff error.\n",
        "\n",
        "In practice, this often won't pose a problem, since the roundoff error is so small."
      ]
    },
    {
      "cell_type": "code",
      "metadata": {
        "id": "HRs6Vt3Q889D",
        "colab_type": "code",
        "outputId": "62ece2df-2c24-4d34-d385-a03d049ef208",
        "colab": {
          "base_uri": "https://localhost:8080/",
          "height": 34
        }
      },
      "source": [
        "4-3.2 # computer will store a value very close to the true value of 0.8"
      ],
      "execution_count": 0,
      "outputs": [
        {
          "output_type": "execute_result",
          "data": {
            "text/plain": [
              "0.7999999999999998"
            ]
          },
          "metadata": {
            "tags": []
          },
          "execution_count": 4
        }
      ]
    },
    {
      "cell_type": "markdown",
      "metadata": {
        "id": "Y0UGIPCE-jes",
        "colab_type": "text"
      },
      "source": [
        "However, we can run into serious issues if we try to work with extremely large numbers.\n",
        "\n",
        "Recall that $\\lim_{n \\to \\infty} \\left( 1+\\frac{1}{n} \\right)^n \\approx 2.7182...$\n",
        "\n",
        "If we approximate this limit using $n=10^6$, we get a sensible result."
      ]
    },
    {
      "cell_type": "code",
      "metadata": {
        "id": "y8yk9XOS-eZR",
        "colab_type": "code",
        "outputId": "27fc4bc2-bbc1-487a-c82a-bd9917c97fbc",
        "colab": {
          "base_uri": "https://localhost:8080/",
          "height": 34
        }
      },
      "source": [
        "n=10**6\n",
        "(1+1/n)**n"
      ],
      "execution_count": 0,
      "outputs": [
        {
          "output_type": "execute_result",
          "data": {
            "text/plain": [
              "2.7182804690957534"
            ]
          },
          "metadata": {
            "tags": []
          },
          "execution_count": 34
        }
      ]
    },
    {
      "cell_type": "markdown",
      "metadata": {
        "id": "rHWc5ADc_XPN",
        "colab_type": "text"
      },
      "source": [
        "However, if we approximate the limit using $n=10^{100}$, we get a nonsense result."
      ]
    },
    {
      "cell_type": "code",
      "metadata": {
        "id": "bMhqpVSt_nKp",
        "colab_type": "code",
        "outputId": "c1259e5c-89cb-4c92-a857-4c1718758362",
        "colab": {
          "base_uri": "https://localhost:8080/",
          "height": 34
        }
      },
      "source": [
        "n=10**100\n",
        "(1+1/n)**n"
      ],
      "execution_count": 0,
      "outputs": [
        {
          "output_type": "execute_result",
          "data": {
            "text/plain": [
              "1.0"
            ]
          },
          "metadata": {
            "tags": []
          },
          "execution_count": 35
        }
      ]
    },
    {
      "cell_type": "markdown",
      "metadata": {
        "id": "XmOGuG0b_rSX",
        "colab_type": "text"
      },
      "source": [
        "The reason why we get this result is that when `n` is extremely large, the `1/n` part is treated as `0` due to roundoff error. The inside of the parentheses is then treated as `1.0` exactly, and `1.0` raised to any power is still `1.0`."
      ]
    },
    {
      "cell_type": "code",
      "metadata": {
        "id": "EGceBxQHANdI",
        "colab_type": "code",
        "outputId": "44f6071f-bded-493b-e725-4a008cfaa482",
        "colab": {
          "base_uri": "https://localhost:8080/",
          "height": 34
        }
      },
      "source": [
        "n=10**6\n",
        "(1+1/n)"
      ],
      "execution_count": 0,
      "outputs": [
        {
          "output_type": "execute_result",
          "data": {
            "text/plain": [
              "1.000001"
            ]
          },
          "metadata": {
            "tags": []
          },
          "execution_count": 39
        }
      ]
    },
    {
      "cell_type": "code",
      "metadata": {
        "id": "QxrfzsF__1l0",
        "colab_type": "code",
        "outputId": "2a369de9-512f-478c-d674-5d6daac9445d",
        "colab": {
          "base_uri": "https://localhost:8080/",
          "height": 34
        }
      },
      "source": [
        "n=10**100\n",
        "(1+1/n)"
      ],
      "execution_count": 0,
      "outputs": [
        {
          "output_type": "execute_result",
          "data": {
            "text/plain": [
              "1.0"
            ]
          },
          "metadata": {
            "tags": []
          },
          "execution_count": 38
        }
      ]
    },
    {
      "cell_type": "markdown",
      "metadata": {
        "id": "vQLSs-n86XpI",
        "colab_type": "text"
      },
      "source": [
        "<b>Exercise 1.</b> In the cell below, write `c` as an expression of `a` and `b` so that `c` takes the value of 15. "
      ]
    },
    {
      "cell_type": "code",
      "metadata": {
        "id": "yLLvzHhI7RZV",
        "colab_type": "code",
        "colab": {
          "base_uri": "https://localhost:8080/",
          "height": 34
        },
        "outputId": "d48c71a9-7f93-48d7-c58b-11a9c3c8ea88"
      },
      "source": [
        "a=3\n",
        "b=2.5\n",
        "c=a-b\n",
        "print(c)"
      ],
      "execution_count": 6,
      "outputs": [
        {
          "output_type": "stream",
          "text": [
            "0.5\n"
          ],
          "name": "stdout"
        }
      ]
    },
    {
      "cell_type": "code",
      "metadata": {
        "id": "Jf_jxQ3b9sYD",
        "colab_type": "code",
        "colab": {
          "base_uri": "https://localhost:8080/",
          "height": 34
        },
        "outputId": "583f4792-3f5a-457d-e537-70a4069d43de"
      },
      "source": [
        "a=10**10\n",
        "(1+1/a)**a"
      ],
      "execution_count": 30,
      "outputs": [
        {
          "output_type": "execute_result",
          "data": {
            "text/plain": [
              "2.7182820532347876"
            ]
          },
          "metadata": {
            "tags": []
          },
          "execution_count": 30
        }
      ]
    },
    {
      "cell_type": "code",
      "metadata": {
        "id": "_Ll8xBX29eXW",
        "colab_type": "code",
        "colab": {
          "base_uri": "https://localhost:8080/",
          "height": 34
        },
        "outputId": "6c711c57-57f0-4c7d-c4ba-7ff46ce31b2f"
      },
      "source": [
        "a=10**10\n",
        "(1+1/a)**a"
      ],
      "execution_count": 11,
      "outputs": [
        {
          "output_type": "execute_result",
          "data": {
            "text/plain": [
              "2.7182820532347876"
            ]
          },
          "metadata": {
            "tags": []
          },
          "execution_count": 11
        }
      ]
    },
    {
      "cell_type": "markdown",
      "metadata": {
        "id": "4svqPlS9uxc7",
        "colab_type": "text"
      },
      "source": [
        "##Booleans\n",
        "asdf"
      ]
    }
  ]
}