{
  "nbformat": 4,
  "nbformat_minor": 0,
  "metadata": {
    "colab": {
      "name": "codingBootcamp_ifWhileFor.ipynb",
      "version": "0.3.2",
      "provenance": [],
      "collapsed_sections": [],
      "toc_visible": true,
      "include_colab_link": true
    },
    "kernelspec": {
      "name": "python3",
      "display_name": "Python 3"
    }
  },
  "cells": [
    {
      "cell_type": "markdown",
      "metadata": {
        "id": "view-in-github",
        "colab_type": "text"
      },
      "source": [
        "<a href=\"https://colab.research.google.com/github/jpskycak/aihigh/blob/master/intro-to-ai/codingBootcamp_ifWhileFor.ipynb\" target=\"_parent\"><img src=\"https://colab.research.google.com/assets/colab-badge.svg\" alt=\"Open In Colab\"/></a>"
      ]
    },
    {
      "cell_type": "markdown",
      "metadata": {
        "id": "D7c3mb1OQ3CN",
        "colab_type": "text"
      },
      "source": [
        "#Setup\n",
        "\n",
        "In order to run the notebook,\n",
        "\n",
        "1. sign into your Google account (top-right) and\n",
        "2. make a copy of the notebook in your Google Drive by pressing the <img src=\"https://i.imgur.com/chlzY9P.png\" alt=\"Drawing\" width=\"100\"/> button in the upper-left menu."
      ]
    },
    {
      "cell_type": "markdown",
      "metadata": {
        "id": "ZGkyQmniPrwy",
        "colab_type": "text"
      },
      "source": [
        "#If, While, and For\n",
        "\n",
        "When programming, we often wish to tell the computer instructions such as:\n",
        "<ul>\n",
        "  <li><b>If</b> thing X happens, then do thing Y.</li>\n",
        "  <li><b>While</b> thing X is true, do thing Y.</li>\n",
        "  <li><b>For</b> each item in collection X, do thing Y.</li>\n",
        "</ul>\n",
        "\n",
        "And we can, using these words (if, while, and for) exactly!"
      ]
    },
    {
      "cell_type": "markdown",
      "metadata": {
        "colab_type": "text",
        "id": "OkZxxShdi8rS"
      },
      "source": [
        "#If\n",
        "\n",
        "An `if` statement involves first checking whether some value is true, and if it is, then running some code indented below the `if` statement.\n",
        "\n",
        "Otherwise, if the value is false, the indented code is not executed.\n"
      ]
    },
    {
      "cell_type": "code",
      "metadata": {
        "id": "6T1OXBtHrtdP",
        "colab_type": "code",
        "colab": {
          "base_uri": "https://localhost:8080/",
          "height": 34
        },
        "outputId": "f951c266-561e-4f25-daf0-4a0979692f0c"
      },
      "source": [
        "X = True\n",
        "if X:\n",
        "  print('This will only print if X is True.')"
      ],
      "execution_count": 6,
      "outputs": [
        {
          "output_type": "stream",
          "text": [
            "This will only print if X is true.\n"
          ],
          "name": "stdout"
        }
      ]
    },
    {
      "cell_type": "code",
      "metadata": {
        "id": "FMp_djZsr4Cn",
        "colab_type": "code",
        "colab": {}
      },
      "source": [
        "X = False\n",
        "if X:\n",
        "  print('This will only print if X is True.')"
      ],
      "execution_count": 0,
      "outputs": []
    },
    {
      "cell_type": "markdown",
      "metadata": {
        "id": "itW505Qavbgy",
        "colab_type": "text"
      },
      "source": [
        "The value checked by the if statement can also be an expression, as long as it ultimately evaluates to a boolean True/False value."
      ]
    },
    {
      "cell_type": "code",
      "metadata": {
        "id": "fRLM3Z7SvlJm",
        "colab_type": "code",
        "colab": {
          "base_uri": "https://localhost:8080/",
          "height": 34
        },
        "outputId": "fa38cfea-2e14-49ad-ad50-2bc15ff90ab5"
      },
      "source": [
        "X = 5\n",
        "if X>3: # true because 5 > 3\n",
        "  print('This will only print if X is greater than 3')"
      ],
      "execution_count": 9,
      "outputs": [
        {
          "output_type": "stream",
          "text": [
            "This will only print if X is greater than 3\n"
          ],
          "name": "stdout"
        }
      ]
    },
    {
      "cell_type": "code",
      "metadata": {
        "id": "Dd6QttBqvzyU",
        "colab_type": "code",
        "colab": {}
      },
      "source": [
        "X = 1\n",
        "if X>3: # false because 1 is not > 3\n",
        "  print('This will only print if X is greater than 3')"
      ],
      "execution_count": 0,
      "outputs": []
    },
    {
      "cell_type": "markdown",
      "metadata": {
        "id": "PHaf4qlUu8PY",
        "colab_type": "text"
      },
      "source": [
        "`If` statements can also be nested within each other."
      ]
    },
    {
      "cell_type": "code",
      "metadata": {
        "id": "NYmQ8kdJu_0l",
        "colab_type": "code",
        "colab": {
          "base_uri": "https://localhost:8080/",
          "height": 50
        },
        "outputId": "bf523abd-c8ba-48d7-c4f2-7cbe729f5bcf"
      },
      "source": [
        "A = 3\n",
        "B = 2\n",
        "if A > 0: # true because 3 > 0\n",
        "  print('This will only print if A is greater than 0.')\n",
        "  if A+B > 0: # true because 3+2=5 > 0\n",
        "    print('This will only print if both A is greater than 0, and A+B is also greater than 0.')"
      ],
      "execution_count": 11,
      "outputs": [
        {
          "output_type": "stream",
          "text": [
            "This will only print if A is greater than 0.\n",
            "This will only print if both A is greater than 0, and A+B is also greater than 0.\n"
          ],
          "name": "stdout"
        }
      ]
    },
    {
      "cell_type": "code",
      "metadata": {
        "id": "UsyrLSAWwTji",
        "colab_type": "code",
        "colab": {
          "base_uri": "https://localhost:8080/",
          "height": 34
        },
        "outputId": "dccf2cfa-0a65-40a4-fb77-3bae3b01785e"
      },
      "source": [
        "A = 3\n",
        "B = -5\n",
        "if A > 0: # true because 3 > 0\n",
        "  print('This will only print if A is greater than 0.')\n",
        "  if A+B > 0: # false because 3-5 = -2 is not > 0\n",
        "    print('This will only print if both A is greater than 0, and A+B is also greater than 0.')"
      ],
      "execution_count": 12,
      "outputs": [
        {
          "output_type": "stream",
          "text": [
            "This will only print if A is greater than 0.\n"
          ],
          "name": "stdout"
        }
      ]
    },
    {
      "cell_type": "code",
      "metadata": {
        "id": "lzAggy_fw9Az",
        "colab_type": "code",
        "colab": {}
      },
      "source": [
        "A = -2\n",
        "B = 4\n",
        "if A > 0: # false because -2 is not > 0\n",
        "  print('This will only print if A is greater than 0.')\n",
        "  if A+B > 0: # true because -2+4 = 2 > 0\n",
        "    print('This will only print if both A is greater than 0, and A+B is also greater than 0.')"
      ],
      "execution_count": 0,
      "outputs": []
    },
    {
      "cell_type": "markdown",
      "metadata": {
        "id": "8fVWf8WO3H9c",
        "colab_type": "text"
      },
      "source": [
        "<b>Exercise 1.</b> Change the values of the variables `A`, `B`, `C`, and `D` so that `'Success'` prints to the screen."
      ]
    },
    {
      "cell_type": "code",
      "metadata": {
        "id": "AKq-_pM53Nvi",
        "colab_type": "code",
        "colab": {}
      },
      "source": [
        "A = 1\n",
        "B = 2\n",
        "C = 3\n",
        "D = 0\n",
        "\n",
        "if A<0:\n",
        "  if A+B == 5:\n",
        "    if C*D != 0:\n",
        "      print('Success')"
      ],
      "execution_count": 0,
      "outputs": []
    },
    {
      "cell_type": "markdown",
      "metadata": {
        "id": "2xv3y8wd4tmI",
        "colab_type": "text"
      },
      "source": [
        "`If` statements can include an `else` afterward, containing code which is executed if the value checked by the `if` turns out to be `False`."
      ]
    },
    {
      "cell_type": "code",
      "metadata": {
        "id": "X5_dEC5Y5Cew",
        "colab_type": "code",
        "colab": {
          "base_uri": "https://localhost:8080/",
          "height": 34
        },
        "outputId": "0f5416f0-55dd-40aa-d94c-7eb1c49b22ad"
      },
      "source": [
        "X = False\n",
        "if X:\n",
        "  print(\"'if' code was executed because X was True.\")\n",
        "else:\n",
        "  print(\"'else' code was executed because X was NOT True.\")"
      ],
      "execution_count": 16,
      "outputs": [
        {
          "output_type": "stream",
          "text": [
            "'else' code was executed because X was NOT True.\n"
          ],
          "name": "stdout"
        }
      ]
    },
    {
      "cell_type": "markdown",
      "metadata": {
        "id": "p56Fn51R--DT",
        "colab_type": "text"
      },
      "source": [
        "<b>Exercise 2.</b> Change the values of the variables `A`, `B`, `C`, and `D` so that `'Success'` prints to the screen."
      ]
    },
    {
      "cell_type": "code",
      "metadata": {
        "colab_type": "code",
        "id": "PuXXDG2J_Ijo",
        "colab": {}
      },
      "source": [
        "A = 1\n",
        "B = 2\n",
        "C = 3\n",
        "D = 4\n",
        "\n",
        "if A+B >= 0:\n",
        "  pass # \"pass\" just means to do nothing if it is executed\n",
        "else:\n",
        "  if C+D <= 10:\n",
        "    pass\n",
        "  else:\n",
        "    print('Success')"
      ],
      "execution_count": 0,
      "outputs": []
    },
    {
      "cell_type": "markdown",
      "metadata": {
        "id": "AgCpKYRUABkO",
        "colab_type": "text"
      },
      "source": [
        "#While\n",
        "\n",
        "Like an `if` statement, a `while` loop involves first checking whether some value is true, and if it is, then running some code indented below the `while`.\n",
        "\n",
        "However, whereas an `if` statement just runs the code a single time, the `while` loop continues to run the code until the checked value becomes `False`.\n"
      ]
    },
    {
      "cell_type": "markdown",
      "metadata": {
        "id": "spfw59xWCL5I",
        "colab_type": "text"
      },
      "source": [
        "For example, the `while` loop below increases the variable `counter` each time it runs.\n",
        "\n",
        "Initially, `counter` is set to `0`, so the condition `counter < 3` is initially true.\n",
        "\n",
        "However, after a few iterations, the counter's value reaches `3`, at which point the condition `counter < 3` is no longer true and the `while` loop stops running."
      ]
    },
    {
      "cell_type": "code",
      "metadata": {
        "id": "EVY0XHu7_-2y",
        "colab_type": "code",
        "colab": {
          "base_uri": "https://localhost:8080/",
          "height": 67
        },
        "outputId": "a20201a8-fb80-488f-cb92-0e4ced349493"
      },
      "source": [
        "counter = 0\n",
        "while counter < 3:\n",
        "  print('while loop executes with counter =',counter)\n",
        "  counter = counter + 1"
      ],
      "execution_count": 25,
      "outputs": [
        {
          "output_type": "stream",
          "text": [
            "while loop executes with counter = 0\n",
            "while loop executes with counter = 1\n",
            "while loop executes with counter = 2\n"
          ],
          "name": "stdout"
        }
      ]
    },
    {
      "cell_type": "markdown",
      "metadata": {
        "id": "LdrmIGV4Fxsd",
        "colab_type": "text"
      },
      "source": [
        "<b>Exercise 1.</b> Change the condition in the while loop below so that the output list has 5 entries."
      ]
    },
    {
      "cell_type": "code",
      "metadata": {
        "id": "hKgAlIqlsFIk",
        "colab_type": "code",
        "colab": {
          "base_uri": "https://localhost:8080/",
          "height": 34
        },
        "outputId": "56906592-e469-4302-838f-c5c0487fa03a"
      },
      "source": [
        "counter = 0\n",
        "my_list = []\n",
        "while counter < 5: # change this condition so that the output list has 5 entries\n",
        "  if counter > 3:\n",
        "    my_list = my_list + [3*counter/8]\n",
        "  counter = counter + 1\n",
        "my_list"
      ],
      "execution_count": 33,
      "outputs": [
        {
          "output_type": "execute_result",
          "data": {
            "text/plain": [
              "[1.5]"
            ]
          },
          "metadata": {
            "tags": []
          },
          "execution_count": 33
        }
      ]
    },
    {
      "cell_type": "markdown",
      "metadata": {
        "id": "A4Ha_82FNAtW",
        "colab_type": "text"
      },
      "source": [
        "break"
      ]
    },
    {
      "cell_type": "code",
      "metadata": {
        "id": "uqYfJSrZNLCW",
        "colab_type": "code",
        "colab": {}
      },
      "source": [
        ""
      ],
      "execution_count": 0,
      "outputs": []
    },
    {
      "cell_type": "markdown",
      "metadata": {
        "id": "opy2P1TxNJ7N",
        "colab_type": "text"
      },
      "source": [
        ""
      ]
    },
    {
      "cell_type": "markdown",
      "metadata": {
        "id": "19rpXDOELojw",
        "colab_type": "text"
      },
      "source": [
        "#For\n",
        "\n",
        "A `for` loop runs some indented code for each item in a list.\n"
      ]
    },
    {
      "cell_type": "code",
      "metadata": {
        "id": "uGeQflLaKrm_",
        "colab_type": "code",
        "colab": {
          "base_uri": "https://localhost:8080/",
          "height": 67
        },
        "outputId": "69684355-59b4-458b-cc6e-72edef9f157b"
      },
      "source": [
        "for item in [1,2,3]:\n",
        "  print(item)"
      ],
      "execution_count": 34,
      "outputs": [
        {
          "output_type": "stream",
          "text": [
            "1\n",
            "2\n",
            "3\n"
          ],
          "name": "stdout"
        }
      ]
    },
    {
      "cell_type": "markdown",
      "metadata": {
        "id": "T--hiMISMYC4",
        "colab_type": "text"
      },
      "source": [
        "`For` loops can also be used to build other lists."
      ]
    },
    {
      "cell_type": "code",
      "metadata": {
        "id": "I3B6ddrxL8V-",
        "colab_type": "code",
        "colab": {
          "base_uri": "https://localhost:8080/",
          "height": 34
        },
        "outputId": "04d56323-9314-4774-d30a-b40919095929"
      },
      "source": [
        "my_list = []\n",
        "for item in [1,2,3]:\n",
        "  my_list += [2*item]\n",
        "my_list"
      ],
      "execution_count": 35,
      "outputs": [
        {
          "output_type": "execute_result",
          "data": {
            "text/plain": [
              "[2, 4, 6]"
            ]
          },
          "metadata": {
            "tags": []
          },
          "execution_count": 35
        }
      ]
    },
    {
      "cell_type": "markdown",
      "metadata": {
        "id": "EFeEl58LMpbD",
        "colab_type": "text"
      },
      "source": [
        "We can even include a `for` loop within a list to build it in a single line of code."
      ]
    },
    {
      "cell_type": "code",
      "metadata": {
        "id": "17v1SiDhMm8t",
        "colab_type": "code",
        "colab": {
          "base_uri": "https://localhost:8080/",
          "height": 34
        },
        "outputId": "00572d36-22b6-4603-d52b-90f52b434964"
      },
      "source": [
        "[2*item for item in [1,2,3]]"
      ],
      "execution_count": 36,
      "outputs": [
        {
          "output_type": "execute_result",
          "data": {
            "text/plain": [
              "[2, 4, 6]"
            ]
          },
          "metadata": {
            "tags": []
          },
          "execution_count": 36
        }
      ]
    },
    {
      "cell_type": "code",
      "metadata": {
        "id": "utS8dz0_MxOC",
        "colab_type": "code",
        "colab": {}
      },
      "source": [
        ""
      ],
      "execution_count": 0,
      "outputs": []
    },
    {
      "cell_type": "markdown",
      "metadata": {
        "id": "tVT7cmb_NDzO",
        "colab_type": "text"
      },
      "source": [
        "break"
      ]
    },
    {
      "cell_type": "code",
      "metadata": {
        "id": "7Q4E4fiZNEQt",
        "colab_type": "code",
        "colab": {}
      },
      "source": [
        ""
      ],
      "execution_count": 0,
      "outputs": []
    }
  ]
}