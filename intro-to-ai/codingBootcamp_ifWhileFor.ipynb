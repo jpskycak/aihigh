{
  "nbformat": 4,
  "nbformat_minor": 0,
  "metadata": {
    "colab": {
      "name": "codingBootcamp_ifWhileFor.ipynb",
      "version": "0.3.2",
      "provenance": [],
      "collapsed_sections": [],
      "toc_visible": true,
      "include_colab_link": true
    },
    "kernelspec": {
      "name": "python3",
      "display_name": "Python 3"
    }
  },
  "cells": [
    {
      "cell_type": "markdown",
      "metadata": {
        "id": "view-in-github",
        "colab_type": "text"
      },
      "source": [
        "<a href=\"https://colab.research.google.com/github/jpskycak/aihigh/blob/master/intro-to-ai/codingBootcamp_ifWhileFor.ipynb\" target=\"_parent\"><img src=\"https://colab.research.google.com/assets/colab-badge.svg\" alt=\"Open In Colab\"/></a>"
      ]
    },
    {
      "cell_type": "markdown",
      "metadata": {
        "id": "D7c3mb1OQ3CN",
        "colab_type": "text"
      },
      "source": [
        "#Setup\n",
        "\n",
        "In order to run the notebook,\n",
        "\n",
        "1. sign into your Google account (top-right) and\n",
        "2. make a copy of the notebook in your Google Drive by pressing the <img src=\"https://i.imgur.com/chlzY9P.png\" alt=\"Drawing\" width=\"100\"/> button in the upper-left menu."
      ]
    },
    {
      "cell_type": "markdown",
      "metadata": {
        "id": "ZGkyQmniPrwy",
        "colab_type": "text"
      },
      "source": [
        "---\n",
        "\n",
        "#If, While, and For\n",
        "\n",
        "When programming, we often wish to tell the computer instructions such as:\n",
        "<ul>\n",
        "  <li><b>If</b> thing X happens, then do thing Y.</li>\n",
        "  <li><b>While</b> thing X is true, do thing Y.</li>\n",
        "  <li><b>For</b> each item in collection X, do thing Y.</li>\n",
        "</ul>\n",
        "\n",
        "And we can, using these words (if, while, and for) exactly!"
      ]
    },
    {
      "cell_type": "markdown",
      "metadata": {
        "colab_type": "text",
        "id": "OkZxxShdi8rS"
      },
      "source": [
        "---\n",
        "\n",
        "##If\n",
        "\n",
        "An `if` statement involves first checking whether some value is true, and if it is, then running some code indented below the `if` statement.\n",
        "\n",
        "Otherwise, if the value is false, the indented code is not executed.\n"
      ]
    },
    {
      "cell_type": "code",
      "metadata": {
        "id": "6T1OXBtHrtdP",
        "colab_type": "code",
        "outputId": "b68494d1-5014-4327-9aef-8b87e41691e7",
        "colab": {
          "base_uri": "https://localhost:8080/",
          "height": 34
        }
      },
      "source": [
        "X = True\n",
        "if X:\n",
        "  print('This will only print if X is True.')"
      ],
      "execution_count": 0,
      "outputs": [
        {
          "output_type": "stream",
          "text": [
            "This will only print if X is True.\n"
          ],
          "name": "stdout"
        }
      ]
    },
    {
      "cell_type": "code",
      "metadata": {
        "id": "FMp_djZsr4Cn",
        "colab_type": "code",
        "colab": {}
      },
      "source": [
        "X = False\n",
        "if X:\n",
        "  print('This will only print if X is True.')"
      ],
      "execution_count": 0,
      "outputs": []
    },
    {
      "cell_type": "markdown",
      "metadata": {
        "id": "itW505Qavbgy",
        "colab_type": "text"
      },
      "source": [
        "The value checked by the if statement can also be an expression, as long as it ultimately evaluates to a boolean True/False value."
      ]
    },
    {
      "cell_type": "code",
      "metadata": {
        "id": "fRLM3Z7SvlJm",
        "colab_type": "code",
        "outputId": "e4f30fdc-4490-4374-923a-4dbeff1f57cc",
        "colab": {
          "base_uri": "https://localhost:8080/",
          "height": 34
        }
      },
      "source": [
        "X = 5\n",
        "if X>3: # true because 5 > 3\n",
        "  print('This will only print if X is greater than 3')"
      ],
      "execution_count": 0,
      "outputs": [
        {
          "output_type": "stream",
          "text": [
            "This will only print if X is greater than 3\n"
          ],
          "name": "stdout"
        }
      ]
    },
    {
      "cell_type": "code",
      "metadata": {
        "id": "Dd6QttBqvzyU",
        "colab_type": "code",
        "colab": {}
      },
      "source": [
        "X = 1\n",
        "if X>3: # false because 1 is not > 3\n",
        "  print('This will only print if X is greater than 3')"
      ],
      "execution_count": 0,
      "outputs": []
    },
    {
      "cell_type": "markdown",
      "metadata": {
        "id": "PHaf4qlUu8PY",
        "colab_type": "text"
      },
      "source": [
        "`If` statements can also be nested within each other."
      ]
    },
    {
      "cell_type": "code",
      "metadata": {
        "id": "NYmQ8kdJu_0l",
        "colab_type": "code",
        "outputId": "aca64beb-0380-4357-ac3b-0e7d2715497a",
        "colab": {
          "base_uri": "https://localhost:8080/",
          "height": 50
        }
      },
      "source": [
        "A = 3\n",
        "B = 2\n",
        "if A > 0: # true because 3 > 0\n",
        "  print('This will only print if A is greater than 0.')\n",
        "  if A+B > 0: # true because 3+2=5 > 0\n",
        "    print('This will only print if both A is greater than 0, and A+B is also greater than 0.')"
      ],
      "execution_count": 0,
      "outputs": [
        {
          "output_type": "stream",
          "text": [
            "This will only print if A is greater than 0.\n",
            "This will only print if both A is greater than 0, and A+B is also greater than 0.\n"
          ],
          "name": "stdout"
        }
      ]
    },
    {
      "cell_type": "code",
      "metadata": {
        "id": "UsyrLSAWwTji",
        "colab_type": "code",
        "outputId": "9744f3ed-3af7-4a00-9998-74b67425c568",
        "colab": {
          "base_uri": "https://localhost:8080/",
          "height": 34
        }
      },
      "source": [
        "A = 3\n",
        "B = -5\n",
        "if A > 0: # true because 3 > 0\n",
        "  print('This will only print if A is greater than 0.')\n",
        "  if A+B > 0: # false because 3-5 = -2 is not > 0\n",
        "    print('This will only print if both A is greater than 0, and A+B is also greater than 0.')"
      ],
      "execution_count": 0,
      "outputs": [
        {
          "output_type": "stream",
          "text": [
            "This will only print if A is greater than 0.\n"
          ],
          "name": "stdout"
        }
      ]
    },
    {
      "cell_type": "code",
      "metadata": {
        "id": "lzAggy_fw9Az",
        "colab_type": "code",
        "colab": {}
      },
      "source": [
        "A = -2\n",
        "B = 4\n",
        "if A > 0: # false because -2 is not > 0\n",
        "  print('This will only print if A is greater than 0.')\n",
        "  if A+B > 0: # true because -2+4 = 2 > 0\n",
        "    print('This will only print if both A is greater than 0, and A+B is also greater than 0.')"
      ],
      "execution_count": 0,
      "outputs": []
    },
    {
      "cell_type": "markdown",
      "metadata": {
        "id": "8fVWf8WO3H9c",
        "colab_type": "text"
      },
      "source": [
        "---\n",
        "\n",
        "### Exercise 1\n",
        "\n",
        "Change the values of the variables `A`, `B`, `C`, and `D` so that `'Success'` prints to the screen."
      ]
    },
    {
      "cell_type": "code",
      "metadata": {
        "id": "AKq-_pM53Nvi",
        "colab_type": "code",
        "colab": {}
      },
      "source": [
        "A = 1\n",
        "B = 2\n",
        "C = 3\n",
        "D = 0\n",
        "\n",
        "if A<0:\n",
        "  if A+B == 5:\n",
        "    if C*D != 0:\n",
        "      print('Success')"
      ],
      "execution_count": 0,
      "outputs": []
    },
    {
      "cell_type": "markdown",
      "metadata": {
        "id": "2xv3y8wd4tmI",
        "colab_type": "text"
      },
      "source": [
        "---\n",
        "\n",
        "`If` statements can include an `else` afterward, containing code which is executed if the value checked by the `if` turns out to be `False`."
      ]
    },
    {
      "cell_type": "code",
      "metadata": {
        "id": "X5_dEC5Y5Cew",
        "colab_type": "code",
        "outputId": "e7eac67a-2639-4b61-dabd-c0f902cb6e3f",
        "colab": {
          "base_uri": "https://localhost:8080/",
          "height": 34
        }
      },
      "source": [
        "X = False\n",
        "if X:\n",
        "  print(\"'if' code was executed because X was True.\")\n",
        "else:\n",
        "  print(\"'else' code was executed because X was NOT True.\")"
      ],
      "execution_count": 0,
      "outputs": [
        {
          "output_type": "stream",
          "text": [
            "'else' code was executed because X was NOT True.\n"
          ],
          "name": "stdout"
        }
      ]
    },
    {
      "cell_type": "markdown",
      "metadata": {
        "id": "p56Fn51R--DT",
        "colab_type": "text"
      },
      "source": [
        "---\n",
        "\n",
        "### Exercise 2\n",
        "\n",
        "Change the values of the variables `A`, `B`, `C`, and `D` so that `'Success'` prints to the screen."
      ]
    },
    {
      "cell_type": "code",
      "metadata": {
        "colab_type": "code",
        "id": "PuXXDG2J_Ijo",
        "colab": {}
      },
      "source": [
        "A = 1\n",
        "B = 2\n",
        "C = 3\n",
        "D = 4\n",
        "\n",
        "if A+B >= 0:\n",
        "  pass # \"pass\" just means to do nothing if it is executed\n",
        "else:\n",
        "  if C+D <= 10:\n",
        "    pass\n",
        "  else:\n",
        "    print('Success')"
      ],
      "execution_count": 0,
      "outputs": []
    },
    {
      "cell_type": "markdown",
      "metadata": {
        "id": "AgCpKYRUABkO",
        "colab_type": "text"
      },
      "source": [
        "---\n",
        "\n",
        "##While\n",
        "\n",
        "Like an `if` statement, a `while` loop involves first checking whether some value is true, and if it is, then running some code indented below the `while`.\n",
        "\n",
        "However, whereas an `if` statement just runs the code a single time, the `while` loop continues to run the code until the checked value becomes `False`.\n"
      ]
    },
    {
      "cell_type": "markdown",
      "metadata": {
        "id": "spfw59xWCL5I",
        "colab_type": "text"
      },
      "source": [
        "For example, the `while` loop below increases the variable `counter` each time it runs.\n",
        "\n",
        "Initially, `counter` is set to `0`, so the condition `counter < 3` is initially true.\n",
        "\n",
        "However, after a few iterations, the counter's value reaches `3`, at which point the condition `counter < 3` is no longer true and the `while` loop stops running."
      ]
    },
    {
      "cell_type": "code",
      "metadata": {
        "id": "EVY0XHu7_-2y",
        "colab_type": "code",
        "outputId": "f1209381-2ee2-401d-9de0-d24138fbe5bb",
        "colab": {
          "base_uri": "https://localhost:8080/",
          "height": 67
        }
      },
      "source": [
        "counter = 0\n",
        "while counter < 3:\n",
        "  print('while loop executes with counter =',counter)\n",
        "  counter = counter + 1"
      ],
      "execution_count": 0,
      "outputs": [
        {
          "output_type": "stream",
          "text": [
            "while loop executes with counter = 0\n",
            "while loop executes with counter = 1\n",
            "while loop executes with counter = 2\n"
          ],
          "name": "stdout"
        }
      ]
    },
    {
      "cell_type": "markdown",
      "metadata": {
        "id": "LdrmIGV4Fxsd",
        "colab_type": "text"
      },
      "source": [
        "---\n",
        "\n",
        "### Exercise 3\n",
        "\n",
        "Change the condition in the while loop below so that the output list has 5 entries."
      ]
    },
    {
      "cell_type": "code",
      "metadata": {
        "id": "hKgAlIqlsFIk",
        "colab_type": "code",
        "outputId": "12be9492-b4a1-41d0-97ae-b958e7720289",
        "colab": {
          "base_uri": "https://localhost:8080/",
          "height": 34
        }
      },
      "source": [
        "counter = 0\n",
        "my_list = []\n",
        "while counter < 5: # change this condition so that the output list has 5 entries\n",
        "  if counter > 3:\n",
        "    my_list = my_list + [3*counter/8]\n",
        "  counter = counter + 1\n",
        "my_list"
      ],
      "execution_count": 0,
      "outputs": [
        {
          "output_type": "execute_result",
          "data": {
            "text/plain": [
              "[1.5]"
            ]
          },
          "metadata": {
            "tags": []
          },
          "execution_count": 12
        }
      ]
    },
    {
      "cell_type": "markdown",
      "metadata": {
        "id": "19rpXDOELojw",
        "colab_type": "text"
      },
      "source": [
        "---\n",
        "\n",
        "##For\n",
        "\n",
        "A `for` loop runs some indented code for each item in a list.\n"
      ]
    },
    {
      "cell_type": "code",
      "metadata": {
        "id": "uGeQflLaKrm_",
        "colab_type": "code",
        "outputId": "80df8111-aa17-491e-c70d-38b7b6aa0870",
        "colab": {
          "base_uri": "https://localhost:8080/",
          "height": 67
        }
      },
      "source": [
        "for item in [1,2,3]:\n",
        "  print(item)"
      ],
      "execution_count": 0,
      "outputs": [
        {
          "output_type": "stream",
          "text": [
            "1\n",
            "2\n",
            "3\n"
          ],
          "name": "stdout"
        }
      ]
    },
    {
      "cell_type": "markdown",
      "metadata": {
        "id": "T--hiMISMYC4",
        "colab_type": "text"
      },
      "source": [
        "`For` loops can also be used to build other lists."
      ]
    },
    {
      "cell_type": "code",
      "metadata": {
        "id": "I3B6ddrxL8V-",
        "colab_type": "code",
        "outputId": "222bdc90-c058-42cc-fb7d-28a1b7ce0de1",
        "colab": {
          "base_uri": "https://localhost:8080/",
          "height": 34
        }
      },
      "source": [
        "my_list = []\n",
        "for item in [1,2,3]:\n",
        "  my_list += [2*item]\n",
        "my_list"
      ],
      "execution_count": 0,
      "outputs": [
        {
          "output_type": "execute_result",
          "data": {
            "text/plain": [
              "[2, 4, 6]"
            ]
          },
          "metadata": {
            "tags": []
          },
          "execution_count": 14
        }
      ]
    },
    {
      "cell_type": "markdown",
      "metadata": {
        "id": "EFeEl58LMpbD",
        "colab_type": "text"
      },
      "source": [
        "We can even include a `for` loop within a list to build it in a single line of code."
      ]
    },
    {
      "cell_type": "code",
      "metadata": {
        "id": "17v1SiDhMm8t",
        "colab_type": "code",
        "outputId": "cef7217e-64f4-48d5-89bf-3e158dfaea96",
        "colab": {
          "base_uri": "https://localhost:8080/",
          "height": 34
        }
      },
      "source": [
        "[2*item for item in [1,2,3]]"
      ],
      "execution_count": 0,
      "outputs": [
        {
          "output_type": "execute_result",
          "data": {
            "text/plain": [
              "[2, 4, 6]"
            ]
          },
          "metadata": {
            "tags": []
          },
          "execution_count": 15
        }
      ]
    },
    {
      "cell_type": "markdown",
      "metadata": {
        "id": "WZtJxY6gZhq5",
        "colab_type": "text"
      },
      "source": [
        "Note that in the context of creating lists, the real utility of `for` loops comes from not having to write down the entries of any list to begin with.\n",
        "\n",
        "In the previous cell, we constructed a list `[2,4,6]` using `[1,2,3]` as a starting list. However, a smarter way to do this is to use`range(1,4)` which returns the list of numbers starting at `1` and stopping before `4`. This way, we can create even longer lists without having to do the work of writing down the initial list in full."
      ]
    },
    {
      "cell_type": "code",
      "metadata": {
        "id": "8ASZH7CeaXYO",
        "colab_type": "code",
        "outputId": "4c566afb-91b5-4a81-ac27-3c49d03eeeae",
        "colab": {
          "base_uri": "https://localhost:8080/",
          "height": 34
        }
      },
      "source": [
        "my_list = []\n",
        "for item in range(1,20):\n",
        "  my_list += [2*item]\n",
        "my_list"
      ],
      "execution_count": 0,
      "outputs": [
        {
          "output_type": "execute_result",
          "data": {
            "text/plain": [
              "[2, 4, 6, 8, 10, 12, 14, 16, 18, 20, 22, 24, 26, 28, 30, 32, 34, 36, 38]"
            ]
          },
          "metadata": {
            "tags": []
          },
          "execution_count": 16
        }
      ]
    },
    {
      "cell_type": "code",
      "metadata": {
        "id": "utS8dz0_MxOC",
        "colab_type": "code",
        "outputId": "1bee99ea-cad2-4e52-bd47-778aac5d0665",
        "colab": {
          "base_uri": "https://localhost:8080/",
          "height": 34
        }
      },
      "source": [
        "[2*item for item in range(1,20)]"
      ],
      "execution_count": 0,
      "outputs": [
        {
          "output_type": "execute_result",
          "data": {
            "text/plain": [
              "[2, 4, 6, 8, 10, 12, 14, 16, 18, 20, 22, 24, 26, 28, 30, 32, 34, 36, 38]"
            ]
          },
          "metadata": {
            "tags": []
          },
          "execution_count": 17
        }
      ]
    },
    {
      "cell_type": "markdown",
      "metadata": {
        "id": "tVT7cmb_NDzO",
        "colab_type": "text"
      },
      "source": [
        "---\n",
        "\n",
        "### Exercise 4\n",
        "\n",
        "Using a `for` loop, construct a list of the first 30 multiples of 7. (The last entry of the list should be 210.)"
      ]
    },
    {
      "cell_type": "code",
      "metadata": {
        "id": "7Q4E4fiZNEQt",
        "colab_type": "code",
        "colab": {}
      },
      "source": [
        ""
      ],
      "execution_count": 0,
      "outputs": []
    }
  ]
}