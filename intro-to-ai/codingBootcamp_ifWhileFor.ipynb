{
  "nbformat": 4,
  "nbformat_minor": 0,
  "metadata": {
    "colab": {
      "name": "codingBootcamp_ifWhileFor.ipynb",
      "version": "0.3.2",
      "provenance": [],
      "collapsed_sections": [],
      "toc_visible": true,
      "include_colab_link": true
    },
    "kernelspec": {
      "name": "python3",
      "display_name": "Python 3"
    }
  },
  "cells": [
    {
      "cell_type": "markdown",
      "metadata": {
        "id": "view-in-github",
        "colab_type": "text"
      },
      "source": [
        "<a href=\"https://colab.research.google.com/github/jpskycak/aihigh/blob/master/intro-to-ai/codingBootcamp_ifWhileFor.ipynb\" target=\"_parent\"><img src=\"https://colab.research.google.com/assets/colab-badge.svg\" alt=\"Open In Colab\"/></a>"
      ]
    },
    {
      "cell_type": "markdown",
      "metadata": {
        "id": "D7c3mb1OQ3CN",
        "colab_type": "text"
      },
      "source": [
        "#Setup\n",
        "\n",
        "In order to run the notebook,\n",
        "\n",
        "1. sign into your Google account (top-right) and\n",
        "2. make a copy of the notebook in your Google Drive by pressing the <img src=\"https://i.imgur.com/chlzY9P.png\" alt=\"Drawing\" width=\"100\"/> button in the upper-left menu."
      ]
    },
    {
      "cell_type": "markdown",
      "metadata": {
        "id": "ZGkyQmniPrwy",
        "colab_type": "text"
      },
      "source": [
        "#If, While, and For\n",
        "\n",
        "When programming, we often wish to tell the computer instructions such as:\n",
        "<ul>\n",
        "  <li><b>If</b> thing X happens, then do thing Y.</li>\n",
        "  <li><b>While</b> thing X is true, do thing Y.</li>\n",
        "  <li><b>For</b> each item in collection X, do thing Y.</li>\n",
        "</ul>\n",
        "\n",
        "And we can, using these words (if, while, and for) exactly!"
      ]
    },
    {
      "cell_type": "markdown",
      "metadata": {
        "colab_type": "text",
        "id": "OkZxxShdi8rS"
      },
      "source": [
        "#If\n",
        "\n",
        "An `if` statement involves first checking whether some value is true, and if it is, then running some code indented below the `if` statement.\n",
        "\n",
        "Otherwise, if the value is false, the indented code is not executed.\n"
      ]
    },
    {
      "cell_type": "code",
      "metadata": {
        "id": "6T1OXBtHrtdP",
        "colab_type": "code",
        "colab": {
          "base_uri": "https://localhost:8080/",
          "height": 34
        },
        "outputId": "f951c266-561e-4f25-daf0-4a0979692f0c"
      },
      "source": [
        "X = True\n",
        "if X:\n",
        "  print('This will only print if X is True.')"
      ],
      "execution_count": 6,
      "outputs": [
        {
          "output_type": "stream",
          "text": [
            "This will only print if X is true.\n"
          ],
          "name": "stdout"
        }
      ]
    },
    {
      "cell_type": "code",
      "metadata": {
        "id": "FMp_djZsr4Cn",
        "colab_type": "code",
        "colab": {}
      },
      "source": [
        "X = False\n",
        "if X:\n",
        "  print('This will only print if X is True.')"
      ],
      "execution_count": 0,
      "outputs": []
    },
    {
      "cell_type": "markdown",
      "metadata": {
        "id": "itW505Qavbgy",
        "colab_type": "text"
      },
      "source": [
        "The value checked by the if statement can also be an expression, as long as it ultimately evaluates to a boolean True/False value."
      ]
    },
    {
      "cell_type": "code",
      "metadata": {
        "id": "fRLM3Z7SvlJm",
        "colab_type": "code",
        "colab": {
          "base_uri": "https://localhost:8080/",
          "height": 34
        },
        "outputId": "fa38cfea-2e14-49ad-ad50-2bc15ff90ab5"
      },
      "source": [
        "X = 5\n",
        "if X>3: # true because 5 > 3\n",
        "  print('This will only print if X is greater than 3')"
      ],
      "execution_count": 9,
      "outputs": [
        {
          "output_type": "stream",
          "text": [
            "This will only print if X is greater than 3\n"
          ],
          "name": "stdout"
        }
      ]
    },
    {
      "cell_type": "code",
      "metadata": {
        "id": "Dd6QttBqvzyU",
        "colab_type": "code",
        "colab": {}
      },
      "source": [
        "X = 1\n",
        "if X>3: # false because 1 is not > 3\n",
        "  print('This will only print if X is greater than 3')"
      ],
      "execution_count": 0,
      "outputs": []
    },
    {
      "cell_type": "markdown",
      "metadata": {
        "id": "PHaf4qlUu8PY",
        "colab_type": "text"
      },
      "source": [
        "If statements can also be nested within each other."
      ]
    },
    {
      "cell_type": "code",
      "metadata": {
        "id": "NYmQ8kdJu_0l",
        "colab_type": "code",
        "colab": {
          "base_uri": "https://localhost:8080/",
          "height": 50
        },
        "outputId": "bf523abd-c8ba-48d7-c4f2-7cbe729f5bcf"
      },
      "source": [
        "A = 3\n",
        "B = 2\n",
        "if A > 0: # true because 3 > 0\n",
        "  print('This will only print if A is greater than 0.')\n",
        "  if A+B > 0: # true because 3+2=5 > 0\n",
        "    print('This will only print if both A is greater than 0, and A+B is also greater than 0.')"
      ],
      "execution_count": 11,
      "outputs": [
        {
          "output_type": "stream",
          "text": [
            "This will only print if A is greater than 0.\n",
            "This will only print if both A is greater than 0, and A+B is also greater than 0.\n"
          ],
          "name": "stdout"
        }
      ]
    },
    {
      "cell_type": "code",
      "metadata": {
        "id": "UsyrLSAWwTji",
        "colab_type": "code",
        "colab": {
          "base_uri": "https://localhost:8080/",
          "height": 34
        },
        "outputId": "dccf2cfa-0a65-40a4-fb77-3bae3b01785e"
      },
      "source": [
        "A = 3\n",
        "B = -5\n",
        "if A > 0: # true because 3 > 0\n",
        "  print('This will only print if A is greater than 0.')\n",
        "  if A+B > 0: # false because 3-5 = -2 is not > 0\n",
        "    print('This will only print if both A is greater than 0, and A+B is also greater than 0.')"
      ],
      "execution_count": 12,
      "outputs": [
        {
          "output_type": "stream",
          "text": [
            "This will only print if A is greater than 0.\n"
          ],
          "name": "stdout"
        }
      ]
    },
    {
      "cell_type": "code",
      "metadata": {
        "id": "lzAggy_fw9Az",
        "colab_type": "code",
        "colab": {}
      },
      "source": [
        "A = -2\n",
        "B = 4\n",
        "if A > 0: # false because -2 is not > 0\n",
        "  print('This will only print if A is greater than 0.')\n",
        "  if A+B > 0: # true because -2+4 = 2 > 0\n",
        "    print('This will only print if both A is greater than 0, and A+B is also greater than 0.')"
      ],
      "execution_count": 0,
      "outputs": []
    },
    {
      "cell_type": "markdown",
      "metadata": {
        "id": "WKbcAbu8sKEc",
        "colab_type": "text"
      },
      "source": [
        "asdf\n",
        "\n",
        "else"
      ]
    },
    {
      "cell_type": "code",
      "metadata": {
        "id": "hKgAlIqlsFIk",
        "colab_type": "code",
        "colab": {}
      },
      "source": [
        ""
      ],
      "execution_count": 0,
      "outputs": []
    }
  ]
}