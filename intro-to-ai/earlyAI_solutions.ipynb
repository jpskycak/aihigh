{
  "nbformat": 4,
  "nbformat_minor": 0,
  "metadata": {
    "colab": {
      "name": "earlyAI_solutions.ipynb",
      "version": "0.3.2",
      "provenance": [],
      "collapsed_sections": [],
      "toc_visible": true,
      "include_colab_link": true
    },
    "kernelspec": {
      "name": "python3",
      "display_name": "Python 3"
    }
  },
  "cells": [
    {
      "cell_type": "markdown",
      "metadata": {
        "id": "view-in-github",
        "colab_type": "text"
      },
      "source": [
        "<a href=\"https://colab.research.google.com/github/jpskycak/aihigh/blob/master/intro-to-ai/earlyAI_solutions.ipynb\" target=\"_parent\"><img src=\"https://colab.research.google.com/assets/colab-badge.svg\" alt=\"Open In Colab\"/></a>"
      ]
    },
    {
      "cell_type": "markdown",
      "metadata": {
        "id": "XTxGrq-MYVq9",
        "colab_type": "text"
      },
      "source": [
        "#Solutions"
      ]
    },
    {
      "cell_type": "markdown",
      "metadata": {
        "id": "G4UuI9OEZRgE",
        "colab_type": "text"
      },
      "source": [
        "## Solving Tower of Hanoi with General Problem Solver"
      ]
    },
    {
      "cell_type": "markdown",
      "metadata": {
        "id": "-mHJWqY2egth",
        "colab_type": "text"
      },
      "source": [
        "### Exercise 1"
      ]
    },
    {
      "cell_type": "code",
      "metadata": {
        "id": "-BASg27o88zs",
        "colab_type": "code",
        "outputId": "a9e9cdd6-87d4-40b0-e925-237e0b2258fa",
        "colab": {
          "base_uri": "https://localhost:8080/",
          "height": 34
        }
      },
      "source": [
        "config = [[1,2,3,4],[],[],[]]\n",
        "\n",
        "if ''.join([''.join([str(n*3+7) for n in x]+['5']) for x in config])=='101316195555':\n",
        "  print('Correct!')\n",
        "else:\n",
        "  print('Incorrect; try again.')"
      ],
      "execution_count": 0,
      "outputs": [
        {
          "output_type": "stream",
          "text": [
            "Correct!\n"
          ],
          "name": "stdout"
        }
      ]
    },
    {
      "cell_type": "markdown",
      "metadata": {
        "id": "8yxC8KuJ9BlU",
        "colab_type": "text"
      },
      "source": [
        "### Exercise 2"
      ]
    },
    {
      "cell_type": "code",
      "metadata": {
        "id": "ewHmoS_o9A-p",
        "colab_type": "code",
        "outputId": "49b66452-1b68-4e76-ff97-c6df198058c0",
        "colab": {
          "base_uri": "https://localhost:8080/",
          "height": 34
        }
      },
      "source": [
        "config = [[2,3],[1],[]]\n",
        "\n",
        "if ''.join([''.join([str(n*3+7) for n in x]+['5']) for x in config])=='131651055':\n",
        "  print('Correct!')\n",
        "else:\n",
        "  print('Incorrect; try again.')"
      ],
      "execution_count": 0,
      "outputs": [
        {
          "output_type": "stream",
          "text": [
            "Correct!\n"
          ],
          "name": "stdout"
        }
      ]
    },
    {
      "cell_type": "markdown",
      "metadata": {
        "id": "CVvQqO0y9e5T",
        "colab_type": "text"
      },
      "source": [
        "### Exercise 3"
      ]
    },
    {
      "cell_type": "code",
      "metadata": {
        "id": "WCxkpt0FYZgN",
        "colab_type": "code",
        "colab": {}
      },
      "source": [
        "def move(i,j,config):\n",
        "  new_config = config.copy() # creates a copy of config that we will modify and output\n",
        "  new_config[j-1] = [new_config[i-1][0]] + new_config[j-1] # put top disk on j\n",
        "  new_config[i-1] = new_config[i-1][1:] # remove top disk from i\n",
        "  return new_config"
      ],
      "execution_count": 0,
      "outputs": []
    },
    {
      "cell_type": "code",
      "metadata": {
        "id": "X3RCa2Yh9v0a",
        "colab_type": "code",
        "outputId": "dc0f2aa1-336e-402f-d583-c5097a5d39ba",
        "colab": {
          "base_uri": "https://localhost:8080/",
          "height": 51
        }
      },
      "source": [
        "if move(1,3,[[1,2,3], [], []]) == [[2,3], [], [1]]:\n",
        "  print('Test 1 - SUCCEEDED')\n",
        "else:\n",
        "  print('Test 1 - FAILED')\n",
        "  \n",
        "if move(3, 2, [[3], [2], [1]]) == [[3], [1,2], []]:\n",
        "  print('Test 2 - SUCCEEDED')\n",
        "else:\n",
        "  print('Test 2 - FAILED')"
      ],
      "execution_count": 39,
      "outputs": [
        {
          "output_type": "stream",
          "text": [
            "Test 1 - SUCCEEDED\n",
            "Test 2 - SUCCEEDED\n"
          ],
          "name": "stdout"
        }
      ]
    },
    {
      "cell_type": "markdown",
      "metadata": {
        "id": "ilKGDWSR-Ln6",
        "colab_type": "text"
      },
      "source": [
        "### Exercise 4"
      ]
    },
    {
      "cell_type": "code",
      "metadata": {
        "id": "PNoj06OwteRh",
        "colab_type": "code",
        "colab": {}
      },
      "source": [
        "def possibilities(config):\n",
        "  output_list = []\n",
        "  N = len(config)\n",
        "  for i in [1,2,3]:\n",
        "    if config[i-1] != []: # can't move any disks from an empty tower\n",
        "      for j in [1,2,3]:\n",
        "        if config[j-1]==[]:\n",
        "          output_list += [move(i,j,config)]\n",
        "        elif config[j-1][0]>config[i-1][0]: # top disk on tower j must be smaller than disk from tower\n",
        "          output_list += [move(i,j,config)]\n",
        "  return output_list"
      ],
      "execution_count": 0,
      "outputs": []
    },
    {
      "cell_type": "code",
      "metadata": {
        "id": "aBvMSNfNxGF3",
        "colab_type": "code",
        "colab": {
          "base_uri": "https://localhost:8080/",
          "height": 51
        },
        "outputId": "69d9fe5d-47b3-470c-dbae-140ef2674482"
      },
      "source": [
        "import collections\n",
        "\n",
        "def counts(inList):\n",
        "  return collections.Counter([str(x) for x in inList])\n",
        "  \n",
        "if counts(possibilities([[1,2,3], [], []])) == counts([[[2, 3], [1], []], [[2, 3], [], [1]]]):\n",
        "  print('Test 1 - SUCCEEDED')\n",
        "else:\n",
        "  print('Test 1 - FAILED')\n",
        "  \n",
        "if counts(possibilities([[3],[1],[2]])) == counts([[[1, 3], [], [2]], [[3], [], [1, 2]], [[2, 3], [1], []]]):\n",
        "  print('Test 2 - SUCCEEDED')\n",
        "else:\n",
        "  print('Test 2 - FAILED')"
      ],
      "execution_count": 36,
      "outputs": [
        {
          "output_type": "stream",
          "text": [
            "Test 1 - SUCCEEDED\n",
            "Test 2 - SUCCEEDED\n"
          ],
          "name": "stdout"
        }
      ]
    },
    {
      "cell_type": "markdown",
      "metadata": {
        "id": "Tv0WSDmK0Pqy",
        "colab_type": "text"
      },
      "source": [
        "### Exercise 5"
      ]
    },
    {
      "cell_type": "code",
      "metadata": {
        "id": "f8MRd9kU_VOE",
        "colab_type": "code",
        "colab": {}
      },
      "source": [
        "def possibilities(configMoves):\n",
        "  output_list = []\n",
        "  config = configMoves['config']\n",
        "  moves = configMoves ['moves']\n",
        "  N = len(config)\n",
        "  \n",
        "  for i in [1,2,3]:\n",
        "    if config[i-1] != []: # can't move any disks from an empty tower\n",
        "      for j in [1,2,3]:\n",
        "        if config[j-1]==[]:\n",
        "          output_list += [{'config':move(i,j,config),'moves':moves+[(i,j)]}]\n",
        "        elif config[j-1][0]>config[i-1][0]: # top disk on tower j must be smaller than disk from tower\n",
        "          output_list += [{'config':move(i,j,config),'moves':moves+[(i,j)]}]\n",
        "  return output_list"
      ],
      "execution_count": 0,
      "outputs": []
    },
    {
      "cell_type": "code",
      "metadata": {
        "id": "Zs3l7p0N0OxM",
        "colab_type": "code",
        "colab": {
          "base_uri": "https://localhost:8080/",
          "height": 51
        },
        "outputId": "a6ecfb5e-3415-45ef-d4a6-acd373c91523"
      },
      "source": [
        "import collections\n",
        "\n",
        "def counts(dlist):\n",
        "  stringList = [str(d['config'])+str(d['moves']) for d in dlist]\n",
        "  return collections.Counter([str(x) for x in stringList])\n",
        "  \n",
        "if counts(possibilities({'config': [[1,2,3], [], []], 'moves': []})) == counts(\n",
        "[{'config': [[2, 3], [1], []], 'moves': [(1, 2)]},\n",
        " {'config': [[2, 3], [], [1]], 'moves': [(1, 3)]}]):\n",
        "  print('Test 1 - SUCCEEDED')\n",
        "else:\n",
        "  print('Test 1 - FAILED')\n",
        "  \n",
        "if counts(possibilities({'config': [[3], [1], [2]], 'moves':[(1,2),(1,3)]})) == counts(\n",
        "[{'config': [[1, 3], [], [2]], 'moves': [(1, 2), (1, 3), (2, 1)]},\n",
        " {'config': [[3], [], [1, 2]], 'moves': [(1, 2), (1, 3), (2, 3)]},\n",
        " {'config': [[2, 3], [1], []], 'moves': [(1, 2), (1, 3), (3, 1)]}]):\n",
        "  print('Test 2 - SUCCEEDED')\n",
        "else:\n",
        "  print('Test 2 - FAILED')"
      ],
      "execution_count": 47,
      "outputs": [
        {
          "output_type": "stream",
          "text": [
            "Test 1 - SUCCEEDED\n",
            "Test 2 - SUCCEEDED\n"
          ],
          "name": "stdout"
        }
      ]
    },
    {
      "cell_type": "markdown",
      "metadata": {
        "id": "NFtlcWs_BoPo",
        "colab_type": "text"
      },
      "source": [
        "### Exercise 6"
      ]
    },
    {
      "cell_type": "code",
      "metadata": {
        "id": "lgnBO-fPBqPR",
        "colab_type": "code",
        "colab": {
          "base_uri": "https://localhost:8080/",
          "height": 54
        },
        "outputId": "95772e86-342c-43e8-d9da-375aa67f0660"
      },
      "source": [
        "N=5\n",
        "\n",
        "initial_config = [list(range(1,N+1)),[],[]]\n",
        "final_config = [[],[],list(range(1,N+1))]\n",
        "\n",
        "configMoves_list = [{'config':initial_config, 'moves':[]}]\n",
        "config_list = [initial_config]\n",
        "\n",
        "counter = 0\n",
        "while final_config not in config_list:\n",
        "  new_configMoves_list = []\n",
        "  new_config_list = []\n",
        "  \n",
        "  for configMoves in configMoves_list:\n",
        "    for new_configMoves in possibilities(configMoves):\n",
        "      new_config = new_configMoves['config']\n",
        "      new_moves = new_configMoves['moves']\n",
        "      \n",
        "      if new_config not in config_list:\n",
        "        new_config_list += [new_config]\n",
        "        new_configMoves_list += [new_configMoves]\n",
        "        \n",
        "  configMoves_list += new_configMoves_list\n",
        "  config_list += new_config_list\n",
        "  \n",
        "  counter += 1\n",
        "  if counter > 100000:\n",
        "    break\n",
        "  \n",
        "for configMoves in configMoves_list:\n",
        "  if configMoves['config'] == final_config:\n",
        "    print(configMoves)"
      ],
      "execution_count": 57,
      "outputs": [
        {
          "output_type": "stream",
          "text": [
            "{'config': [[], [], [1, 2, 3, 4, 5]], 'moves': [(1, 3), (1, 2), (3, 2), (1, 3), (2, 1), (2, 3), (1, 3), (1, 2), (3, 2), (3, 1), (2, 1), (3, 2), (1, 3), (1, 2), (3, 2), (1, 3), (2, 1), (2, 3), (1, 3), (2, 1), (3, 2), (3, 1), (2, 1), (2, 3), (1, 3), (1, 2), (3, 2), (1, 3), (2, 1), (2, 3), (1, 3)]}\n"
          ],
          "name": "stdout"
        }
      ]
    },
    {
      "cell_type": "markdown",
      "metadata": {
        "id": "0n_067G1KIAU",
        "colab_type": "text"
      },
      "source": [
        ""
      ]
    },
    {
      "cell_type": "code",
      "metadata": {
        "id": "08vnqrcUZvjD",
        "colab_type": "code",
        "colab": {}
      },
      "source": [
        ""
      ],
      "execution_count": 0,
      "outputs": []
    }
  ]
}