{
  "nbformat": 4,
  "nbformat_minor": 0,
  "metadata": {
    "colab": {
      "name": "earlyAI_solutions.ipynb",
      "version": "0.3.2",
      "provenance": [],
      "collapsed_sections": [],
      "toc_visible": true,
      "include_colab_link": true
    },
    "kernelspec": {
      "name": "python3",
      "display_name": "Python 3"
    }
  },
  "cells": [
    {
      "cell_type": "markdown",
      "metadata": {
        "id": "view-in-github",
        "colab_type": "text"
      },
      "source": [
        "<a href=\"https://colab.research.google.com/github/jpskycak/aihigh/blob/master/intro-to-ai/earlyAI_solutions.ipynb\" target=\"_parent\"><img src=\"https://colab.research.google.com/assets/colab-badge.svg\" alt=\"Open In Colab\"/></a>"
      ]
    },
    {
      "cell_type": "markdown",
      "metadata": {
        "id": "XTxGrq-MYVq9",
        "colab_type": "text"
      },
      "source": [
        "#Solutions"
      ]
    },
    {
      "cell_type": "markdown",
      "metadata": {
        "id": "G4UuI9OEZRgE",
        "colab_type": "text"
      },
      "source": [
        "## Solving Tower of Hanoi with General Problem Solver"
      ]
    },
    {
      "cell_type": "markdown",
      "metadata": {
        "id": "-mHJWqY2egth",
        "colab_type": "text"
      },
      "source": [
        "### Exercise 1"
      ]
    },
    {
      "cell_type": "code",
      "metadata": {
        "id": "-BASg27o88zs",
        "colab_type": "code",
        "outputId": "a9e9cdd6-87d4-40b0-e925-237e0b2258fa",
        "colab": {
          "base_uri": "https://localhost:8080/",
          "height": 34
        }
      },
      "source": [
        "config = [[1,2,3,4],[],[],[]]\n",
        "\n",
        "if ''.join([''.join([str(n*3+7) for n in x]+['5']) for x in config])=='101316195555':\n",
        "  print('Correct!')\n",
        "else:\n",
        "  print('Incorrect; try again.')"
      ],
      "execution_count": 0,
      "outputs": [
        {
          "output_type": "stream",
          "text": [
            "Correct!\n"
          ],
          "name": "stdout"
        }
      ]
    },
    {
      "cell_type": "markdown",
      "metadata": {
        "id": "8yxC8KuJ9BlU",
        "colab_type": "text"
      },
      "source": [
        "### Exercise 2"
      ]
    },
    {
      "cell_type": "code",
      "metadata": {
        "id": "ewHmoS_o9A-p",
        "colab_type": "code",
        "outputId": "49b66452-1b68-4e76-ff97-c6df198058c0",
        "colab": {
          "base_uri": "https://localhost:8080/",
          "height": 34
        }
      },
      "source": [
        "config = [[2,3],[1],[]]\n",
        "\n",
        "if ''.join([''.join([str(n*3+7) for n in x]+['5']) for x in config])=='131651055':\n",
        "  print('Correct!')\n",
        "else:\n",
        "  print('Incorrect; try again.')"
      ],
      "execution_count": 0,
      "outputs": [
        {
          "output_type": "stream",
          "text": [
            "Correct!\n"
          ],
          "name": "stdout"
        }
      ]
    },
    {
      "cell_type": "markdown",
      "metadata": {
        "id": "CVvQqO0y9e5T",
        "colab_type": "text"
      },
      "source": [
        "### Exercise 3"
      ]
    },
    {
      "cell_type": "code",
      "metadata": {
        "id": "WCxkpt0FYZgN",
        "colab_type": "code",
        "colab": {}
      },
      "source": [
        "def move(i,j,config):\n",
        "  new_config = config.copy() # creates a copy of config that we will modify and output\n",
        "  new_config[j-1] = [new_config[i-1][0]] + new_config[j-1] # put top disk on j\n",
        "  new_config[i-1] = new_config[i-1][1:] # remove top disk from i\n",
        "  return new_config"
      ],
      "execution_count": 0,
      "outputs": []
    },
    {
      "cell_type": "code",
      "metadata": {
        "id": "X3RCa2Yh9v0a",
        "colab_type": "code",
        "outputId": "dc0f2aa1-336e-402f-d583-c5097a5d39ba",
        "colab": {
          "base_uri": "https://localhost:8080/",
          "height": 51
        }
      },
      "source": [
        "if move(1,3,[[1,2,3], [], []]) == [[2,3], [], [1]]:\n",
        "  print('Test 1 - SUCCEEDED')\n",
        "else:\n",
        "  print('Test 1 - FAILED')\n",
        "  \n",
        "if move(3, 2, [[3], [2], [1]]) == [[3], [1,2], []]:\n",
        "  print('Test 2 - SUCCEEDED')\n",
        "else:\n",
        "  print('Test 2 - FAILED')"
      ],
      "execution_count": 39,
      "outputs": [
        {
          "output_type": "stream",
          "text": [
            "Test 1 - SUCCEEDED\n",
            "Test 2 - SUCCEEDED\n"
          ],
          "name": "stdout"
        }
      ]
    },
    {
      "cell_type": "markdown",
      "metadata": {
        "id": "ilKGDWSR-Ln6",
        "colab_type": "text"
      },
      "source": [
        "### Exercise 4"
      ]
    },
    {
      "cell_type": "code",
      "metadata": {
        "id": "PNoj06OwteRh",
        "colab_type": "code",
        "colab": {}
      },
      "source": [
        "def possibilities(config):\n",
        "  output_list = []\n",
        "  N = len(config)\n",
        "  for i in [1,2,3]:\n",
        "    if config[i-1] != []: # can't move any disks from an empty tower\n",
        "      for j in [1,2,3]:\n",
        "        if config[j-1]==[]:\n",
        "          output_list += [move(i,j,config)]\n",
        "        elif config[j-1][0]>config[i-1][0]: # top disk on tower j must be smaller than disk from tower\n",
        "          output_list += [move(i,j,config)]\n",
        "  return output_list"
      ],
      "execution_count": 0,
      "outputs": []
    },
    {
      "cell_type": "code",
      "metadata": {
        "id": "aBvMSNfNxGF3",
        "colab_type": "code",
        "colab": {
          "base_uri": "https://localhost:8080/",
          "height": 51
        },
        "outputId": "69d9fe5d-47b3-470c-dbae-140ef2674482"
      },
      "source": [
        "import collections\n",
        "\n",
        "def counts(inList):\n",
        "  return collections.Counter([str(x) for x in inList])\n",
        "  \n",
        "if counts(possibilities([[1,2,3], [], []])) == counts([[[2, 3], [1], []], [[2, 3], [], [1]]]):\n",
        "  print('Test 1 - SUCCEEDED')\n",
        "else:\n",
        "  print('Test 1 - FAILED')\n",
        "  \n",
        "if counts(possibilities([[3],[1],[2]])) == counts([[[1, 3], [], [2]], [[3], [], [1, 2]], [[2, 3], [1], []]]):\n",
        "  print('Test 2 - SUCCEEDED')\n",
        "else:\n",
        "  print('Test 2 - FAILED')"
      ],
      "execution_count": 36,
      "outputs": [
        {
          "output_type": "stream",
          "text": [
            "Test 1 - SUCCEEDED\n",
            "Test 2 - SUCCEEDED\n"
          ],
          "name": "stdout"
        }
      ]
    },
    {
      "cell_type": "markdown",
      "metadata": {
        "id": "Tv0WSDmK0Pqy",
        "colab_type": "text"
      },
      "source": [
        "### Exercise 5"
      ]
    },
    {
      "cell_type": "code",
      "metadata": {
        "id": "f8MRd9kU_VOE",
        "colab_type": "code",
        "colab": {}
      },
      "source": [
        "def possibilities(configMoves):\n",
        "  output_list = []\n",
        "  config = configMoves['config']\n",
        "  moves = configMoves ['moves']\n",
        "  N = len(config)\n",
        "  \n",
        "  for i in [1,2,3]:\n",
        "    if config[i-1] != []: # can't move any disks from an empty tower\n",
        "      for j in [1,2,3]:\n",
        "        if config[j-1]==[]:\n",
        "          output_list += [{'config':move(i,j,config),'moves':moves+[(i,j)]}]\n",
        "        elif config[j-1][0]>config[i-1][0]: # top disk on tower j must be smaller than disk from tower\n",
        "          output_list += [{'config':move(i,j,config),'moves':moves+[(i,j)]}]\n",
        "  return output_list"
      ],
      "execution_count": 0,
      "outputs": []
    },
    {
      "cell_type": "code",
      "metadata": {
        "id": "Zs3l7p0N0OxM",
        "colab_type": "code",
        "colab": {
          "base_uri": "https://localhost:8080/",
          "height": 51
        },
        "outputId": "d205d3fa-f2fa-44ce-b4f3-08fc470ca2d0"
      },
      "source": [
        "import collections\n",
        "\n",
        "def counts(dlist):\n",
        "  stringList = [str(d['config'])+str(d['moves']) for d in dlist]\n",
        "  return collections.Counter([str(x) for x in stringList])\n",
        "  \n",
        "if counts(possibilities({'config': [[1,2,3], [], []], 'moves': []})) == counts(\n",
        "[{'config': [[2, 3], [1], []], 'moves': [(1, 2)]},\n",
        " {'config': [[2, 3], [], [1]], 'moves': [(1, 3)]}]):\n",
        "  print('Test 1 - SUCCEEDED')\n",
        "else:\n",
        "  print('Test 1 - FAILED')\n",
        "  \n",
        "if counts(possibilities({'config': [[3], [1], [2]], 'moves':[(1,2),(1,3)]})) == counts(\n",
        "[{'config': [[1, 3], [], [2]], 'moves': [(1, 2), (1, 3), (2, 1)]},\n",
        " {'config': [[3], [], [1, 2]], 'moves': [(1, 2), (1, 3), (2, 3)]},\n",
        " {'config': [[2, 3], [1], []], 'moves': [(1, 2), (1, 3), (3, 1)]}]):\n",
        "  print('Test 2 - SUCCEEDED')\n",
        "else:\n",
        "  print('Test 2 - FAILED')"
      ],
      "execution_count": 34,
      "outputs": [
        {
          "output_type": "stream",
          "text": [
            "Test 1 - SUCCEEDED\n",
            "Test 2 - SUCCEEDED\n"
          ],
          "name": "stdout"
        }
      ]
    },
    {
      "cell_type": "code",
      "metadata": {
        "id": "FC3AwDHTBUS5",
        "colab_type": "code",
        "colab": {
          "base_uri": "https://localhost:8080/",
          "height": 68
        },
        "outputId": "cad82fe4-301a-4d73-8b03-cfe6a935a799"
      },
      "source": [
        "counts(\n",
        "[{'config': [[1, 3], [], [2]], 'moves': [(1, 2), (1, 3), (2, 1)]},\n",
        " {'config': [[3], [], [1, 2]], 'moves': [(1, 2), (1, 3), (2, 3)]},\n",
        " {'config': [[2, 3], [1], []], 'moves': [(1, 2), (1, 3), (3, 1)]}])"
      ],
      "execution_count": 30,
      "outputs": [
        {
          "output_type": "execute_result",
          "data": {
            "text/plain": [
              "Counter({'[[1, 3], [], [2]][(1, 2), (1, 3), (2, 1)]': 1,\n",
              "         '[[2, 3], [1], []][(1, 2), (1, 3), (3, 1)]': 1,\n",
              "         '[[3], [], [1, 2]][(1, 2), (1, 3), (2, 3)]': 1})"
            ]
          },
          "metadata": {
            "tags": []
          },
          "execution_count": 30
        }
      ]
    },
    {
      "cell_type": "markdown",
      "metadata": {
        "id": "NFtlcWs_BoPo",
        "colab_type": "text"
      },
      "source": [
        "### Exercise 6"
      ]
    },
    {
      "cell_type": "code",
      "metadata": {
        "id": "lgnBO-fPBqPR",
        "colab_type": "code",
        "colab": {}
      },
      "source": [
        "N=6\n",
        "\n",
        "initial_config = [[n+1 for n in range(N)],[],[]]\n",
        "search_list = [{'moves':[],'config':initial_config}]\n",
        "final_config = [[],[],[n+1 for n in range(N)]]\n",
        "\n",
        "counter = 0\n",
        "configs_seen = [initial_config]\n",
        "\n",
        "while target_config not in [state['config'] for state in statelist]:\n",
        "  new_statelist = []\n",
        "  for state in statelist:\n",
        "    for possible_state in possibilities(state):\n",
        "      possible_config = possible_state['config']\n",
        "      if possible_config not in configs_seen:\n",
        "        new_statelist += [possible_state]\n",
        "        configs_seen += [possible_config]\n",
        "  statelist = new_statelist.copy()\n",
        "  counter += 1\n",
        "  print(counter)"
      ],
      "execution_count": 0,
      "outputs": []
    },
    {
      "cell_type": "code",
      "metadata": {
        "id": "JAO3_a7oEX-T",
        "colab_type": "code",
        "colab": {}
      },
      "source": [
        ""
      ],
      "execution_count": 0,
      "outputs": []
    },
    {
      "cell_type": "code",
      "metadata": {
        "id": "mC_MFEUYEX6z",
        "colab_type": "code",
        "colab": {}
      },
      "source": [
        ""
      ],
      "execution_count": 0,
      "outputs": []
    },
    {
      "cell_type": "code",
      "metadata": {
        "id": "5DlqAcdYMXzF",
        "colab_type": "code",
        "outputId": "8f144ae3-2b40-4f55-a544-84967c187e55",
        "colab": {
          "base_uri": "https://localhost:8080/",
          "height": 1107
        }
      },
      "source": [
        "N = 6\n",
        "\n",
        "def move(i,j,config):\n",
        "  new_config = config.copy() # need an independent copy\n",
        "  new_config[j] = [new_config[i][0]] + new_config[j] # put top disk on j\n",
        "  new_config[i] = new_config[i][1:] # remove top disk from i\n",
        "  return new_config\n",
        "\n",
        "def possibilities(state):\n",
        "  config = state['config']\n",
        "  moves = state['moves']\n",
        "  new_states = []\n",
        "  for i in [i for i in [0,1,2] if config[i]!=[]]:\n",
        "    for j in [j for j in [0,1,2]]:\n",
        "      if config[j]==[]:\n",
        "        new_states += [{'moves':moves+[[i,j]],'config':move(i,j,config)}]\n",
        "      elif config[j][0]>config[i][0]:\n",
        "        new_states += [{'moves':moves+[[i,j]],'config':move(i,j,config)}]\n",
        "  return new_states\n",
        "\n",
        "initial_config = [[n+1 for n in range(N)],[],[]]\n",
        "statelist = [{'moves':[],'config':initial_config}]\n",
        "target_config = [[],[],[n+1 for n in range(N)]]\n",
        "\n",
        "counter = 0\n",
        "configs_seen = [initial_config]\n",
        "while target_config not in [state['config'] for state in statelist]:\n",
        "  new_statelist = []\n",
        "  for state in statelist:\n",
        "    for possible_state in possibilities(state):\n",
        "      possible_config = possible_state['config']\n",
        "      if possible_config not in configs_seen:\n",
        "        new_statelist += [possible_state]\n",
        "        configs_seen += [possible_config]\n",
        "  statelist = new_statelist.copy()\n",
        "  counter += 1\n",
        "  print(counter)\n",
        "  \n",
        "for state in statelist:\n",
        "  if state['config'] == target_config:\n",
        "    print(state)"
      ],
      "execution_count": 0,
      "outputs": [
        {
          "output_type": "stream",
          "text": [
            "1\n",
            "2\n",
            "3\n",
            "4\n",
            "5\n",
            "6\n",
            "7\n",
            "8\n",
            "9\n",
            "10\n",
            "11\n",
            "12\n",
            "13\n",
            "14\n",
            "15\n",
            "16\n",
            "17\n",
            "18\n",
            "19\n",
            "20\n",
            "21\n",
            "22\n",
            "23\n",
            "24\n",
            "25\n",
            "26\n",
            "27\n",
            "28\n",
            "29\n",
            "30\n",
            "31\n",
            "32\n",
            "33\n",
            "34\n",
            "35\n",
            "36\n",
            "37\n",
            "38\n",
            "39\n",
            "40\n",
            "41\n",
            "42\n",
            "43\n",
            "44\n",
            "45\n",
            "46\n",
            "47\n",
            "48\n",
            "49\n",
            "50\n",
            "51\n",
            "52\n",
            "53\n",
            "54\n",
            "55\n",
            "56\n",
            "57\n",
            "58\n",
            "59\n",
            "60\n",
            "61\n",
            "62\n",
            "63\n",
            "{'moves': [[0, 1], [0, 2], [1, 2], [0, 1], [2, 0], [2, 1], [0, 1], [0, 2], [1, 2], [1, 0], [2, 0], [1, 2], [0, 1], [0, 2], [1, 2], [0, 1], [2, 0], [2, 1], [0, 1], [2, 0], [1, 2], [1, 0], [2, 0], [2, 1], [0, 1], [0, 2], [1, 2], [0, 1], [2, 0], [2, 1], [0, 1], [0, 2], [1, 2], [1, 0], [2, 0], [1, 2], [0, 1], [0, 2], [1, 2], [1, 0], [2, 0], [2, 1], [0, 1], [2, 0], [1, 2], [1, 0], [2, 0], [1, 2], [0, 1], [0, 2], [1, 2], [0, 1], [2, 0], [2, 1], [0, 1], [0, 2], [1, 2], [1, 0], [2, 0], [1, 2], [0, 1], [0, 2], [1, 2]], 'config': [[], [], [1, 2, 3, 4, 5, 6]]}\n"
          ],
          "name": "stdout"
        }
      ]
    },
    {
      "cell_type": "code",
      "metadata": {
        "id": "08vnqrcUZvjD",
        "colab_type": "code",
        "colab": {}
      },
      "source": [
        ""
      ],
      "execution_count": 0,
      "outputs": []
    }
  ]
}