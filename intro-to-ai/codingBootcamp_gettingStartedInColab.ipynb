{
  "nbformat": 4,
  "nbformat_minor": 0,
  "metadata": {
    "colab": {
      "name": "codingBootcamp_gettingStartedInColab.ipynb",
      "version": "0.3.2",
      "provenance": [],
      "collapsed_sections": [],
      "toc_visible": true,
      "include_colab_link": true
    },
    "kernelspec": {
      "name": "python3",
      "display_name": "Python 3"
    }
  },
  "cells": [
    {
      "cell_type": "markdown",
      "metadata": {
        "id": "view-in-github",
        "colab_type": "text"
      },
      "source": [
        "<a href=\"https://colab.research.google.com/github/jpskycak/aihigh/blob/master/intro-to-ai/codingBootcamp_gettingStartedInColab.ipynb\" target=\"_parent\"><img src=\"https://colab.research.google.com/assets/colab-badge.svg\" alt=\"Open In Colab\"/></a>"
      ]
    },
    {
      "cell_type": "markdown",
      "metadata": {
        "id": "4Yx75_aVMfYA",
        "colab_type": "text"
      },
      "source": [
        "#Getting Started in Colab\n",
        "\n",
        "\"Colab\" is short for Google Colaboratory, an online plaform that lets users run computational notebooks like the one you're in right now. The notebook is called an \"IPython\" notebook because it runs the programming language Python. We will learn more about Python soon, but for now, let's focus on learning the ropes of Colab."
      ]
    },
    {
      "cell_type": "markdown",
      "metadata": {
        "id": "D7c3mb1OQ3CN",
        "colab_type": "text"
      },
      "source": [
        "In order to run the notebook,\n",
        "\n",
        "1. sign into your Google account (top-right) and\n",
        "2. make a copy of the notebook in your Google Drive by pressing the <img src=\"https://i.imgur.com/chlzY9P.png\" alt=\"Drawing\" width=\"100\"/> button in the upper-left menu."
      ]
    },
    {
      "cell_type": "markdown",
      "metadata": {
        "colab_type": "text",
        "id": "OkZxxShdi8rS"
      },
      "source": [
        "---\n",
        "\n",
        "##Writing/Formatting Text\n",
        "An IPython notebook consists of a sequence of cells, each of which contains either code or markdown text. First, we will take a look at cells containing markdown text, like this one that you're reading right now.\n"
      ]
    },
    {
      "cell_type": "markdown",
      "metadata": {
        "id": "KMkihrUbeskq",
        "colab_type": "text"
      },
      "source": [
        "---\n",
        "\n",
        "### Exercise 1\n",
        "\n",
        "Double-click on this text. You will be able to view the markdown that was used to generate this cell."
      ]
    },
    {
      "cell_type": "markdown",
      "metadata": {
        "id": "OVzlg2jRexHh",
        "colab_type": "text"
      },
      "source": [
        "---\n",
        "\n",
        "### Exercise 2\n",
        "\n",
        "To put things back the way they were, press Shift+Enter (press Enter while holding down the Shift key)."
      ]
    },
    {
      "cell_type": "markdown",
      "metadata": {
        "id": "PrXb-S5ue5SK",
        "colab_type": "text"
      },
      "source": [
        "---\n",
        "\n",
        "### Exercise 3\n",
        "\n",
        "Create another cell containing markdown text by pressing the <img src=\"https://i.imgur.com/oo95uqo.png\" alt=\"Drawing\" width=\"50\"/> button in the upper-left menu. Feel free to experiment with the formatting options."
      ]
    },
    {
      "cell_type": "markdown",
      "metadata": {
        "id": "UD6D6uHEe91a",
        "colab_type": "text"
      },
      "source": [
        "---\n",
        "\n",
        "### Exercise 4\n",
        "\n",
        "Delete the cell you created by clicking on it and pressing Ctrl+M+D."
      ]
    },
    {
      "cell_type": "markdown",
      "metadata": {
        "id": "qqoGsc4qY_xf",
        "colab_type": "text"
      },
      "source": [
        "---\n",
        "\n",
        "##Executing a Code Cell"
      ]
    },
    {
      "cell_type": "markdown",
      "metadata": {
        "id": "LWTdbxtIdlIP",
        "colab_type": "text"
      },
      "source": [
        "---\n",
        "\n",
        "### Exercise 5\n",
        "\n",
        "The cell below contains some Python code. Click on the cell and press Shift+Enter to run the code."
      ]
    },
    {
      "cell_type": "code",
      "metadata": {
        "id": "MrDORjw1K5pQ",
        "colab_type": "code",
        "colab": {}
      },
      "source": [
        "print('The first code cell has been executed.')"
      ],
      "execution_count": 0,
      "outputs": []
    },
    {
      "cell_type": "markdown",
      "metadata": {
        "id": "WwcpyiLejqNZ",
        "colab_type": "text"
      },
      "source": [
        "---\n",
        "\n",
        "### Exercise 6\n",
        "\n",
        "Create a new code cell by pressing the <img src=\"https://i.imgur.com/5o12Acw.png\" alt=\"Drawing\" width=\"50\"/> button in the top-left menu. Copy and paste the code from the previous cell in to the new cell, but modify the code to print 'The <b>second</b> line of code has been executed.'"
      ]
    },
    {
      "cell_type": "markdown",
      "metadata": {
        "id": "s0xZOcoXkZTJ",
        "colab_type": "text"
      },
      "source": [
        "---\n",
        "\n",
        "If you try to write non-code text into a code cell, it will probably cause an error because the computer is unable to match the text to commands that it knows how to execute."
      ]
    },
    {
      "cell_type": "code",
      "metadata": {
        "id": "jP-TsiCJjU9-",
        "colab_type": "code",
        "colab": {}
      },
      "source": [
        "This will cause an error."
      ],
      "execution_count": 0,
      "outputs": []
    },
    {
      "cell_type": "markdown",
      "metadata": {
        "id": "Hq2lVi67lNnt",
        "colab_type": "text"
      },
      "source": [
        "The error will even prevent valid code from running."
      ]
    },
    {
      "cell_type": "code",
      "metadata": {
        "id": "42gMO42slXLr",
        "colab_type": "code",
        "colab": {}
      },
      "source": [
        "This will cause an error.\n",
        "print('This will NOT print because of the error.')"
      ],
      "execution_count": 0,
      "outputs": []
    },
    {
      "cell_type": "markdown",
      "metadata": {
        "id": "Y9b3ODxTkzC6",
        "colab_type": "text"
      },
      "source": [
        "However, if you put a # symbol before the text, then the computer will know to ignore the text when executing commands. Such text is called a \"comment\" in the code. Comments are often used to explain what code does when it's not obvious from the code itself.\n",
        "\n"
      ]
    },
    {
      "cell_type": "code",
      "metadata": {
        "id": "NnocfpW6ksic",
        "colab_type": "code",
        "colab": {}
      },
      "source": [
        "#This will NOT cause an error.\n",
        "print('This WILL print because the computer knows to ignore the above text.') #This will not cause an error either!"
      ],
      "execution_count": 0,
      "outputs": []
    },
    {
      "cell_type": "markdown",
      "metadata": {
        "id": "qr9qhRtnmX4w",
        "colab_type": "text"
      },
      "source": [
        "---\n",
        "\n",
        "### Exercise 7\n",
        "\n",
        "As-is, the code below will not run because it contains computer-unreadable text. Try inserting a # symbol to comment out the text so that the code can run successfully."
      ]
    },
    {
      "cell_type": "code",
      "metadata": {
        "id": "y_pl5aNDmIyq",
        "colab_type": "code",
        "colab": {}
      },
      "source": [
        "This code prints out the first digit of a number.\n",
        "n=2**3*4 The number is 2 to the power of 3, times 4.\n",
        "print(str(n)[0]) We print out the first digit of the number.\n",
        "print('If this prints out, then the code ran successfully!')"
      ],
      "execution_count": 0,
      "outputs": []
    }
  ]
}