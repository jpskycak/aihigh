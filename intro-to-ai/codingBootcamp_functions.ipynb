{
  "nbformat": 4,
  "nbformat_minor": 0,
  "metadata": {
    "colab": {
      "name": "codingBootcamp_functions.ipynb",
      "version": "0.3.2",
      "provenance": [],
      "collapsed_sections": [],
      "toc_visible": true,
      "include_colab_link": true
    },
    "kernelspec": {
      "name": "python3",
      "display_name": "Python 3"
    }
  },
  "cells": [
    {
      "cell_type": "markdown",
      "metadata": {
        "id": "view-in-github",
        "colab_type": "text"
      },
      "source": [
        "<a href=\"https://colab.research.google.com/github/jpskycak/aihigh/blob/master/intro-to-ai/codingBootcamp_functions.ipynb\" target=\"_parent\"><img src=\"https://colab.research.google.com/assets/colab-badge.svg\" alt=\"Open In Colab\"/></a>"
      ]
    },
    {
      "cell_type": "markdown",
      "metadata": {
        "id": "D7c3mb1OQ3CN",
        "colab_type": "text"
      },
      "source": [
        "#Setup\n",
        "\n",
        "In order to run the notebook,\n",
        "\n",
        "1. sign into your Google account (top-right) and\n",
        "2. make a copy of the notebook in your Google Drive by pressing the <img src=\"https://i.imgur.com/chlzY9P.png\" alt=\"Drawing\" width=\"100\"/> button in the upper-left menu."
      ]
    },
    {
      "cell_type": "markdown",
      "metadata": {
        "id": "ZGkyQmniPrwy",
        "colab_type": "text"
      },
      "source": [
        "#Functions\n",
        "\n",
        "When programming, we sometimes create chunks of code that we intend to use more than once.\n",
        "\n",
        "Rather than duplicating such code each time we want to use it, it is more efficient to store the code in a <b>function</b>."
      ]
    },
    {
      "cell_type": "markdown",
      "metadata": {
        "id": "C5mf3EbDaPq2",
        "colab_type": "text"
      },
      "source": [
        "For example, suppose we wanted to find how many digits are in a number. One option would be to duplicate the following code each time we needed to use it:"
      ]
    },
    {
      "cell_type": "code",
      "metadata": {
        "id": "VDE-ctWtaOqQ",
        "colab_type": "code",
        "outputId": "623bbade-61f7-4917-cdd4-9da04539f615",
        "colab": {
          "base_uri": "https://localhost:8080/",
          "height": 34
        }
      },
      "source": [
        "n = 26647983324\n",
        "n_as_str = str(n) # turn the number into a string\n",
        "num_digits = len(n_as_str) # count how many characters in the string\n",
        "num_digits"
      ],
      "execution_count": 1,
      "outputs": [
        {
          "output_type": "execute_result",
          "data": {
            "text/plain": [
              "11"
            ]
          },
          "metadata": {
            "tags": []
          },
          "execution_count": 1
        }
      ]
    },
    {
      "cell_type": "markdown",
      "metadata": {
        "id": "vE3LAI9jYD6r",
        "colab_type": "text"
      },
      "source": [
        "A better option would be to define a function, using a `def <functionName>(<inputNames>):` statement followed by indented code which ends with a `return <outputValue>` statement."
      ]
    },
    {
      "cell_type": "code",
      "metadata": {
        "id": "yCbLNlpbZf87",
        "colab_type": "code",
        "colab": {}
      },
      "source": [
        "#simple function\n",
        "def number_of_digits(n):\n",
        "  n_as_str = str(n) # turn the number into a string\n",
        "  num_digits = len(n_as_str) # count how many characters in the string\n",
        "  return num_digits"
      ],
      "execution_count": 0,
      "outputs": []
    },
    {
      "cell_type": "markdown",
      "metadata": {
        "id": "-hybqqotnMaS",
        "colab_type": "text"
      },
      "source": [
        "This way, we can call the function on any number we want, whenever we want, without having to rewrite any code."
      ]
    },
    {
      "cell_type": "code",
      "metadata": {
        "id": "3pI7xyi7nRpY",
        "colab_type": "code",
        "colab": {
          "base_uri": "https://localhost:8080/",
          "height": 34
        },
        "outputId": "3627bfd8-db53-4e64-e5ff-3aa1f06c6339"
      },
      "source": [
        "number_of_digits(26647983324)"
      ],
      "execution_count": 3,
      "outputs": [
        {
          "output_type": "execute_result",
          "data": {
            "text/plain": [
              "11"
            ]
          },
          "metadata": {
            "tags": []
          },
          "execution_count": 3
        }
      ]
    },
    {
      "cell_type": "code",
      "metadata": {
        "id": "oe3CeRIUoK9P",
        "colab_type": "code",
        "colab": {
          "base_uri": "https://localhost:8080/",
          "height": 34
        },
        "outputId": "a5a55097-f9fa-4615-9c6c-cdcdda82544b"
      },
      "source": [
        "number_of_digits(123456789876543212345678987654321)"
      ],
      "execution_count": 4,
      "outputs": [
        {
          "output_type": "execute_result",
          "data": {
            "text/plain": [
              "33"
            ]
          },
          "metadata": {
            "tags": []
          },
          "execution_count": 4
        }
      ]
    },
    {
      "cell_type": "markdown",
      "metadata": {
        "id": "YHa3UaSVZZ4K",
        "colab_type": "text"
      },
      "source": [
        "Functions are especially useful when we want to perform more complicated operations, such as the one below."
      ]
    },
    {
      "cell_type": "code",
      "metadata": {
        "id": "GANF_D_uY3WR",
        "colab_type": "code",
        "colab": {}
      },
      "source": [
        "def add_digits(n):\n",
        "  n_as_str = str(n) # turn the number into a string\n",
        "  running_total = 0 # this will keep track of the sum of the digits; we'll add to it as we loop through the number string\n",
        "  for character in n_as_str:\n",
        "    digit = int(character) # turn digit string into an integer so we can add it to the running total \n",
        "    running_total += digit # increase the running total as appropriate\n",
        "  return running_total"
      ],
      "execution_count": 0,
      "outputs": []
    },
    {
      "cell_type": "code",
      "metadata": {
        "id": "UXTKAOHyoDw_",
        "colab_type": "code",
        "colab": {
          "base_uri": "https://localhost:8080/",
          "height": 34
        },
        "outputId": "d809e5c2-e96c-455e-bd10-e35829e4a63a"
      },
      "source": [
        "add_digits(123)"
      ],
      "execution_count": 6,
      "outputs": [
        {
          "output_type": "execute_result",
          "data": {
            "text/plain": [
              "6"
            ]
          },
          "metadata": {
            "tags": []
          },
          "execution_count": 6
        }
      ]
    },
    {
      "cell_type": "code",
      "metadata": {
        "id": "soQuOX7joOI3",
        "colab_type": "code",
        "colab": {
          "base_uri": "https://localhost:8080/",
          "height": 34
        },
        "outputId": "81e48740-0daf-4e4c-a8e7-01226b61b091"
      },
      "source": [
        "add_digits(26647983324)"
      ],
      "execution_count": 7,
      "outputs": [
        {
          "output_type": "execute_result",
          "data": {
            "text/plain": [
              "54"
            ]
          },
          "metadata": {
            "tags": []
          },
          "execution_count": 7
        }
      ]
    },
    {
      "cell_type": "markdown",
      "metadata": {
        "id": "fgXMSHGNoYnz",
        "colab_type": "text"
      },
      "source": [
        "<b>Exercise 1.</b> Create a function `count_zeros` that counts how many `0` digits are in a number, and use it to count how many zeros there are in $5^{5^5}$ (you should get a result of 222).\n",
        "\n",
        "If you have trouble, try first writing code to count the number of zeros in a simple number like $100101$. Then, you can generalize that code to any input number `n` and paste it into the body of the function."
      ]
    },
    {
      "cell_type": "code",
      "metadata": {
        "id": "cYyFHIGOEgR-",
        "colab_type": "code",
        "colab": {}
      },
      "source": [
        "def count_zeros(n):\n",
        "  #\n",
        "  # put your code here!\n",
        "  #\n",
        "  return n # change this to the value you wish to return"
      ],
      "execution_count": 0,
      "outputs": []
    },
    {
      "cell_type": "code",
      "metadata": {
        "id": "A6WrlmWkFjcJ",
        "colab_type": "code",
        "colab": {
          "base_uri": "https://localhost:8080/",
          "height": 54
        },
        "outputId": "56f4eee1-38aa-4e51-930a-b516eb69c736"
      },
      "source": [
        "count_zeros(5**5**5) # should come out to 222"
      ],
      "execution_count": 9,
      "outputs": [
        {
          "output_type": "execute_result",
          "data": {
            "text/plain": [
              "1911012597945477520356404559703964599198081048990094337139512789246520530242615803012059386519739850265586440155794462235359212788673806972288410146915986602087961896757195701839281660338047611225975533626101001482651123413147768252411493094447176965282756285196737514395357542479093219206641883011787169122552421070050709064674382870851449950256586194461543183511379849133691779928127433840431549236855526783596374102105331546031353725325748636909159778690328266459182983815230286936572873691422648131291743762136325730321645282979486862576245362218017673224940567642819360078720713837072355305446356153946401185348493792719514594505508232749221605848912910945189959948686199543147666938013037176163592594479746164220050885079469804487133205133160739134230540198872570038329801246050197013467397175909027389493923817315786996845899794781068042822436093783946335265422815704302832442385515082316490967285712171708123232790481817268327510112746782317410985888683708522000711733492253913322300756147180429007527677793352306200618286012455254243061006894805446584704820650982664319360960388736258510747074340636286976576702699258649953557976318173902550891331223294743930343956161328334072831663498258145226862004307799084688103804187368324800903873596212919633602583120781673673742533322879296907205490595621406888825991244581842379597863476484315673760923625090371511798941424262270220066286486867868710182980872802560693101949280830825044198424796792058908817112327192301455582916746795197430548026404646854002733993860798594465961501752586965811447568510041568687730903712482535343839285397598749458497050038225012489284001826590056251286187629938044407340142347062055785305325034918189589707199305662188512963187501743535960282201038211616048545121039313312256332260766436236688296850208839496142830484739113991669622649948563685234712873294796680884509405893951104650944137909502276545653133018670633521323028460519434381399810561400652595300731790772711065783494174642684720956134647327748584238274899668755052504394218232191357223054066715373374248543645663782045701654593218154053548393614250664498585403307466468541890148134347714650315037954175778622811776585876941680908203125"
            ]
          },
          "metadata": {
            "tags": []
          },
          "execution_count": 9
        }
      ]
    },
    {
      "cell_type": "markdown",
      "metadata": {
        "id": "TaVbML1qF3NW",
        "colab_type": "text"
      },
      "source": [
        "<b>Exercise 2.</b> Create a function `remove_numbers` that removes numbers from a string, and use it to remove the letters from the string `'567899876S5748797U89767654C7653C09C8655465765E65435423S979876S976643'` (you should get the result `SUCCESS`)."
      ]
    },
    {
      "cell_type": "code",
      "metadata": {
        "id": "b8GOi5v2Ky0L",
        "colab_type": "code",
        "colab": {}
      },
      "source": [
        "def remove_numbers(s):\n",
        "  #\n",
        "  # put your code here!\n",
        "  #\n",
        "  return s # change this to the value you wish to return"
      ],
      "execution_count": 0,
      "outputs": []
    },
    {
      "cell_type": "code",
      "metadata": {
        "id": "o3N-ANqNK8Cq",
        "colab_type": "code",
        "colab": {
          "base_uri": "https://localhost:8080/",
          "height": 34
        },
        "outputId": "339cae6f-f342-4466-c146-18d9a12f2ebd"
      },
      "source": [
        "remove_numbers('567899876S5748797U89767654C7653C09C8655465765E65435423S979876S976643') # should come out to 'SUCCESS'"
      ],
      "execution_count": 11,
      "outputs": [
        {
          "output_type": "execute_result",
          "data": {
            "text/plain": [
              "'567899876S5748797U89767654C7653C09C8655465765E65435423S979876S976643'"
            ]
          },
          "metadata": {
            "tags": []
          },
          "execution_count": 11
        }
      ]
    },
    {
      "cell_type": "markdown",
      "metadata": {
        "id": "7D3yjwtoGB_D",
        "colab_type": "text"
      },
      "source": [
        "<b>Exercise 3.</b> Create a function `make_id` that takes generates a random ID string consisting of `n_digits` randomly chosen digits followed by a dash and then `n_letters` randomly chosen letters. For example, `make_id(n_digits=3, n_letters=5)` could output the following ID: `'272-PRXDS'`.\n",
        "\n",
        "To do this, you may want to make use of NumPy's `rand` function, which returns a random number between 0 and 1. (You may have to manipulate this number a bit to get a random digit between 0 and 9 for the digits portion, or 1 and 26 for the letters portion.)"
      ]
    },
    {
      "cell_type": "code",
      "metadata": {
        "id": "FVZdmW47M1gQ",
        "colab_type": "code",
        "colab": {
          "base_uri": "https://localhost:8080/",
          "height": 34
        },
        "outputId": "3c890c02-5b07-4c81-d8f2-089d468dd7a8"
      },
      "source": [
        "import numpy\n",
        "numpy.random.rand()"
      ],
      "execution_count": 12,
      "outputs": [
        {
          "output_type": "execute_result",
          "data": {
            "text/plain": [
              "0.7082303166441092"
            ]
          },
          "metadata": {
            "tags": []
          },
          "execution_count": 12
        }
      ]
    },
    {
      "cell_type": "code",
      "metadata": {
        "id": "KFU7btpXNfcc",
        "colab_type": "code",
        "colab": {}
      },
      "source": [
        "def make_id(n_digits, n_letters):\n",
        "  #\n",
        "  # put your code here!\n",
        "  #\n",
        "  return [n_digits,n_letters] # change this to the value you wish to return"
      ],
      "execution_count": 0,
      "outputs": []
    },
    {
      "cell_type": "code",
      "metadata": {
        "id": "0xwUEhZJPBYv",
        "colab_type": "code",
        "colab": {
          "base_uri": "https://localhost:8080/",
          "height": 34
        },
        "outputId": "4b260df7-f3aa-414e-c390-871325bb1301"
      },
      "source": [
        "make_id(3,5)"
      ],
      "execution_count": 14,
      "outputs": [
        {
          "output_type": "execute_result",
          "data": {
            "text/plain": [
              "[3, 5]"
            ]
          },
          "metadata": {
            "tags": []
          },
          "execution_count": 14
        }
      ]
    },
    {
      "cell_type": "code",
      "metadata": {
        "id": "Ao5_PNzMPE-n",
        "colab_type": "code",
        "colab": {}
      },
      "source": [
        ""
      ],
      "execution_count": 0,
      "outputs": []
    }
  ]
}