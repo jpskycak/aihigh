{
  "nbformat": 4,
  "nbformat_minor": 0,
  "metadata": {
    "colab": {
      "name": "codingBootcamp_functions.ipynb",
      "version": "0.3.2",
      "provenance": [],
      "collapsed_sections": [],
      "toc_visible": true,
      "include_colab_link": true
    },
    "kernelspec": {
      "name": "python3",
      "display_name": "Python 3"
    }
  },
  "cells": [
    {
      "cell_type": "markdown",
      "metadata": {
        "id": "view-in-github",
        "colab_type": "text"
      },
      "source": [
        "<a href=\"https://colab.research.google.com/github/jpskycak/aihigh/blob/master/intro-to-ai/codingBootcamp_functions.ipynb\" target=\"_parent\"><img src=\"https://colab.research.google.com/assets/colab-badge.svg\" alt=\"Open In Colab\"/></a>"
      ]
    },
    {
      "cell_type": "markdown",
      "metadata": {
        "id": "D7c3mb1OQ3CN",
        "colab_type": "text"
      },
      "source": [
        "#Setup\n",
        "\n",
        "In order to run the notebook,\n",
        "\n",
        "1. sign into your Google account (top-right) and\n",
        "2. make a copy of the notebook in your Google Drive by pressing the <img src=\"https://i.imgur.com/chlzY9P.png\" alt=\"Drawing\" width=\"100\"/> button in the upper-left menu."
      ]
    },
    {
      "cell_type": "markdown",
      "metadata": {
        "id": "ZGkyQmniPrwy",
        "colab_type": "text"
      },
      "source": [
        "#Functions\n",
        "\n",
        "When programming, we sometimes create chunks of code that we intend to use more than once.\n",
        "\n",
        "Rather than duplicating such code each time we want to use it, it is more efficient to store the code in a <b>function</b>."
      ]
    },
    {
      "cell_type": "markdown",
      "metadata": {
        "id": "C5mf3EbDaPq2",
        "colab_type": "text"
      },
      "source": [
        "For example, suppose we wanted to find how many digits are in a number. One option would be to duplicate the following code each time we needed to use it:"
      ]
    },
    {
      "cell_type": "code",
      "metadata": {
        "id": "VDE-ctWtaOqQ",
        "colab_type": "code",
        "outputId": "b5f37108-7e82-4402-8cb5-c1ca55cefdd3",
        "colab": {
          "base_uri": "https://localhost:8080/",
          "height": 34
        }
      },
      "source": [
        "n = 26647983324\n",
        "n_as_str = str(n) # turn the number into a string\n",
        "num_digits = len(n_as_str) # count how many characters in the string\n",
        "num_digits"
      ],
      "execution_count": 0,
      "outputs": [
        {
          "output_type": "execute_result",
          "data": {
            "text/plain": [
              "11"
            ]
          },
          "metadata": {
            "tags": []
          },
          "execution_count": 4
        }
      ]
    },
    {
      "cell_type": "markdown",
      "metadata": {
        "id": "vE3LAI9jYD6r",
        "colab_type": "text"
      },
      "source": [
        "A better option would be to define a function, using a `def <functionName>(<inputNames>):` statement followed by indented code which ends with a `return <outputValue>` statement."
      ]
    },
    {
      "cell_type": "code",
      "metadata": {
        "id": "yCbLNlpbZf87",
        "colab_type": "code",
        "colab": {}
      },
      "source": [
        "#simple function\n",
        "def number_of_digits(n):\n",
        "  n_as_str = str(n) # turn the number into a string\n",
        "  num_digits = len(n_as_str) # count how many characters in the string\n",
        "  return num_digits"
      ],
      "execution_count": 0,
      "outputs": []
    },
    {
      "cell_type": "markdown",
      "metadata": {
        "id": "-hybqqotnMaS",
        "colab_type": "text"
      },
      "source": [
        "This way, we can call the function on any number we want, whenever we want, without having to rewrite any code."
      ]
    },
    {
      "cell_type": "code",
      "metadata": {
        "id": "3pI7xyi7nRpY",
        "colab_type": "code",
        "colab": {
          "base_uri": "https://localhost:8080/",
          "height": 34
        },
        "outputId": "3a7cd9e7-de5f-4111-9f75-ab40cd88531a"
      },
      "source": [
        "number_of_digits(26647983324)"
      ],
      "execution_count": 6,
      "outputs": [
        {
          "output_type": "execute_result",
          "data": {
            "text/plain": [
              "11"
            ]
          },
          "metadata": {
            "tags": []
          },
          "execution_count": 6
        }
      ]
    },
    {
      "cell_type": "code",
      "metadata": {
        "id": "oe3CeRIUoK9P",
        "colab_type": "code",
        "colab": {
          "base_uri": "https://localhost:8080/",
          "height": 34
        },
        "outputId": "604f033c-3bd7-4065-b811-d5f3f7362d7c"
      },
      "source": [
        "number_of_digits(123456789876543212345678987654321)"
      ],
      "execution_count": 10,
      "outputs": [
        {
          "output_type": "execute_result",
          "data": {
            "text/plain": [
              "33"
            ]
          },
          "metadata": {
            "tags": []
          },
          "execution_count": 10
        }
      ]
    },
    {
      "cell_type": "markdown",
      "metadata": {
        "id": "YHa3UaSVZZ4K",
        "colab_type": "text"
      },
      "source": [
        "Functions are especially useful when we want to perform more complicated operations, such as the one below."
      ]
    },
    {
      "cell_type": "code",
      "metadata": {
        "id": "GANF_D_uY3WR",
        "colab_type": "code",
        "colab": {}
      },
      "source": [
        "def add_digits(n):\n",
        "  n_as_str = str(n) # turn the number into a string\n",
        "  running_total = 0 # this will keep track of the sum of the digits; we'll add to it as we loop through the number string\n",
        "  for character in n_as_str:\n",
        "    digit = int(character) # turn digit string into an integer so we can add it to the running total \n",
        "    running_total += digit # increase the running total as appropriate\n",
        "  return running_total"
      ],
      "execution_count": 0,
      "outputs": []
    },
    {
      "cell_type": "code",
      "metadata": {
        "id": "UXTKAOHyoDw_",
        "colab_type": "code",
        "colab": {
          "base_uri": "https://localhost:8080/",
          "height": 34
        },
        "outputId": "842797cd-3636-48a6-d153-d6c7e5b7c1e3"
      },
      "source": [
        "add_digits(123)"
      ],
      "execution_count": 9,
      "outputs": [
        {
          "output_type": "execute_result",
          "data": {
            "text/plain": [
              "6"
            ]
          },
          "metadata": {
            "tags": []
          },
          "execution_count": 9
        }
      ]
    },
    {
      "cell_type": "code",
      "metadata": {
        "id": "soQuOX7joOI3",
        "colab_type": "code",
        "colab": {
          "base_uri": "https://localhost:8080/",
          "height": 34
        },
        "outputId": "f7b02a2d-95be-4d5c-fe24-134de29859fd"
      },
      "source": [
        "add_digits(26647983324)"
      ],
      "execution_count": 11,
      "outputs": [
        {
          "output_type": "execute_result",
          "data": {
            "text/plain": [
              "54"
            ]
          },
          "metadata": {
            "tags": []
          },
          "execution_count": 11
        }
      ]
    },
    {
      "cell_type": "markdown",
      "metadata": {
        "id": "fgXMSHGNoYnz",
        "colab_type": "text"
      },
      "source": [
        "<b>Exercise 1.</b> Create a function that counts how many `0` digits are in a number, and use it to count how many zeros there are in $5^{5^5}$ (you should get a result of 222).\n",
        "\n",
        "If you have trouble, try first writing code to count the number of zeros in a simple number like $100101$. Then, you can generalize that code to any input number `n` and paste it into the body of the function."
      ]
    },
    {
      "cell_type": "code",
      "metadata": {
        "id": "cYyFHIGOEgR-",
        "colab_type": "code",
        "colab": {}
      },
      "source": [
        "def count_zeros(n):\n",
        "  #\n",
        "  # put your code here!\n",
        "  #\n",
        "  # remember to end the function by returning the value you wish to output\n",
        "  pass # remove this"
      ],
      "execution_count": 0,
      "outputs": []
    },
    {
      "cell_type": "code",
      "metadata": {
        "id": "A6WrlmWkFjcJ",
        "colab_type": "code",
        "colab": {}
      },
      "source": [
        "count_zeros(5**5**5) # should come out to 222"
      ],
      "execution_count": 0,
      "outputs": []
    },
    {
      "cell_type": "markdown",
      "metadata": {
        "id": "TaVbML1qF3NW",
        "colab_type": "text"
      },
      "source": [
        "<b>Exercise 2.</b> Create a function that ..."
      ]
    },
    {
      "cell_type": "markdown",
      "metadata": {
        "id": "7D3yjwtoGB_D",
        "colab_type": "text"
      },
      "source": [
        "<b>Exercise 3.</b> Create a function that ..."
      ]
    },
    {
      "cell_type": "markdown",
      "metadata": {
        "id": "ymkDNB1YGDcZ",
        "colab_type": "text"
      },
      "source": [
        "<b>Exercise 4.</b> Create a function that ..."
      ]
    }
  ]
}